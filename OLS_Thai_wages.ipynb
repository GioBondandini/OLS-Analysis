{
 "cells": [
  {
   "cell_type": "markdown",
   "metadata": {},
   "source": [
    "The paper analyzes the 'engin' dataset, which encompasses data on a set of Thai workers. \n",
    "\n",
    "The variables for which information has been collected are:\n",
    " 1. male                             =1 if male\n",
    " 2. educ                             highest grade completed\n",
    " 3. wage                             monthly salary, Thai baht\n",
    " 4. swage                            starting wage\n",
    " 5. exper                            years on current job\n",
    " 6. pexper                           previous experience\n",
    " 7. lwage                            log(wage)\n",
    " 8. expersq                          exper^2\n",
    " 9. highgrad                         =1 if high school graduate\n",
    "10. college                          =1 if college graduate\n",
    "11. grad                             =1 if some graduate school\n",
    "12. polytech                         =1 if a polytech\n",
    "13. highdrop                         =1 if no high school degree\n",
    "14. lswage                           log(swage)\n",
    "15. pexpersq                         pexper^2\n",
    "16. mleeduc                          male*educ\n",
    "17. mleeduc0                         male*(educ - 14)\n",
    "\n",
    "\n",
    "Based on the variables provided in the dataset, you I conducted various analyses to explore relationships and patterns within the data.   \n",
    "Here some  analyses I performed on dataset:\n",
    "\n",
    "1. Descriptive Statistics:\n",
    "2. Correlation Analysis\n",
    "3. Gender-Based Analysis\n",
    "4. Experience Analysis\n",
    "5. Educational Level Analysis\n",
    "6. Educational Categories Analysis\n",
    "\n",
    "\n",
    "\n"
   ]
  },
  {
   "cell_type": "code",
   "execution_count": 3,
   "metadata": {},
   "outputs": [],
   "source": [
    "import pandas as pd\n",
    "import seaborn as sn\n",
    "import plotly.express as px\n",
    "from plotly.subplots import make_subplots\n",
    "import plotly.graph_objects as go\n",
    "import statsmodels.api as sm\n",
    "\n",
    "\n",
    "import matplotlib.pyplot as plt"
   ]
  },
  {
   "cell_type": "markdown",
   "metadata": {},
   "source": [
    "Let's read the file\n"
   ]
  },
  {
   "cell_type": "code",
   "execution_count": 4,
   "metadata": {},
   "outputs": [],
   "source": [
    "\n",
    "engin = pd.read_csv('C:/Users/giorg/Documents/Istruzione/Unito/Python/engin.csv')"
   ]
  },
  {
   "cell_type": "markdown",
   "metadata": {},
   "source": [
    "We now take a look at the structure of the dataframe"
   ]
  },
  {
   "cell_type": "code",
   "execution_count": 5,
   "metadata": {},
   "outputs": [
    {
     "data": {
      "text/html": [
       "<div>\n",
       "<style scoped>\n",
       "    .dataframe tbody tr th:only-of-type {\n",
       "        vertical-align: middle;\n",
       "    }\n",
       "\n",
       "    .dataframe tbody tr th {\n",
       "        vertical-align: top;\n",
       "    }\n",
       "\n",
       "    .dataframe thead th {\n",
       "        text-align: right;\n",
       "    }\n",
       "</style>\n",
       "<table border=\"1\" class=\"dataframe\">\n",
       "  <thead>\n",
       "    <tr style=\"text-align: right;\">\n",
       "      <th></th>\n",
       "      <th>male</th>\n",
       "      <th>educ</th>\n",
       "      <th>wage</th>\n",
       "      <th>swage</th>\n",
       "      <th>exper</th>\n",
       "      <th>pexper</th>\n",
       "      <th>lwage</th>\n",
       "      <th>expersq</th>\n",
       "      <th>highgrad</th>\n",
       "      <th>college</th>\n",
       "      <th>grad</th>\n",
       "      <th>polytech</th>\n",
       "      <th>highdrop</th>\n",
       "      <th>lswage</th>\n",
       "      <th>pexpersq</th>\n",
       "      <th>mleeduc</th>\n",
       "      <th>mleeduc0</th>\n",
       "    </tr>\n",
       "  </thead>\n",
       "  <tbody>\n",
       "    <tr>\n",
       "      <th>0</th>\n",
       "      <td>0</td>\n",
       "      <td>12</td>\n",
       "      <td>20400</td>\n",
       "      <td>11250</td>\n",
       "      <td>6</td>\n",
       "      <td>0</td>\n",
       "      <td>9.923290</td>\n",
       "      <td>36</td>\n",
       "      <td>1</td>\n",
       "      <td>0</td>\n",
       "      <td>0</td>\n",
       "      <td>0</td>\n",
       "      <td>0</td>\n",
       "      <td>9.328123</td>\n",
       "      <td>0</td>\n",
       "      <td>0</td>\n",
       "      <td>0</td>\n",
       "    </tr>\n",
       "    <tr>\n",
       "      <th>1</th>\n",
       "      <td>0</td>\n",
       "      <td>12</td>\n",
       "      <td>23850</td>\n",
       "      <td>12750</td>\n",
       "      <td>12</td>\n",
       "      <td>3</td>\n",
       "      <td>10.079540</td>\n",
       "      <td>144</td>\n",
       "      <td>1</td>\n",
       "      <td>0</td>\n",
       "      <td>0</td>\n",
       "      <td>0</td>\n",
       "      <td>0</td>\n",
       "      <td>9.453286</td>\n",
       "      <td>9</td>\n",
       "      <td>0</td>\n",
       "      <td>0</td>\n",
       "    </tr>\n",
       "    <tr>\n",
       "      <th>2</th>\n",
       "      <td>0</td>\n",
       "      <td>12</td>\n",
       "      <td>22800</td>\n",
       "      <td>11250</td>\n",
       "      <td>12</td>\n",
       "      <td>0</td>\n",
       "      <td>10.034520</td>\n",
       "      <td>144</td>\n",
       "      <td>1</td>\n",
       "      <td>0</td>\n",
       "      <td>0</td>\n",
       "      <td>0</td>\n",
       "      <td>0</td>\n",
       "      <td>9.328123</td>\n",
       "      <td>0</td>\n",
       "      <td>0</td>\n",
       "      <td>0</td>\n",
       "    </tr>\n",
       "    <tr>\n",
       "      <th>3</th>\n",
       "      <td>0</td>\n",
       "      <td>12</td>\n",
       "      <td>20700</td>\n",
       "      <td>11250</td>\n",
       "      <td>12</td>\n",
       "      <td>0</td>\n",
       "      <td>9.937889</td>\n",
       "      <td>144</td>\n",
       "      <td>1</td>\n",
       "      <td>0</td>\n",
       "      <td>0</td>\n",
       "      <td>0</td>\n",
       "      <td>0</td>\n",
       "      <td>9.328123</td>\n",
       "      <td>0</td>\n",
       "      <td>0</td>\n",
       "      <td>0</td>\n",
       "    </tr>\n",
       "    <tr>\n",
       "      <th>4</th>\n",
       "      <td>0</td>\n",
       "      <td>12</td>\n",
       "      <td>21300</td>\n",
       "      <td>11250</td>\n",
       "      <td>12</td>\n",
       "      <td>1</td>\n",
       "      <td>9.966462</td>\n",
       "      <td>144</td>\n",
       "      <td>1</td>\n",
       "      <td>0</td>\n",
       "      <td>0</td>\n",
       "      <td>0</td>\n",
       "      <td>0</td>\n",
       "      <td>9.328123</td>\n",
       "      <td>1</td>\n",
       "      <td>0</td>\n",
       "      <td>0</td>\n",
       "    </tr>\n",
       "  </tbody>\n",
       "</table>\n",
       "</div>"
      ],
      "text/plain": [
       "   male  educ   wage  swage  exper  pexper      lwage  expersq  highgrad  \\\n",
       "0     0    12  20400  11250      6       0   9.923290       36         1   \n",
       "1     0    12  23850  12750     12       3  10.079540      144         1   \n",
       "2     0    12  22800  11250     12       0  10.034520      144         1   \n",
       "3     0    12  20700  11250     12       0   9.937889      144         1   \n",
       "4     0    12  21300  11250     12       1   9.966462      144         1   \n",
       "\n",
       "   college  grad  polytech  highdrop    lswage  pexpersq  mleeduc  mleeduc0  \n",
       "0        0     0         0         0  9.328123         0        0         0  \n",
       "1        0     0         0         0  9.453286         9        0         0  \n",
       "2        0     0         0         0  9.328123         0        0         0  \n",
       "3        0     0         0         0  9.328123         0        0         0  \n",
       "4        0     0         0         0  9.328123         1        0         0  "
      ]
     },
     "execution_count": 5,
     "metadata": {},
     "output_type": "execute_result"
    }
   ],
   "source": [
    "engin.head()"
   ]
  },
  {
   "cell_type": "markdown",
   "metadata": {},
   "source": [
    "Here we count the number of variables and observations of encountered in the dataset\n"
   ]
  },
  {
   "cell_type": "code",
   "execution_count": 6,
   "metadata": {},
   "outputs": [
    {
     "data": {
      "text/plain": [
       "(403, 17)"
      ]
     },
     "execution_count": 6,
     "metadata": {},
     "output_type": "execute_result"
    }
   ],
   "source": [
    "engin.shape"
   ]
  },
  {
   "cell_type": "markdown",
   "metadata": {},
   "source": [
    "What types of variables are there in the dataset?\n"
   ]
  },
  {
   "cell_type": "code",
   "execution_count": 7,
   "metadata": {},
   "outputs": [
    {
     "data": {
      "text/plain": [
       "male          int64\n",
       "educ          int64\n",
       "wage          int64\n",
       "swage         int64\n",
       "exper         int64\n",
       "pexper        int64\n",
       "lwage       float64\n",
       "expersq       int64\n",
       "highgrad      int64\n",
       "college       int64\n",
       "grad          int64\n",
       "polytech      int64\n",
       "highdrop      int64\n",
       "lswage      float64\n",
       "pexpersq      int64\n",
       "mleeduc       int64\n",
       "mleeduc0      int64\n",
       "dtype: object"
      ]
     },
     "execution_count": 7,
     "metadata": {},
     "output_type": "execute_result"
    }
   ],
   "source": [
    "\n",
    "engin.dtypes"
   ]
  },
  {
   "cell_type": "code",
   "execution_count": 8,
   "metadata": {},
   "outputs": [
    {
     "name": "stdout",
     "output_type": "stream",
     "text": [
      "<class 'pandas.core.frame.DataFrame'>\n",
      "RangeIndex: 403 entries, 0 to 402\n",
      "Data columns (total 17 columns):\n",
      " #   Column    Non-Null Count  Dtype  \n",
      "---  ------    --------------  -----  \n",
      " 0   male      403 non-null    int64  \n",
      " 1   educ      403 non-null    int64  \n",
      " 2   wage      403 non-null    int64  \n",
      " 3   swage     403 non-null    int64  \n",
      " 4   exper     403 non-null    int64  \n",
      " 5   pexper    403 non-null    int64  \n",
      " 6   lwage     403 non-null    float64\n",
      " 7   expersq   403 non-null    int64  \n",
      " 8   highgrad  403 non-null    int64  \n",
      " 9   college   403 non-null    int64  \n",
      " 10  grad      403 non-null    int64  \n",
      " 11  polytech  403 non-null    int64  \n",
      " 12  highdrop  403 non-null    int64  \n",
      " 13  lswage    403 non-null    float64\n",
      " 14  pexpersq  403 non-null    int64  \n",
      " 15  mleeduc   403 non-null    int64  \n",
      " 16  mleeduc0  403 non-null    int64  \n",
      "dtypes: float64(2), int64(15)\n",
      "memory usage: 53.7 KB\n"
     ]
    }
   ],
   "source": [
    "engin.info()"
   ]
  },
  {
   "cell_type": "markdown",
   "metadata": {},
   "source": [
    "How many people in the df have an experience in their current job greater than 12 years?"
   ]
  },
  {
   "cell_type": "code",
   "execution_count": 9,
   "metadata": {},
   "outputs": [
    {
     "data": {
      "text/html": [
       "<div>\n",
       "<style scoped>\n",
       "    .dataframe tbody tr th:only-of-type {\n",
       "        vertical-align: middle;\n",
       "    }\n",
       "\n",
       "    .dataframe tbody tr th {\n",
       "        vertical-align: top;\n",
       "    }\n",
       "\n",
       "    .dataframe thead th {\n",
       "        text-align: right;\n",
       "    }\n",
       "</style>\n",
       "<table border=\"1\" class=\"dataframe\">\n",
       "  <thead>\n",
       "    <tr style=\"text-align: right;\">\n",
       "      <th></th>\n",
       "      <th>male</th>\n",
       "      <th>educ</th>\n",
       "      <th>wage</th>\n",
       "      <th>swage</th>\n",
       "      <th>exper</th>\n",
       "      <th>pexper</th>\n",
       "      <th>lwage</th>\n",
       "      <th>expersq</th>\n",
       "      <th>highgrad</th>\n",
       "      <th>college</th>\n",
       "      <th>grad</th>\n",
       "      <th>polytech</th>\n",
       "      <th>highdrop</th>\n",
       "      <th>lswage</th>\n",
       "      <th>pexpersq</th>\n",
       "      <th>mleeduc</th>\n",
       "      <th>mleeduc0</th>\n",
       "    </tr>\n",
       "  </thead>\n",
       "  <tbody>\n",
       "    <tr>\n",
       "      <th>57</th>\n",
       "      <td>0</td>\n",
       "      <td>12</td>\n",
       "      <td>24300</td>\n",
       "      <td>10950</td>\n",
       "      <td>16</td>\n",
       "      <td>1</td>\n",
       "      <td>10.09823</td>\n",
       "      <td>256</td>\n",
       "      <td>1</td>\n",
       "      <td>0</td>\n",
       "      <td>0</td>\n",
       "      <td>0</td>\n",
       "      <td>0</td>\n",
       "      <td>9.301095</td>\n",
       "      <td>1</td>\n",
       "      <td>0</td>\n",
       "      <td>0</td>\n",
       "    </tr>\n",
       "    <tr>\n",
       "      <th>58</th>\n",
       "      <td>0</td>\n",
       "      <td>12</td>\n",
       "      <td>24750</td>\n",
       "      <td>14250</td>\n",
       "      <td>16</td>\n",
       "      <td>34</td>\n",
       "      <td>10.11658</td>\n",
       "      <td>256</td>\n",
       "      <td>1</td>\n",
       "      <td>0</td>\n",
       "      <td>0</td>\n",
       "      <td>0</td>\n",
       "      <td>0</td>\n",
       "      <td>9.564512</td>\n",
       "      <td>1156</td>\n",
       "      <td>0</td>\n",
       "      <td>0</td>\n",
       "    </tr>\n",
       "    <tr>\n",
       "      <th>59</th>\n",
       "      <td>0</td>\n",
       "      <td>12</td>\n",
       "      <td>22950</td>\n",
       "      <td>11250</td>\n",
       "      <td>16</td>\n",
       "      <td>0</td>\n",
       "      <td>10.04107</td>\n",
       "      <td>256</td>\n",
       "      <td>1</td>\n",
       "      <td>0</td>\n",
       "      <td>0</td>\n",
       "      <td>0</td>\n",
       "      <td>0</td>\n",
       "      <td>9.328123</td>\n",
       "      <td>0</td>\n",
       "      <td>0</td>\n",
       "      <td>0</td>\n",
       "    </tr>\n",
       "    <tr>\n",
       "      <th>60</th>\n",
       "      <td>0</td>\n",
       "      <td>8</td>\n",
       "      <td>25050</td>\n",
       "      <td>10950</td>\n",
       "      <td>16</td>\n",
       "      <td>1</td>\n",
       "      <td>10.12863</td>\n",
       "      <td>256</td>\n",
       "      <td>0</td>\n",
       "      <td>0</td>\n",
       "      <td>0</td>\n",
       "      <td>0</td>\n",
       "      <td>1</td>\n",
       "      <td>9.301095</td>\n",
       "      <td>1</td>\n",
       "      <td>0</td>\n",
       "      <td>0</td>\n",
       "    </tr>\n",
       "    <tr>\n",
       "      <th>61</th>\n",
       "      <td>1</td>\n",
       "      <td>15</td>\n",
       "      <td>25950</td>\n",
       "      <td>17100</td>\n",
       "      <td>16</td>\n",
       "      <td>7</td>\n",
       "      <td>10.16393</td>\n",
       "      <td>256</td>\n",
       "      <td>0</td>\n",
       "      <td>0</td>\n",
       "      <td>0</td>\n",
       "      <td>1</td>\n",
       "      <td>0</td>\n",
       "      <td>9.746834</td>\n",
       "      <td>49</td>\n",
       "      <td>15</td>\n",
       "      <td>1</td>\n",
       "    </tr>\n",
       "  </tbody>\n",
       "</table>\n",
       "</div>"
      ],
      "text/plain": [
       "    male  educ   wage  swage  exper  pexper     lwage  expersq  highgrad  \\\n",
       "57     0    12  24300  10950     16       1  10.09823      256         1   \n",
       "58     0    12  24750  14250     16      34  10.11658      256         1   \n",
       "59     0    12  22950  11250     16       0  10.04107      256         1   \n",
       "60     0     8  25050  10950     16       1  10.12863      256         0   \n",
       "61     1    15  25950  17100     16       7  10.16393      256         0   \n",
       "\n",
       "    college  grad  polytech  highdrop    lswage  pexpersq  mleeduc  mleeduc0  \n",
       "57        0     0         0         0  9.301095         1        0         0  \n",
       "58        0     0         0         0  9.564512      1156        0         0  \n",
       "59        0     0         0         0  9.328123         0        0         0  \n",
       "60        0     0         0         1  9.301095         1        0         0  \n",
       "61        0     0         1         0  9.746834        49       15         1  "
      ]
     },
     "execution_count": 9,
     "metadata": {},
     "output_type": "execute_result"
    }
   ],
   "source": [
    "above_12 = engin[engin[\"exper\"] > 12]\n",
    "above_12.head()"
   ]
  },
  {
   "cell_type": "code",
   "execution_count": 10,
   "metadata": {},
   "outputs": [
    {
     "data": {
      "text/plain": [
       "(263, 17)"
      ]
     },
     "execution_count": 10,
     "metadata": {},
     "output_type": "execute_result"
    }
   ],
   "source": [
    "above_12.shape"
   ]
  },
  {
   "cell_type": "markdown",
   "metadata": {},
   "source": [
    "How many people in the df have a previous job experience greater than 7 years?"
   ]
  },
  {
   "cell_type": "code",
   "execution_count": 11,
   "metadata": {},
   "outputs": [
    {
     "data": {
      "text/plain": [
       "(222, 17)"
      ]
     },
     "execution_count": 11,
     "metadata": {},
     "output_type": "execute_result"
    }
   ],
   "source": [
    "above_7 = engin[engin[\"pexper\"] > 7]\n",
    "above_7.shape"
   ]
  },
  {
   "cell_type": "markdown",
   "metadata": {},
   "source": [
    "As can be observed from the data, a significant portion of the workers in the dataset has been working in their current job for a long time and has many years of experience in their previous job.\n",
    "We want to add a column for \"female\" variable:"
   ]
  },
  {
   "cell_type": "code",
   "execution_count": 12,
   "metadata": {},
   "outputs": [
    {
     "data": {
      "text/html": [
       "<div>\n",
       "<style scoped>\n",
       "    .dataframe tbody tr th:only-of-type {\n",
       "        vertical-align: middle;\n",
       "    }\n",
       "\n",
       "    .dataframe tbody tr th {\n",
       "        vertical-align: top;\n",
       "    }\n",
       "\n",
       "    .dataframe thead th {\n",
       "        text-align: right;\n",
       "    }\n",
       "</style>\n",
       "<table border=\"1\" class=\"dataframe\">\n",
       "  <thead>\n",
       "    <tr style=\"text-align: right;\">\n",
       "      <th></th>\n",
       "      <th>male</th>\n",
       "      <th>educ</th>\n",
       "      <th>wage</th>\n",
       "      <th>swage</th>\n",
       "      <th>exper</th>\n",
       "      <th>pexper</th>\n",
       "      <th>lwage</th>\n",
       "      <th>expersq</th>\n",
       "      <th>highgrad</th>\n",
       "      <th>college</th>\n",
       "      <th>grad</th>\n",
       "      <th>polytech</th>\n",
       "      <th>highdrop</th>\n",
       "      <th>lswage</th>\n",
       "      <th>pexpersq</th>\n",
       "      <th>mleeduc</th>\n",
       "      <th>mleeduc0</th>\n",
       "      <th>female</th>\n",
       "    </tr>\n",
       "  </thead>\n",
       "  <tbody>\n",
       "    <tr>\n",
       "      <th>0</th>\n",
       "      <td>0</td>\n",
       "      <td>12</td>\n",
       "      <td>20400</td>\n",
       "      <td>11250</td>\n",
       "      <td>6</td>\n",
       "      <td>0</td>\n",
       "      <td>9.923290</td>\n",
       "      <td>36</td>\n",
       "      <td>1</td>\n",
       "      <td>0</td>\n",
       "      <td>0</td>\n",
       "      <td>0</td>\n",
       "      <td>0</td>\n",
       "      <td>9.328123</td>\n",
       "      <td>0</td>\n",
       "      <td>0</td>\n",
       "      <td>0</td>\n",
       "      <td>1</td>\n",
       "    </tr>\n",
       "    <tr>\n",
       "      <th>1</th>\n",
       "      <td>0</td>\n",
       "      <td>12</td>\n",
       "      <td>23850</td>\n",
       "      <td>12750</td>\n",
       "      <td>12</td>\n",
       "      <td>3</td>\n",
       "      <td>10.079540</td>\n",
       "      <td>144</td>\n",
       "      <td>1</td>\n",
       "      <td>0</td>\n",
       "      <td>0</td>\n",
       "      <td>0</td>\n",
       "      <td>0</td>\n",
       "      <td>9.453286</td>\n",
       "      <td>9</td>\n",
       "      <td>0</td>\n",
       "      <td>0</td>\n",
       "      <td>1</td>\n",
       "    </tr>\n",
       "    <tr>\n",
       "      <th>2</th>\n",
       "      <td>0</td>\n",
       "      <td>12</td>\n",
       "      <td>22800</td>\n",
       "      <td>11250</td>\n",
       "      <td>12</td>\n",
       "      <td>0</td>\n",
       "      <td>10.034520</td>\n",
       "      <td>144</td>\n",
       "      <td>1</td>\n",
       "      <td>0</td>\n",
       "      <td>0</td>\n",
       "      <td>0</td>\n",
       "      <td>0</td>\n",
       "      <td>9.328123</td>\n",
       "      <td>0</td>\n",
       "      <td>0</td>\n",
       "      <td>0</td>\n",
       "      <td>1</td>\n",
       "    </tr>\n",
       "    <tr>\n",
       "      <th>3</th>\n",
       "      <td>0</td>\n",
       "      <td>12</td>\n",
       "      <td>20700</td>\n",
       "      <td>11250</td>\n",
       "      <td>12</td>\n",
       "      <td>0</td>\n",
       "      <td>9.937889</td>\n",
       "      <td>144</td>\n",
       "      <td>1</td>\n",
       "      <td>0</td>\n",
       "      <td>0</td>\n",
       "      <td>0</td>\n",
       "      <td>0</td>\n",
       "      <td>9.328123</td>\n",
       "      <td>0</td>\n",
       "      <td>0</td>\n",
       "      <td>0</td>\n",
       "      <td>1</td>\n",
       "    </tr>\n",
       "    <tr>\n",
       "      <th>4</th>\n",
       "      <td>0</td>\n",
       "      <td>12</td>\n",
       "      <td>21300</td>\n",
       "      <td>11250</td>\n",
       "      <td>12</td>\n",
       "      <td>1</td>\n",
       "      <td>9.966462</td>\n",
       "      <td>144</td>\n",
       "      <td>1</td>\n",
       "      <td>0</td>\n",
       "      <td>0</td>\n",
       "      <td>0</td>\n",
       "      <td>0</td>\n",
       "      <td>9.328123</td>\n",
       "      <td>1</td>\n",
       "      <td>0</td>\n",
       "      <td>0</td>\n",
       "      <td>1</td>\n",
       "    </tr>\n",
       "    <tr>\n",
       "      <th>...</th>\n",
       "      <td>...</td>\n",
       "      <td>...</td>\n",
       "      <td>...</td>\n",
       "      <td>...</td>\n",
       "      <td>...</td>\n",
       "      <td>...</td>\n",
       "      <td>...</td>\n",
       "      <td>...</td>\n",
       "      <td>...</td>\n",
       "      <td>...</td>\n",
       "      <td>...</td>\n",
       "      <td>...</td>\n",
       "      <td>...</td>\n",
       "      <td>...</td>\n",
       "      <td>...</td>\n",
       "      <td>...</td>\n",
       "      <td>...</td>\n",
       "      <td>...</td>\n",
       "    </tr>\n",
       "    <tr>\n",
       "      <th>398</th>\n",
       "      <td>1</td>\n",
       "      <td>16</td>\n",
       "      <td>43650</td>\n",
       "      <td>19500</td>\n",
       "      <td>11</td>\n",
       "      <td>3</td>\n",
       "      <td>10.683960</td>\n",
       "      <td>121</td>\n",
       "      <td>0</td>\n",
       "      <td>1</td>\n",
       "      <td>0</td>\n",
       "      <td>0</td>\n",
       "      <td>0</td>\n",
       "      <td>9.878170</td>\n",
       "      <td>9</td>\n",
       "      <td>16</td>\n",
       "      <td>2</td>\n",
       "      <td>0</td>\n",
       "    </tr>\n",
       "    <tr>\n",
       "      <th>399</th>\n",
       "      <td>1</td>\n",
       "      <td>19</td>\n",
       "      <td>75000</td>\n",
       "      <td>42510</td>\n",
       "      <td>11</td>\n",
       "      <td>9</td>\n",
       "      <td>11.225240</td>\n",
       "      <td>121</td>\n",
       "      <td>0</td>\n",
       "      <td>0</td>\n",
       "      <td>1</td>\n",
       "      <td>0</td>\n",
       "      <td>0</td>\n",
       "      <td>10.657490</td>\n",
       "      <td>81</td>\n",
       "      <td>19</td>\n",
       "      <td>5</td>\n",
       "      <td>0</td>\n",
       "    </tr>\n",
       "    <tr>\n",
       "      <th>400</th>\n",
       "      <td>1</td>\n",
       "      <td>15</td>\n",
       "      <td>31650</td>\n",
       "      <td>14250</td>\n",
       "      <td>11</td>\n",
       "      <td>2</td>\n",
       "      <td>10.362490</td>\n",
       "      <td>121</td>\n",
       "      <td>0</td>\n",
       "      <td>0</td>\n",
       "      <td>0</td>\n",
       "      <td>1</td>\n",
       "      <td>0</td>\n",
       "      <td>9.564512</td>\n",
       "      <td>4</td>\n",
       "      <td>15</td>\n",
       "      <td>1</td>\n",
       "      <td>0</td>\n",
       "    </tr>\n",
       "    <tr>\n",
       "      <th>401</th>\n",
       "      <td>1</td>\n",
       "      <td>19</td>\n",
       "      <td>61875</td>\n",
       "      <td>28740</td>\n",
       "      <td>11</td>\n",
       "      <td>5</td>\n",
       "      <td>11.032870</td>\n",
       "      <td>121</td>\n",
       "      <td>0</td>\n",
       "      <td>0</td>\n",
       "      <td>1</td>\n",
       "      <td>0</td>\n",
       "      <td>0</td>\n",
       "      <td>10.266050</td>\n",
       "      <td>25</td>\n",
       "      <td>19</td>\n",
       "      <td>5</td>\n",
       "      <td>0</td>\n",
       "    </tr>\n",
       "    <tr>\n",
       "      <th>402</th>\n",
       "      <td>0</td>\n",
       "      <td>12</td>\n",
       "      <td>21750</td>\n",
       "      <td>11250</td>\n",
       "      <td>11</td>\n",
       "      <td>0</td>\n",
       "      <td>9.987369</td>\n",
       "      <td>121</td>\n",
       "      <td>1</td>\n",
       "      <td>0</td>\n",
       "      <td>0</td>\n",
       "      <td>0</td>\n",
       "      <td>0</td>\n",
       "      <td>9.328123</td>\n",
       "      <td>0</td>\n",
       "      <td>0</td>\n",
       "      <td>0</td>\n",
       "      <td>1</td>\n",
       "    </tr>\n",
       "  </tbody>\n",
       "</table>\n",
       "<p>403 rows × 18 columns</p>\n",
       "</div>"
      ],
      "text/plain": [
       "     male  educ   wage  swage  exper  pexper      lwage  expersq  highgrad  \\\n",
       "0       0    12  20400  11250      6       0   9.923290       36         1   \n",
       "1       0    12  23850  12750     12       3  10.079540      144         1   \n",
       "2       0    12  22800  11250     12       0  10.034520      144         1   \n",
       "3       0    12  20700  11250     12       0   9.937889      144         1   \n",
       "4       0    12  21300  11250     12       1   9.966462      144         1   \n",
       "..    ...   ...    ...    ...    ...     ...        ...      ...       ...   \n",
       "398     1    16  43650  19500     11       3  10.683960      121         0   \n",
       "399     1    19  75000  42510     11       9  11.225240      121         0   \n",
       "400     1    15  31650  14250     11       2  10.362490      121         0   \n",
       "401     1    19  61875  28740     11       5  11.032870      121         0   \n",
       "402     0    12  21750  11250     11       0   9.987369      121         1   \n",
       "\n",
       "     college  grad  polytech  highdrop     lswage  pexpersq  mleeduc  \\\n",
       "0          0     0         0         0   9.328123         0        0   \n",
       "1          0     0         0         0   9.453286         9        0   \n",
       "2          0     0         0         0   9.328123         0        0   \n",
       "3          0     0         0         0   9.328123         0        0   \n",
       "4          0     0         0         0   9.328123         1        0   \n",
       "..       ...   ...       ...       ...        ...       ...      ...   \n",
       "398        1     0         0         0   9.878170         9       16   \n",
       "399        0     1         0         0  10.657490        81       19   \n",
       "400        0     0         1         0   9.564512         4       15   \n",
       "401        0     1         0         0  10.266050        25       19   \n",
       "402        0     0         0         0   9.328123         0        0   \n",
       "\n",
       "     mleeduc0  female  \n",
       "0           0       1  \n",
       "1           0       1  \n",
       "2           0       1  \n",
       "3           0       1  \n",
       "4           0       1  \n",
       "..        ...     ...  \n",
       "398         2       0  \n",
       "399         5       0  \n",
       "400         1       0  \n",
       "401         5       0  \n",
       "402         0       1  \n",
       "\n",
       "[403 rows x 18 columns]"
      ]
     },
     "execution_count": 12,
     "metadata": {},
     "output_type": "execute_result"
    }
   ],
   "source": [
    "\n",
    "def convertitore(boolean):\n",
    "    return 0 if boolean==1 else 1\n",
    "\n",
    "engin[\"female\"] = engin.male.apply(convertitore)\n",
    "engin\n"
   ]
  },
  {
   "cell_type": "code",
   "execution_count": 13,
   "metadata": {},
   "outputs": [
    {
     "data": {
      "text/html": [
       "<div>\n",
       "<style scoped>\n",
       "    .dataframe tbody tr th:only-of-type {\n",
       "        vertical-align: middle;\n",
       "    }\n",
       "\n",
       "    .dataframe tbody tr th {\n",
       "        vertical-align: top;\n",
       "    }\n",
       "\n",
       "    .dataframe thead th {\n",
       "        text-align: right;\n",
       "    }\n",
       "</style>\n",
       "<table border=\"1\" class=\"dataframe\">\n",
       "  <thead>\n",
       "    <tr style=\"text-align: right;\">\n",
       "      <th></th>\n",
       "      <th>male</th>\n",
       "      <th>educ</th>\n",
       "      <th>wage</th>\n",
       "      <th>swage</th>\n",
       "      <th>exper</th>\n",
       "      <th>pexper</th>\n",
       "      <th>lwage</th>\n",
       "      <th>expersq</th>\n",
       "      <th>highgrad</th>\n",
       "      <th>college</th>\n",
       "      <th>grad</th>\n",
       "      <th>polytech</th>\n",
       "      <th>highdrop</th>\n",
       "      <th>lswage</th>\n",
       "      <th>pexpersq</th>\n",
       "      <th>mleeduc</th>\n",
       "      <th>mleeduc0</th>\n",
       "      <th>female</th>\n",
       "      <th>sex</th>\n",
       "    </tr>\n",
       "  </thead>\n",
       "  <tbody>\n",
       "    <tr>\n",
       "      <th>0</th>\n",
       "      <td>0</td>\n",
       "      <td>12</td>\n",
       "      <td>20400</td>\n",
       "      <td>11250</td>\n",
       "      <td>6</td>\n",
       "      <td>0</td>\n",
       "      <td>9.923290</td>\n",
       "      <td>36</td>\n",
       "      <td>1</td>\n",
       "      <td>0</td>\n",
       "      <td>0</td>\n",
       "      <td>0</td>\n",
       "      <td>0</td>\n",
       "      <td>9.328123</td>\n",
       "      <td>0</td>\n",
       "      <td>0</td>\n",
       "      <td>0</td>\n",
       "      <td>1</td>\n",
       "      <td>female</td>\n",
       "    </tr>\n",
       "    <tr>\n",
       "      <th>1</th>\n",
       "      <td>0</td>\n",
       "      <td>12</td>\n",
       "      <td>23850</td>\n",
       "      <td>12750</td>\n",
       "      <td>12</td>\n",
       "      <td>3</td>\n",
       "      <td>10.079540</td>\n",
       "      <td>144</td>\n",
       "      <td>1</td>\n",
       "      <td>0</td>\n",
       "      <td>0</td>\n",
       "      <td>0</td>\n",
       "      <td>0</td>\n",
       "      <td>9.453286</td>\n",
       "      <td>9</td>\n",
       "      <td>0</td>\n",
       "      <td>0</td>\n",
       "      <td>1</td>\n",
       "      <td>female</td>\n",
       "    </tr>\n",
       "    <tr>\n",
       "      <th>2</th>\n",
       "      <td>0</td>\n",
       "      <td>12</td>\n",
       "      <td>22800</td>\n",
       "      <td>11250</td>\n",
       "      <td>12</td>\n",
       "      <td>0</td>\n",
       "      <td>10.034520</td>\n",
       "      <td>144</td>\n",
       "      <td>1</td>\n",
       "      <td>0</td>\n",
       "      <td>0</td>\n",
       "      <td>0</td>\n",
       "      <td>0</td>\n",
       "      <td>9.328123</td>\n",
       "      <td>0</td>\n",
       "      <td>0</td>\n",
       "      <td>0</td>\n",
       "      <td>1</td>\n",
       "      <td>female</td>\n",
       "    </tr>\n",
       "    <tr>\n",
       "      <th>3</th>\n",
       "      <td>0</td>\n",
       "      <td>12</td>\n",
       "      <td>20700</td>\n",
       "      <td>11250</td>\n",
       "      <td>12</td>\n",
       "      <td>0</td>\n",
       "      <td>9.937889</td>\n",
       "      <td>144</td>\n",
       "      <td>1</td>\n",
       "      <td>0</td>\n",
       "      <td>0</td>\n",
       "      <td>0</td>\n",
       "      <td>0</td>\n",
       "      <td>9.328123</td>\n",
       "      <td>0</td>\n",
       "      <td>0</td>\n",
       "      <td>0</td>\n",
       "      <td>1</td>\n",
       "      <td>female</td>\n",
       "    </tr>\n",
       "    <tr>\n",
       "      <th>4</th>\n",
       "      <td>0</td>\n",
       "      <td>12</td>\n",
       "      <td>21300</td>\n",
       "      <td>11250</td>\n",
       "      <td>12</td>\n",
       "      <td>1</td>\n",
       "      <td>9.966462</td>\n",
       "      <td>144</td>\n",
       "      <td>1</td>\n",
       "      <td>0</td>\n",
       "      <td>0</td>\n",
       "      <td>0</td>\n",
       "      <td>0</td>\n",
       "      <td>9.328123</td>\n",
       "      <td>1</td>\n",
       "      <td>0</td>\n",
       "      <td>0</td>\n",
       "      <td>1</td>\n",
       "      <td>female</td>\n",
       "    </tr>\n",
       "    <tr>\n",
       "      <th>...</th>\n",
       "      <td>...</td>\n",
       "      <td>...</td>\n",
       "      <td>...</td>\n",
       "      <td>...</td>\n",
       "      <td>...</td>\n",
       "      <td>...</td>\n",
       "      <td>...</td>\n",
       "      <td>...</td>\n",
       "      <td>...</td>\n",
       "      <td>...</td>\n",
       "      <td>...</td>\n",
       "      <td>...</td>\n",
       "      <td>...</td>\n",
       "      <td>...</td>\n",
       "      <td>...</td>\n",
       "      <td>...</td>\n",
       "      <td>...</td>\n",
       "      <td>...</td>\n",
       "      <td>...</td>\n",
       "    </tr>\n",
       "    <tr>\n",
       "      <th>398</th>\n",
       "      <td>1</td>\n",
       "      <td>16</td>\n",
       "      <td>43650</td>\n",
       "      <td>19500</td>\n",
       "      <td>11</td>\n",
       "      <td>3</td>\n",
       "      <td>10.683960</td>\n",
       "      <td>121</td>\n",
       "      <td>0</td>\n",
       "      <td>1</td>\n",
       "      <td>0</td>\n",
       "      <td>0</td>\n",
       "      <td>0</td>\n",
       "      <td>9.878170</td>\n",
       "      <td>9</td>\n",
       "      <td>16</td>\n",
       "      <td>2</td>\n",
       "      <td>0</td>\n",
       "      <td>male</td>\n",
       "    </tr>\n",
       "    <tr>\n",
       "      <th>399</th>\n",
       "      <td>1</td>\n",
       "      <td>19</td>\n",
       "      <td>75000</td>\n",
       "      <td>42510</td>\n",
       "      <td>11</td>\n",
       "      <td>9</td>\n",
       "      <td>11.225240</td>\n",
       "      <td>121</td>\n",
       "      <td>0</td>\n",
       "      <td>0</td>\n",
       "      <td>1</td>\n",
       "      <td>0</td>\n",
       "      <td>0</td>\n",
       "      <td>10.657490</td>\n",
       "      <td>81</td>\n",
       "      <td>19</td>\n",
       "      <td>5</td>\n",
       "      <td>0</td>\n",
       "      <td>male</td>\n",
       "    </tr>\n",
       "    <tr>\n",
       "      <th>400</th>\n",
       "      <td>1</td>\n",
       "      <td>15</td>\n",
       "      <td>31650</td>\n",
       "      <td>14250</td>\n",
       "      <td>11</td>\n",
       "      <td>2</td>\n",
       "      <td>10.362490</td>\n",
       "      <td>121</td>\n",
       "      <td>0</td>\n",
       "      <td>0</td>\n",
       "      <td>0</td>\n",
       "      <td>1</td>\n",
       "      <td>0</td>\n",
       "      <td>9.564512</td>\n",
       "      <td>4</td>\n",
       "      <td>15</td>\n",
       "      <td>1</td>\n",
       "      <td>0</td>\n",
       "      <td>male</td>\n",
       "    </tr>\n",
       "    <tr>\n",
       "      <th>401</th>\n",
       "      <td>1</td>\n",
       "      <td>19</td>\n",
       "      <td>61875</td>\n",
       "      <td>28740</td>\n",
       "      <td>11</td>\n",
       "      <td>5</td>\n",
       "      <td>11.032870</td>\n",
       "      <td>121</td>\n",
       "      <td>0</td>\n",
       "      <td>0</td>\n",
       "      <td>1</td>\n",
       "      <td>0</td>\n",
       "      <td>0</td>\n",
       "      <td>10.266050</td>\n",
       "      <td>25</td>\n",
       "      <td>19</td>\n",
       "      <td>5</td>\n",
       "      <td>0</td>\n",
       "      <td>male</td>\n",
       "    </tr>\n",
       "    <tr>\n",
       "      <th>402</th>\n",
       "      <td>0</td>\n",
       "      <td>12</td>\n",
       "      <td>21750</td>\n",
       "      <td>11250</td>\n",
       "      <td>11</td>\n",
       "      <td>0</td>\n",
       "      <td>9.987369</td>\n",
       "      <td>121</td>\n",
       "      <td>1</td>\n",
       "      <td>0</td>\n",
       "      <td>0</td>\n",
       "      <td>0</td>\n",
       "      <td>0</td>\n",
       "      <td>9.328123</td>\n",
       "      <td>0</td>\n",
       "      <td>0</td>\n",
       "      <td>0</td>\n",
       "      <td>1</td>\n",
       "      <td>female</td>\n",
       "    </tr>\n",
       "  </tbody>\n",
       "</table>\n",
       "<p>403 rows × 19 columns</p>\n",
       "</div>"
      ],
      "text/plain": [
       "     male  educ   wage  swage  exper  pexper      lwage  expersq  highgrad  \\\n",
       "0       0    12  20400  11250      6       0   9.923290       36         1   \n",
       "1       0    12  23850  12750     12       3  10.079540      144         1   \n",
       "2       0    12  22800  11250     12       0  10.034520      144         1   \n",
       "3       0    12  20700  11250     12       0   9.937889      144         1   \n",
       "4       0    12  21300  11250     12       1   9.966462      144         1   \n",
       "..    ...   ...    ...    ...    ...     ...        ...      ...       ...   \n",
       "398     1    16  43650  19500     11       3  10.683960      121         0   \n",
       "399     1    19  75000  42510     11       9  11.225240      121         0   \n",
       "400     1    15  31650  14250     11       2  10.362490      121         0   \n",
       "401     1    19  61875  28740     11       5  11.032870      121         0   \n",
       "402     0    12  21750  11250     11       0   9.987369      121         1   \n",
       "\n",
       "     college  grad  polytech  highdrop     lswage  pexpersq  mleeduc  \\\n",
       "0          0     0         0         0   9.328123         0        0   \n",
       "1          0     0         0         0   9.453286         9        0   \n",
       "2          0     0         0         0   9.328123         0        0   \n",
       "3          0     0         0         0   9.328123         0        0   \n",
       "4          0     0         0         0   9.328123         1        0   \n",
       "..       ...   ...       ...       ...        ...       ...      ...   \n",
       "398        1     0         0         0   9.878170         9       16   \n",
       "399        0     1         0         0  10.657490        81       19   \n",
       "400        0     0         1         0   9.564512         4       15   \n",
       "401        0     1         0         0  10.266050        25       19   \n",
       "402        0     0         0         0   9.328123         0        0   \n",
       "\n",
       "     mleeduc0  female     sex  \n",
       "0           0       1  female  \n",
       "1           0       1  female  \n",
       "2           0       1  female  \n",
       "3           0       1  female  \n",
       "4           0       1  female  \n",
       "..        ...     ...     ...  \n",
       "398         2       0    male  \n",
       "399         5       0    male  \n",
       "400         1       0    male  \n",
       "401         5       0    male  \n",
       "402         0       1  female  \n",
       "\n",
       "[403 rows x 19 columns]"
      ]
     },
     "execution_count": 13,
     "metadata": {},
     "output_type": "execute_result"
    }
   ],
   "source": [
    "engin[\"sex\"] =pd.from_dummies(engin[[\"male\", \"female\"]])\n",
    "engin\n"
   ]
  },
  {
   "cell_type": "markdown",
   "metadata": {},
   "source": [
    "Let's now study the distribution of salaries in the dataset:"
   ]
  },
  {
   "cell_type": "code",
   "execution_count": 14,
   "metadata": {},
   "outputs": [
    {
     "data": {
      "text/plain": [
       "<Axes: xlabel='wage', ylabel='Count'>"
      ]
     },
     "execution_count": 14,
     "metadata": {},
     "output_type": "execute_result"
    },
    {
     "data": {
      "image/png": "[encoded data removed]",
      "text/plain": [
       "<Figure size 640x480 with 1 Axes>"
      ]
     },
     "metadata": {},
     "output_type": "display_data"
    }
   ],
   "source": [
    "sn.histplot(data=engin[\"wage\"])"
   ]
  },
  {
   "cell_type": "markdown",
   "metadata": {},
   "source": [
    "What is the absolute highest salary in the dataset? And to whom does it belong?"
   ]
  },
  {
   "cell_type": "code",
   "execution_count": 15,
   "metadata": {},
   "outputs": [
    {
     "data": {
      "text/html": [
       "<div>\n",
       "<style scoped>\n",
       "    .dataframe tbody tr th:only-of-type {\n",
       "        vertical-align: middle;\n",
       "    }\n",
       "\n",
       "    .dataframe tbody tr th {\n",
       "        vertical-align: top;\n",
       "    }\n",
       "\n",
       "    .dataframe thead th {\n",
       "        text-align: right;\n",
       "    }\n",
       "</style>\n",
       "<table border=\"1\" class=\"dataframe\">\n",
       "  <thead>\n",
       "    <tr style=\"text-align: right;\">\n",
       "      <th></th>\n",
       "      <th>male</th>\n",
       "      <th>educ</th>\n",
       "      <th>wage</th>\n",
       "      <th>swage</th>\n",
       "      <th>exper</th>\n",
       "      <th>pexper</th>\n",
       "      <th>lwage</th>\n",
       "      <th>expersq</th>\n",
       "      <th>highgrad</th>\n",
       "      <th>college</th>\n",
       "      <th>grad</th>\n",
       "      <th>polytech</th>\n",
       "      <th>highdrop</th>\n",
       "      <th>lswage</th>\n",
       "      <th>pexpersq</th>\n",
       "      <th>mleeduc</th>\n",
       "      <th>mleeduc0</th>\n",
       "      <th>female</th>\n",
       "      <th>sex</th>\n",
       "    </tr>\n",
       "  </thead>\n",
       "  <tbody>\n",
       "    <tr>\n",
       "      <th>90</th>\n",
       "      <td>1</td>\n",
       "      <td>16</td>\n",
       "      <td>103750</td>\n",
       "      <td>27510</td>\n",
       "      <td>17</td>\n",
       "      <td>12</td>\n",
       "      <td>11.54974</td>\n",
       "      <td>289</td>\n",
       "      <td>0</td>\n",
       "      <td>1</td>\n",
       "      <td>0</td>\n",
       "      <td>0</td>\n",
       "      <td>0</td>\n",
       "      <td>10.22231</td>\n",
       "      <td>144</td>\n",
       "      <td>16</td>\n",
       "      <td>2</td>\n",
       "      <td>0</td>\n",
       "      <td>male</td>\n",
       "    </tr>\n",
       "  </tbody>\n",
       "</table>\n",
       "</div>"
      ],
      "text/plain": [
       "    male  educ    wage  swage  exper  pexper     lwage  expersq  highgrad  \\\n",
       "90     1    16  103750  27510     17      12  11.54974      289         0   \n",
       "\n",
       "    college  grad  polytech  highdrop    lswage  pexpersq  mleeduc  mleeduc0  \\\n",
       "90        1     0         0         0  10.22231       144       16         2   \n",
       "\n",
       "    female   sex  \n",
       "90       0  male  "
      ]
     },
     "execution_count": 15,
     "metadata": {},
     "output_type": "execute_result"
    }
   ],
   "source": [
    "engin[engin['wage']==engin['wage'].max()]"
   ]
  },
  {
   "cell_type": "markdown",
   "metadata": {},
   "source": [
    "As we can see, the majority of salaries are distributed between 20,000 and 40,000 Thai Baht. "
   ]
  },
  {
   "cell_type": "code",
   "execution_count": 16,
   "metadata": {},
   "outputs": [
    {
     "data": {
      "text/plain": [
       "<Axes: >"
      ]
     },
     "execution_count": 16,
     "metadata": {},
     "output_type": "execute_result"
    },
    {
     "data": {
      "image/png": "[encoded data removed]",
      "text/plain": [
       "<Figure size 640x480 with 1 Axes>"
      ]
     },
     "metadata": {},
     "output_type": "display_data"
    }
   ],
   "source": [
    "female_wage = engin.loc[engin[\"sex\"] ==\"female\", \"wage\" ]\n",
    "female_wage.plot()"
   ]
  },
  {
   "cell_type": "markdown",
   "metadata": {},
   "source": [
    "What are the statistics explaining the 'wage' and 'experience' variables?"
   ]
  },
  {
   "cell_type": "code",
   "execution_count": 17,
   "metadata": {},
   "outputs": [
    {
     "data": {
      "text/html": [
       "<div>\n",
       "<style scoped>\n",
       "    .dataframe tbody tr th:only-of-type {\n",
       "        vertical-align: middle;\n",
       "    }\n",
       "\n",
       "    .dataframe tbody tr th {\n",
       "        vertical-align: top;\n",
       "    }\n",
       "\n",
       "    .dataframe thead th {\n",
       "        text-align: right;\n",
       "    }\n",
       "</style>\n",
       "<table border=\"1\" class=\"dataframe\">\n",
       "  <thead>\n",
       "    <tr style=\"text-align: right;\">\n",
       "      <th></th>\n",
       "      <th>wage</th>\n",
       "      <th>exper</th>\n",
       "    </tr>\n",
       "  </thead>\n",
       "  <tbody>\n",
       "    <tr>\n",
       "      <th>count</th>\n",
       "      <td>403.000000</td>\n",
       "      <td>403.000000</td>\n",
       "    </tr>\n",
       "    <tr>\n",
       "      <th>mean</th>\n",
       "      <td>34683.436725</td>\n",
       "      <td>13.513648</td>\n",
       "    </tr>\n",
       "    <tr>\n",
       "      <th>std</th>\n",
       "      <td>17041.548694</td>\n",
       "      <td>1.751101</td>\n",
       "    </tr>\n",
       "    <tr>\n",
       "      <th>min</th>\n",
       "      <td>15900.000000</td>\n",
       "      <td>6.000000</td>\n",
       "    </tr>\n",
       "    <tr>\n",
       "      <th>25%</th>\n",
       "      <td>24150.000000</td>\n",
       "      <td>12.000000</td>\n",
       "    </tr>\n",
       "    <tr>\n",
       "      <th>50%</th>\n",
       "      <td>28500.000000</td>\n",
       "      <td>14.000000</td>\n",
       "    </tr>\n",
       "    <tr>\n",
       "      <th>75%</th>\n",
       "      <td>37800.000000</td>\n",
       "      <td>15.000000</td>\n",
       "    </tr>\n",
       "    <tr>\n",
       "      <th>max</th>\n",
       "      <td>103750.000000</td>\n",
       "      <td>17.000000</td>\n",
       "    </tr>\n",
       "  </tbody>\n",
       "</table>\n",
       "</div>"
      ],
      "text/plain": [
       "                wage       exper\n",
       "count     403.000000  403.000000\n",
       "mean    34683.436725   13.513648\n",
       "std     17041.548694    1.751101\n",
       "min     15900.000000    6.000000\n",
       "25%     24150.000000   12.000000\n",
       "50%     28500.000000   14.000000\n",
       "75%     37800.000000   15.000000\n",
       "max    103750.000000   17.000000"
      ]
     },
     "execution_count": 17,
     "metadata": {},
     "output_type": "execute_result"
    }
   ],
   "source": [
    "engin[[\"wage\", \"exper\"]].describe()"
   ]
  },
  {
   "cell_type": "markdown",
   "metadata": {},
   "source": [
    "Let's now analyze the distribution of current salary values based on years of previous work experience. As can be noticed, there is no real correlation between the two variables"
   ]
  },
  {
   "cell_type": "code",
   "execution_count": 18,
   "metadata": {},
   "outputs": [
    {
     "data": {
      "text/plain": [
       "<Axes: xlabel='pexper', ylabel='wage'>"
      ]
     },
     "execution_count": 18,
     "metadata": {},
     "output_type": "execute_result"
    },
    {
     "data": {
      "image/png": "[encoded data removed]",
      "text/plain": [
       "<Figure size 640x480 with 1 Axes>"
      ]
     },
     "metadata": {},
     "output_type": "display_data"
    }
   ],
   "source": [
    "engin.plot.scatter(y = \"wage\", x = \"pexper\", alpha = 0.9)"
   ]
  },
  {
   "cell_type": "markdown",
   "metadata": {},
   "source": [
    "Plotting the linear regression between the two variables, \"previous experience\" and \"wage\", we obtain the preannunciated result. There's no much of a correlation here:"
   ]
  },
  {
   "cell_type": "code",
   "execution_count": 19,
   "metadata": {},
   "outputs": [
    {
     "data": {
      "image/png": "[encoded data removed]",
      "text/plain": [
       "<Figure size 640x480 with 1 Axes>"
      ]
     },
     "metadata": {},
     "output_type": "display_data"
    }
   ],
   "source": [
    "sn.regplot(x=\"pexper\", y=\"wage\", data=engin);"
   ]
  },
  {
   "cell_type": "markdown",
   "metadata": {},
   "source": [
    "Instead, plotting linear regression between variables \"starting wage\" and actual \"wage\", we can observe a correlation between these two."
   ]
  },
  {
   "cell_type": "code",
   "execution_count": 20,
   "metadata": {},
   "outputs": [
    {
     "data": {
      "image/png": "[encoded data removed]",
      "text/plain": [
       "<Figure size 640x480 with 1 Axes>"
      ]
     },
     "metadata": {},
     "output_type": "display_data"
    }
   ],
   "source": [
    "sn.regplot(x=\"swage\", y=\"wage\", data=engin);"
   ]
  },
  {
   "cell_type": "markdown",
   "metadata": {},
   "source": [
    "Do males have higher wages than females in this dataset?"
   ]
  },
  {
   "cell_type": "code",
   "execution_count": 21,
   "metadata": {},
   "outputs": [
    {
     "data": {
      "text/plain": [
       "<Axes: xlabel='male', ylabel='wage'>"
      ]
     },
     "execution_count": 21,
     "metadata": {},
     "output_type": "execute_result"
    },
    {
     "data": {
      "image/png": "[encoded data removed]",
      "text/plain": [
       "<Figure size 640x480 with 1 Axes>"
      ]
     },
     "metadata": {},
     "output_type": "display_data"
    }
   ],
   "source": [
    "sn.violinplot(x=\"male\", y=\"wage\", data=engin)"
   ]
  },
  {
   "cell_type": "markdown",
   "metadata": {},
   "source": [
    "Let's plot a box graph. The line inside the \"box\" represents the median of the \"wage\" data for each level of \"pexper.\" The \"box\" itself ontains the central 50% of the data. Points outside the whisker lines are considered outliers, meaning they are values that deviate significantly from the rest of the distribution.\n",
    "As we can see, the median wage is around 30000 thai dollars."
   ]
  },
  {
   "cell_type": "code",
   "execution_count": 22,
   "metadata": {},
   "outputs": [
    {
     "data": {
      "text/plain": [
       "<Axes: >"
      ]
     },
     "execution_count": 22,
     "metadata": {},
     "output_type": "execute_result"
    },
    {
     "data": {
      "image/png": "[encoded data removed]",
      "text/plain": [
       "<Figure size 640x480 with 1 Axes>"
      ]
     },
     "metadata": {},
     "output_type": "display_data"
    }
   ],
   "source": [
    "engin.plot.box(x = \"exper\", y = \"wage\")"
   ]
  },
  {
   "cell_type": "markdown",
   "metadata": {},
   "source": [
    "The actual median value of wage is:"
   ]
  },
  {
   "cell_type": "code",
   "execution_count": 23,
   "metadata": {},
   "outputs": [
    {
     "data": {
      "text/plain": [
       "wage     28500.0\n",
       "exper       14.0\n",
       "dtype: float64"
      ]
     },
     "execution_count": 23,
     "metadata": {},
     "output_type": "execute_result"
    }
   ],
   "source": [
    "engin[[\"wage\", \"exper\"]].median()"
   ]
  },
  {
   "cell_type": "markdown",
   "metadata": {},
   "source": [
    "Let's now see how the current salary of workers is distributed based on the accumulated experience in their previous job.  \n",
    "To understand the impact of the worker's gender on the current salary, with the same previous experience, we will color female workers in red and male workers in blue."
   ]
  },
  {
   "cell_type": "code",
   "execution_count": 24,
   "metadata": {},
   "outputs": [
    {
     "data": {
      "application/vnd.plotly.v1+json": {
       "config": {
        "plotlyServerURL": "https://plot.ly"
       },
       "data": [
        {
         "hovertemplate": "sex=female<br>pexper=%{x}<br>wage=%{y}<extra></extra>",
         "legendgroup": "female",
         "marker": {
          "color": "#636efa",
          "symbol": "circle"
         },
         "mode": "markers",
         "name": "female",
         "orientation": "v",
         "showlegend": true,
         "type": "scatter",
         "x": [
          0,
          3,
          0,
          0,
          1,
          21,
          23,
          31,
          0,
          2,
          34,
          8,
          31,
          0,
          17,
          21,
          5,
          40,
          15,
          28,
          0,
          1,
          34,
          0,
          1,
          0,
          4,
          1,
          0,
          8,
          1,
          1,
          33,
          0,
          20,
          25,
          24,
          14,
          19,
          36,
          8,
          10,
          1,
          9,
          4,
          1,
          0,
          40,
          0,
          16,
          5,
          6,
          6,
          19,
          11,
          3,
          28,
          2,
          2,
          21,
          4,
          4,
          27,
          13,
          3,
          14,
          3,
          12,
          13,
          10,
          18,
          40,
          36,
          6,
          7,
          40,
          6,
          37,
          3,
          13,
          2,
          1,
          17,
          8,
          0,
          0,
          1,
          2,
          9,
          2,
          0,
          1,
          1,
          14,
          1,
          0,
          1,
          3,
          0,
          2,
          2,
          2,
          3,
          2,
          0,
          1,
          1,
          3,
          1,
          1,
          1,
          0,
          1,
          0,
          3,
          12,
          1,
          1,
          36,
          8,
          1,
          9,
          11,
          11,
          0,
          7,
          1,
          1,
          16,
          1,
          4,
          13,
          25,
          5,
          1,
          6,
          0,
          7,
          20,
          1,
          4,
          40,
          3,
          23,
          6,
          28,
          27,
          32,
          9,
          10,
          5,
          3,
          20,
          34,
          12,
          29,
          2,
          2,
          18,
          14,
          22,
          1,
          2,
          0,
          0,
          3,
          0,
          0,
          1,
          1,
          0,
          3,
          0,
          0,
          1,
          21,
          23,
          31,
          0,
          2,
          34,
          8,
          31,
          0,
          17,
          21,
          5,
          15,
          28,
          0
         ],
         "xaxis": "x",
         "y": [
          20400,
          23850,
          22800,
          20700,
          21300,
          24300,
          19650,
          16200,
          22800,
          43500,
          22200,
          31350,
          20850,
          20400,
          24150,
          23850,
          29700,
          21600,
          24450,
          16350,
          21750,
          24300,
          24750,
          22950,
          25050,
          16200,
          20100,
          24000,
          25950,
          24600,
          28500,
          22050,
          21900,
          21900,
          27900,
          30300,
          35100,
          25200,
          21000,
          31500,
          31650,
          25200,
          37800,
          18750,
          32550,
          33300,
          38550,
          19650,
          26250,
          20100,
          22350,
          35550,
          28500,
          24450,
          26550,
          26700,
          20850,
          26550,
          27750,
          25050,
          29400,
          33300,
          21900,
          18150,
          46875,
          29850,
          35700,
          28500,
          17100,
          24000,
          27450,
          18450,
          34500,
          29100,
          24750,
          27150,
          26400,
          23100,
          24000,
          19800,
          20400,
          19200,
          24000,
          22350,
          16200,
          21900,
          23250,
          33900,
          25650,
          27450,
          22650,
          27300,
          27750,
          54375,
          40800,
          23100,
          22500,
          26700,
          24900,
          19650,
          22050,
          25500,
          28200,
          23100,
          17100,
          19650,
          22350,
          23400,
          24300,
          28500,
          19950,
          23400,
          34500,
          18150,
          43000,
          20850,
          24450,
          24750,
          23400,
          24600,
          32550,
          25800,
          22500,
          25650,
          21300,
          29850,
          34500,
          22050,
          22500,
          25500,
          29160,
          16800,
          24450,
          33000,
          37050,
          24450,
          26100,
          15900,
          24450,
          22200,
          22950,
          23100,
          56750,
          37650,
          27900,
          21150,
          20550,
          17700,
          23550,
          19950,
          29400,
          28800,
          17400,
          21450,
          24750,
          26100,
          36600,
          58125,
          19650,
          21000,
          20850,
          24150,
          24450,
          21600,
          27900,
          29100,
          22650,
          20850,
          22950,
          30600,
          20400,
          23850,
          22800,
          20700,
          21300,
          24300,
          19650,
          16200,
          22800,
          43500,
          22200,
          31350,
          20850,
          20400,
          24150,
          23850,
          29700,
          24450,
          16350,
          21750
         ],
         "yaxis": "y"
        },
        {
         "hovertemplate": "sex=male<br>pexper=%{x}<br>wage=%{y}<extra></extra>",
         "legendgroup": "male",
         "marker": {
          "color": "#EF553B",
          "symbol": "circle"
         },
         "mode": "markers",
         "name": "male",
         "orientation": "v",
         "showlegend": true,
         "type": "scatter",
         "x": [
          3,
          10,
          2,
          4,
          27,
          12,
          1,
          6,
          8,
          12,
          13,
          17,
          14,
          21,
          17,
          10,
          17,
          9,
          10,
          8,
          10,
          14,
          14,
          11,
          15,
          22,
          15,
          3,
          22,
          3,
          37,
          3,
          3,
          9,
          2,
          5,
          7,
          11,
          23,
          2,
          1,
          29,
          25,
          25,
          6,
          24,
          12,
          20,
          5,
          6,
          11,
          4,
          8,
          12,
          18,
          8,
          8,
          10,
          12,
          8,
          3,
          4,
          9,
          26,
          12,
          10,
          15,
          3,
          30,
          33,
          36,
          7,
          1,
          4,
          30,
          15,
          7,
          32,
          13,
          25,
          22,
          9,
          10,
          26,
          3,
          10,
          4,
          6,
          7,
          23,
          30,
          5,
          13,
          9,
          6,
          2,
          31,
          9,
          27,
          12,
          2,
          26,
          8,
          9,
          12,
          16,
          38,
          19,
          11,
          13,
          26,
          6,
          6,
          15,
          1,
          11,
          9,
          8,
          2,
          2,
          5,
          38,
          35,
          4,
          7,
          10,
          5,
          2,
          16,
          2,
          8,
          6,
          8,
          23,
          3,
          31,
          5,
          26,
          9,
          4,
          4,
          8,
          18,
          1,
          7,
          11,
          7,
          4,
          9,
          2,
          11,
          2,
          25,
          3,
          22,
          13,
          23,
          8,
          26,
          13,
          27,
          14,
          8,
          24,
          3,
          38,
          3,
          7,
          8,
          10,
          33,
          21,
          12,
          30,
          13,
          19,
          14,
          3,
          10,
          2,
          4,
          27,
          12,
          1,
          6,
          8,
          12,
          13,
          17,
          14,
          21,
          17,
          10,
          17,
          9,
          10,
          8,
          10,
          14,
          14,
          11,
          15,
          22,
          15,
          3,
          22,
          3,
          37,
          3,
          3,
          9,
          2,
          5
         ],
         "xaxis": "x",
         "y": [
          60000,
          30300,
          61250,
          36000,
          30300,
          31950,
          35250,
          37800,
          31200,
          29400,
          70000,
          33900,
          27150,
          33300,
          26250,
          31950,
          66250,
          86250,
          30750,
          33540,
          34950,
          40350,
          30270,
          32400,
          28050,
          100000,
          49000,
          70000,
          55000,
          28500,
          28800,
          90625,
          43650,
          75000,
          31650,
          61875,
          25950,
          31650,
          24150,
          72500,
          68750,
          40200,
          30000,
          57000,
          40200,
          45000,
          32100,
          36000,
          28350,
          27750,
          27300,
          40800,
          46000,
          103750,
          42300,
          78250,
          60625,
          39900,
          97000,
          27450,
          31650,
          91250,
          30450,
          28350,
          54875,
          37800,
          33450,
          30300,
          27450,
          24300,
          30750,
          68750,
          59375,
          31500,
          27300,
          27000,
          26700,
          43950,
          27600,
          25800,
          42300,
          35250,
          26700,
          66000,
          52650,
          45625,
          30900,
          25500,
          26550,
          69250,
          26250,
          25200,
          39300,
          38850,
          37500,
          58750,
          19650,
          54900,
          70875,
          51250,
          67500,
          29340,
          39600,
          29100,
          33150,
          27300,
          30600,
          28950,
          38400,
          30150,
          34620,
          80000,
          25350,
          29850,
          40200,
          55500,
          26550,
          50550,
          75000,
          25500,
          68125,
          52125,
          61875,
          21300,
          40200,
          27750,
          66875,
          83750,
          33900,
          56500,
          27900,
          68125,
          73500,
          40050,
          40350,
          38700,
          65000,
          51450,
          25950,
          25050,
          26700,
          26850,
          26550,
          31500,
          30750,
          34500,
          26250,
          44875,
          27750,
          27750,
          48750,
          43410,
          29550,
          26700,
          55000,
          62500,
          27300,
          47250,
          103500,
          35700,
          31200,
          25950,
          28350,
          35700,
          28050,
          22500,
          29400,
          27450,
          29850,
          25350,
          27000,
          24000,
          78500,
          28500,
          65000,
          30150,
          66875,
          60000,
          30300,
          61250,
          36000,
          30300,
          31950,
          35250,
          37800,
          31200,
          29400,
          70000,
          33900,
          27150,
          33300,
          26250,
          31950,
          66250,
          86250,
          30750,
          33540,
          34950,
          40350,
          30270,
          32400,
          28050,
          100000,
          49000,
          70000,
          55000,
          28500,
          28800,
          90625,
          43650,
          75000,
          31650,
          61875
         ],
         "yaxis": "y"
        }
       ],
       "layout": {
        "legend": {
         "title": {
          "text": "sex"
         },
         "tracegroupgap": 0
        },
        "margin": {
         "t": 60
        },
        "template": {
         "data": {
          "bar": [
           {
            "error_x": {
             "color": "#2a3f5f"
            },
            "error_y": {
             "color": "#2a3f5f"
            },
            "marker": {
             "line": {
              "color": "#E5ECF6",
              "width": 0.5
             },
             "pattern": {
              "fillmode": "overlay",
              "size": 10,
              "solidity": 0.2
             }
            },
            "type": "bar"
           }
          ],
          "barpolar": [
           {
            "marker": {
             "line": {
              "color": "#E5ECF6",
              "width": 0.5
             },
             "pattern": {
              "fillmode": "overlay",
              "size": 10,
              "solidity": 0.2
             }
            },
            "type": "barpolar"
           }
          ],
          "carpet": [
           {
            "aaxis": {
             "endlinecolor": "#2a3f5f",
             "gridcolor": "white",
             "linecolor": "white",
             "minorgridcolor": "white",
             "startlinecolor": "#2a3f5f"
            },
            "baxis": {
             "endlinecolor": "#2a3f5f",
             "gridcolor": "white",
             "linecolor": "white",
             "minorgridcolor": "white",
             "startlinecolor": "#2a3f5f"
            },
            "type": "carpet"
           }
          ],
          "choropleth": [
           {
            "colorbar": {
             "outlinewidth": 0,
             "ticks": ""
            },
            "type": "choropleth"
           }
          ],
          "contour": [
           {
            "colorbar": {
             "outlinewidth": 0,
             "ticks": ""
            },
            "colorscale": [
             [
              0,
              "#0d0887"
             ],
             [
              0.1111111111111111,
              "#46039f"
             ],
             [
              0.2222222222222222,
              "#7201a8"
             ],
             [
              0.3333333333333333,
              "#9c179e"
             ],
             [
              0.4444444444444444,
              "#bd3786"
             ],
             [
              0.5555555555555556,
              "#d8576b"
             ],
             [
              0.6666666666666666,
              "#ed7953"
             ],
             [
              0.7777777777777778,
              "#fb9f3a"
             ],
             [
              0.8888888888888888,
              "#fdca26"
             ],
             [
              1,
              "#f0f921"
             ]
            ],
            "type": "contour"
           }
          ],
          "contourcarpet": [
           {
            "colorbar": {
             "outlinewidth": 0,
             "ticks": ""
            },
            "type": "contourcarpet"
           }
          ],
          "heatmap": [
           {
            "colorbar": {
             "outlinewidth": 0,
             "ticks": ""
            },
            "colorscale": [
             [
              0,
              "#0d0887"
             ],
             [
              0.1111111111111111,
              "#46039f"
             ],
             [
              0.2222222222222222,
              "#7201a8"
             ],
             [
              0.3333333333333333,
              "#9c179e"
             ],
             [
              0.4444444444444444,
              "#bd3786"
             ],
             [
              0.5555555555555556,
              "#d8576b"
             ],
             [
              0.6666666666666666,
              "#ed7953"
             ],
             [
              0.7777777777777778,
              "#fb9f3a"
             ],
             [
              0.8888888888888888,
              "#fdca26"
             ],
             [
              1,
              "#f0f921"
             ]
            ],
            "type": "heatmap"
           }
          ],
          "heatmapgl": [
           {
            "colorbar": {
             "outlinewidth": 0,
             "ticks": ""
            },
            "colorscale": [
             [
              0,
              "#0d0887"
             ],
             [
              0.1111111111111111,
              "#46039f"
             ],
             [
              0.2222222222222222,
              "#7201a8"
             ],
             [
              0.3333333333333333,
              "#9c179e"
             ],
             [
              0.4444444444444444,
              "#bd3786"
             ],
             [
              0.5555555555555556,
              "#d8576b"
             ],
             [
              0.6666666666666666,
              "#ed7953"
             ],
             [
              0.7777777777777778,
              "#fb9f3a"
             ],
             [
              0.8888888888888888,
              "#fdca26"
             ],
             [
              1,
              "#f0f921"
             ]
            ],
            "type": "heatmapgl"
           }
          ],
          "histogram": [
           {
            "marker": {
             "pattern": {
              "fillmode": "overlay",
              "size": 10,
              "solidity": 0.2
             }
            },
            "type": "histogram"
           }
          ],
          "histogram2d": [
           {
            "colorbar": {
             "outlinewidth": 0,
             "ticks": ""
            },
            "colorscale": [
             [
              0,
              "#0d0887"
             ],
             [
              0.1111111111111111,
              "#46039f"
             ],
             [
              0.2222222222222222,
              "#7201a8"
             ],
             [
              0.3333333333333333,
              "#9c179e"
             ],
             [
              0.4444444444444444,
              "#bd3786"
             ],
             [
              0.5555555555555556,
              "#d8576b"
             ],
             [
              0.6666666666666666,
              "#ed7953"
             ],
             [
              0.7777777777777778,
              "#fb9f3a"
             ],
             [
              0.8888888888888888,
              "#fdca26"
             ],
             [
              1,
              "#f0f921"
             ]
            ],
            "type": "histogram2d"
           }
          ],
          "histogram2dcontour": [
           {
            "colorbar": {
             "outlinewidth": 0,
             "ticks": ""
            },
            "colorscale": [
             [
              0,
              "#0d0887"
             ],
             [
              0.1111111111111111,
              "#46039f"
             ],
             [
              0.2222222222222222,
              "#7201a8"
             ],
             [
              0.3333333333333333,
              "#9c179e"
             ],
             [
              0.4444444444444444,
              "#bd3786"
             ],
             [
              0.5555555555555556,
              "#d8576b"
             ],
             [
              0.6666666666666666,
              "#ed7953"
             ],
             [
              0.7777777777777778,
              "#fb9f3a"
             ],
             [
              0.8888888888888888,
              "#fdca26"
             ],
             [
              1,
              "#f0f921"
             ]
            ],
            "type": "histogram2dcontour"
           }
          ],
          "mesh3d": [
           {
            "colorbar": {
             "outlinewidth": 0,
             "ticks": ""
            },
            "type": "mesh3d"
           }
          ],
          "parcoords": [
           {
            "line": {
             "colorbar": {
              "outlinewidth": 0,
              "ticks": ""
             }
            },
            "type": "parcoords"
           }
          ],
          "pie": [
           {
            "automargin": true,
            "type": "pie"
           }
          ],
          "scatter": [
           {
            "fillpattern": {
             "fillmode": "overlay",
             "size": 10,
             "solidity": 0.2
            },
            "type": "scatter"
           }
          ],
          "scatter3d": [
           {
            "line": {
             "colorbar": {
              "outlinewidth": 0,
              "ticks": ""
             }
            },
            "marker": {
             "colorbar": {
              "outlinewidth": 0,
              "ticks": ""
             }
            },
            "type": "scatter3d"
           }
          ],
          "scattercarpet": [
           {
            "marker": {
             "colorbar": {
              "outlinewidth": 0,
              "ticks": ""
             }
            },
            "type": "scattercarpet"
           }
          ],
          "scattergeo": [
           {
            "marker": {
             "colorbar": {
              "outlinewidth": 0,
              "ticks": ""
             }
            },
            "type": "scattergeo"
           }
          ],
          "scattergl": [
           {
            "marker": {
             "colorbar": {
              "outlinewidth": 0,
              "ticks": ""
             }
            },
            "type": "scattergl"
           }
          ],
          "scattermapbox": [
           {
            "marker": {
             "colorbar": {
              "outlinewidth": 0,
              "ticks": ""
             }
            },
            "type": "scattermapbox"
           }
          ],
          "scatterpolar": [
           {
            "marker": {
             "colorbar": {
              "outlinewidth": 0,
              "ticks": ""
             }
            },
            "type": "scatterpolar"
           }
          ],
          "scatterpolargl": [
           {
            "marker": {
             "colorbar": {
              "outlinewidth": 0,
              "ticks": ""
             }
            },
            "type": "scatterpolargl"
           }
          ],
          "scatterternary": [
           {
            "marker": {
             "colorbar": {
              "outlinewidth": 0,
              "ticks": ""
             }
            },
            "type": "scatterternary"
           }
          ],
          "surface": [
           {
            "colorbar": {
             "outlinewidth": 0,
             "ticks": ""
            },
            "colorscale": [
             [
              0,
              "#0d0887"
             ],
             [
              0.1111111111111111,
              "#46039f"
             ],
             [
              0.2222222222222222,
              "#7201a8"
             ],
             [
              0.3333333333333333,
              "#9c179e"
             ],
             [
              0.4444444444444444,
              "#bd3786"
             ],
             [
              0.5555555555555556,
              "#d8576b"
             ],
             [
              0.6666666666666666,
              "#ed7953"
             ],
             [
              0.7777777777777778,
              "#fb9f3a"
             ],
             [
              0.8888888888888888,
              "#fdca26"
             ],
             [
              1,
              "#f0f921"
             ]
            ],
            "type": "surface"
           }
          ],
          "table": [
           {
            "cells": {
             "fill": {
              "color": "#EBF0F8"
             },
             "line": {
              "color": "white"
             }
            },
            "header": {
             "fill": {
              "color": "#C8D4E3"
             },
             "line": {
              "color": "white"
             }
            },
            "type": "table"
           }
          ]
         },
         "layout": {
          "annotationdefaults": {
           "arrowcolor": "#2a3f5f",
           "arrowhead": 0,
           "arrowwidth": 1
          },
          "autotypenumbers": "strict",
          "coloraxis": {
           "colorbar": {
            "outlinewidth": 0,
            "ticks": ""
           }
          },
          "colorscale": {
           "diverging": [
            [
             0,
             "#8e0152"
            ],
            [
             0.1,
             "#c51b7d"
            ],
            [
             0.2,
             "#de77ae"
            ],
            [
             0.3,
             "#f1b6da"
            ],
            [
             0.4,
             "#fde0ef"
            ],
            [
             0.5,
             "#f7f7f7"
            ],
            [
             0.6,
             "#e6f5d0"
            ],
            [
             0.7,
             "#b8e186"
            ],
            [
             0.8,
             "#7fbc41"
            ],
            [
             0.9,
             "#4d9221"
            ],
            [
             1,
             "#276419"
            ]
           ],
           "sequential": [
            [
             0,
             "#0d0887"
            ],
            [
             0.1111111111111111,
             "#46039f"
            ],
            [
             0.2222222222222222,
             "#7201a8"
            ],
            [
             0.3333333333333333,
             "#9c179e"
            ],
            [
             0.4444444444444444,
             "#bd3786"
            ],
            [
             0.5555555555555556,
             "#d8576b"
            ],
            [
             0.6666666666666666,
             "#ed7953"
            ],
            [
             0.7777777777777778,
             "#fb9f3a"
            ],
            [
             0.8888888888888888,
             "#fdca26"
            ],
            [
             1,
             "#f0f921"
            ]
           ],
           "sequentialminus": [
            [
             0,
             "#0d0887"
            ],
            [
             0.1111111111111111,
             "#46039f"
            ],
            [
             0.2222222222222222,
             "#7201a8"
            ],
            [
             0.3333333333333333,
             "#9c179e"
            ],
            [
             0.4444444444444444,
             "#bd3786"
            ],
            [
             0.5555555555555556,
             "#d8576b"
            ],
            [
             0.6666666666666666,
             "#ed7953"
            ],
            [
             0.7777777777777778,
             "#fb9f3a"
            ],
            [
             0.8888888888888888,
             "#fdca26"
            ],
            [
             1,
             "#f0f921"
            ]
           ]
          },
          "colorway": [
           "#636efa",
           "#EF553B",
           "#00cc96",
           "#ab63fa",
           "#FFA15A",
           "#19d3f3",
           "#FF6692",
           "#B6E880",
           "#FF97FF",
           "#FECB52"
          ],
          "font": {
           "color": "#2a3f5f"
          },
          "geo": {
           "bgcolor": "white",
           "lakecolor": "white",
           "landcolor": "#E5ECF6",
           "showlakes": true,
           "showland": true,
           "subunitcolor": "white"
          },
          "hoverlabel": {
           "align": "left"
          },
          "hovermode": "closest",
          "mapbox": {
           "style": "light"
          },
          "paper_bgcolor": "white",
          "plot_bgcolor": "#E5ECF6",
          "polar": {
           "angularaxis": {
            "gridcolor": "white",
            "linecolor": "white",
            "ticks": ""
           },
           "bgcolor": "#E5ECF6",
           "radialaxis": {
            "gridcolor": "white",
            "linecolor": "white",
            "ticks": ""
           }
          },
          "scene": {
           "xaxis": {
            "backgroundcolor": "#E5ECF6",
            "gridcolor": "white",
            "gridwidth": 2,
            "linecolor": "white",
            "showbackground": true,
            "ticks": "",
            "zerolinecolor": "white"
           },
           "yaxis": {
            "backgroundcolor": "#E5ECF6",
            "gridcolor": "white",
            "gridwidth": 2,
            "linecolor": "white",
            "showbackground": true,
            "ticks": "",
            "zerolinecolor": "white"
           },
           "zaxis": {
            "backgroundcolor": "#E5ECF6",
            "gridcolor": "white",
            "gridwidth": 2,
            "linecolor": "white",
            "showbackground": true,
            "ticks": "",
            "zerolinecolor": "white"
           }
          },
          "shapedefaults": {
           "line": {
            "color": "#2a3f5f"
           }
          },
          "ternary": {
           "aaxis": {
            "gridcolor": "white",
            "linecolor": "white",
            "ticks": ""
           },
           "baxis": {
            "gridcolor": "white",
            "linecolor": "white",
            "ticks": ""
           },
           "bgcolor": "#E5ECF6",
           "caxis": {
            "gridcolor": "white",
            "linecolor": "white",
            "ticks": ""
           }
          },
          "title": {
           "x": 0.05
          },
          "xaxis": {
           "automargin": true,
           "gridcolor": "white",
           "linecolor": "white",
           "ticks": "",
           "title": {
            "standoff": 15
           },
           "zerolinecolor": "white",
           "zerolinewidth": 2
          },
          "yaxis": {
           "automargin": true,
           "gridcolor": "white",
           "linecolor": "white",
           "ticks": "",
           "title": {
            "standoff": 15
           },
           "zerolinecolor": "white",
           "zerolinewidth": 2
          }
         }
        },
        "xaxis": {
         "anchor": "y",
         "domain": [
          0,
          1
         ],
         "title": {
          "text": "pexper"
         }
        },
        "yaxis": {
         "anchor": "x",
         "domain": [
          0,
          1
         ],
         "title": {
          "text": "wage"
         }
        }
       }
      }
     },
     "metadata": {},
     "output_type": "display_data"
    }
   ],
   "source": [
    "px.scatter(engin, x=\"pexper\", y=\"wage\", color=\"sex\")"
   ]
  },
  {
   "cell_type": "markdown",
   "metadata": {},
   "source": [
    "Which is the dataset mean salary for both categories, males and females, in the dataset?\n",
    "As we can see there is a huge difference between females and males salaries. "
   ]
  },
  {
   "cell_type": "code",
   "execution_count": 25,
   "metadata": {},
   "outputs": [
    {
     "data": {
      "text/html": [
       "<div>\n",
       "<style scoped>\n",
       "    .dataframe tbody tr th:only-of-type {\n",
       "        vertical-align: middle;\n",
       "    }\n",
       "\n",
       "    .dataframe tbody tr th {\n",
       "        vertical-align: top;\n",
       "    }\n",
       "\n",
       "    .dataframe thead th {\n",
       "        text-align: right;\n",
       "    }\n",
       "</style>\n",
       "<table border=\"1\" class=\"dataframe\">\n",
       "  <thead>\n",
       "    <tr style=\"text-align: right;\">\n",
       "      <th></th>\n",
       "      <th>wage</th>\n",
       "    </tr>\n",
       "    <tr>\n",
       "      <th>sex</th>\n",
       "      <th></th>\n",
       "    </tr>\n",
       "  </thead>\n",
       "  <tbody>\n",
       "    <tr>\n",
       "      <th>female</th>\n",
       "      <td>25548.078947</td>\n",
       "    </tr>\n",
       "    <tr>\n",
       "      <th>male</th>\n",
       "      <td>42832.347418</td>\n",
       "    </tr>\n",
       "  </tbody>\n",
       "</table>\n",
       "</div>"
      ],
      "text/plain": [
       "                wage\n",
       "sex                 \n",
       "female  25548.078947\n",
       "male    42832.347418"
      ]
     },
     "execution_count": 25,
     "metadata": {},
     "output_type": "execute_result"
    }
   ],
   "source": [
    "engin[[\"wage\", \"sex\"]].groupby(\"sex\").mean()"
   ]
  },
  {
   "cell_type": "markdown",
   "metadata": {},
   "source": [
    "Which is the dataset highest salary for both categories, males and females, in the dataset?"
   ]
  },
  {
   "cell_type": "code",
   "execution_count": 26,
   "metadata": {},
   "outputs": [
    {
     "data": {
      "text/html": [
       "<div>\n",
       "<style scoped>\n",
       "    .dataframe tbody tr th:only-of-type {\n",
       "        vertical-align: middle;\n",
       "    }\n",
       "\n",
       "    .dataframe tbody tr th {\n",
       "        vertical-align: top;\n",
       "    }\n",
       "\n",
       "    .dataframe thead th {\n",
       "        text-align: right;\n",
       "    }\n",
       "</style>\n",
       "<table border=\"1\" class=\"dataframe\">\n",
       "  <thead>\n",
       "    <tr style=\"text-align: right;\">\n",
       "      <th></th>\n",
       "      <th>wage</th>\n",
       "    </tr>\n",
       "    <tr>\n",
       "      <th>sex</th>\n",
       "      <th></th>\n",
       "    </tr>\n",
       "  </thead>\n",
       "  <tbody>\n",
       "    <tr>\n",
       "      <th>female</th>\n",
       "      <td>58125</td>\n",
       "    </tr>\n",
       "    <tr>\n",
       "      <th>male</th>\n",
       "      <td>103750</td>\n",
       "    </tr>\n",
       "  </tbody>\n",
       "</table>\n",
       "</div>"
      ],
      "text/plain": [
       "          wage\n",
       "sex           \n",
       "female   58125\n",
       "male    103750"
      ]
     },
     "execution_count": 26,
     "metadata": {},
     "output_type": "execute_result"
    }
   ],
   "source": [
    "engin[[\"wage\", \"sex\"]].groupby(\"sex\").max()"
   ]
  },
  {
   "cell_type": "markdown",
   "metadata": {},
   "source": [
    "Now let's observe the average salary for those who have or have not obtained a high school diploma, a college degree, and a polytechnic degree."
   ]
  },
  {
   "cell_type": "code",
   "execution_count": 27,
   "metadata": {},
   "outputs": [
    {
     "data": {
      "text/html": [
       "<div>\n",
       "<style scoped>\n",
       "    .dataframe tbody tr th:only-of-type {\n",
       "        vertical-align: middle;\n",
       "    }\n",
       "\n",
       "    .dataframe tbody tr th {\n",
       "        vertical-align: top;\n",
       "    }\n",
       "\n",
       "    .dataframe thead th {\n",
       "        text-align: right;\n",
       "    }\n",
       "</style>\n",
       "<table border=\"1\" class=\"dataframe\">\n",
       "  <thead>\n",
       "    <tr style=\"text-align: right;\">\n",
       "      <th></th>\n",
       "      <th>wage</th>\n",
       "    </tr>\n",
       "    <tr>\n",
       "      <th>highgrad</th>\n",
       "      <th></th>\n",
       "    </tr>\n",
       "  </thead>\n",
       "  <tbody>\n",
       "    <tr>\n",
       "      <th>0</th>\n",
       "      <td>41398.755274</td>\n",
       "    </tr>\n",
       "    <tr>\n",
       "      <th>1</th>\n",
       "      <td>25095.903614</td>\n",
       "    </tr>\n",
       "  </tbody>\n",
       "</table>\n",
       "</div>"
      ],
      "text/plain": [
       "                  wage\n",
       "highgrad              \n",
       "0         41398.755274\n",
       "1         25095.903614"
      ]
     },
     "execution_count": 27,
     "metadata": {},
     "output_type": "execute_result"
    }
   ],
   "source": [
    "engin[[\"wage\",\"highgrad\"]].groupby(\"highgrad\").mean()"
   ]
  },
  {
   "cell_type": "code",
   "execution_count": 28,
   "metadata": {},
   "outputs": [
    {
     "data": {
      "text/html": [
       "<div>\n",
       "<style scoped>\n",
       "    .dataframe tbody tr th:only-of-type {\n",
       "        vertical-align: middle;\n",
       "    }\n",
       "\n",
       "    .dataframe tbody tr th {\n",
       "        vertical-align: top;\n",
       "    }\n",
       "\n",
       "    .dataframe thead th {\n",
       "        text-align: right;\n",
       "    }\n",
       "</style>\n",
       "<table border=\"1\" class=\"dataframe\">\n",
       "  <thead>\n",
       "    <tr style=\"text-align: right;\">\n",
       "      <th></th>\n",
       "      <th>wage</th>\n",
       "    </tr>\n",
       "    <tr>\n",
       "      <th>college</th>\n",
       "      <th></th>\n",
       "    </tr>\n",
       "  </thead>\n",
       "  <tbody>\n",
       "    <tr>\n",
       "      <th>0</th>\n",
       "      <td>32708.676056</td>\n",
       "    </tr>\n",
       "    <tr>\n",
       "      <th>1</th>\n",
       "      <td>49288.437500</td>\n",
       "    </tr>\n",
       "  </tbody>\n",
       "</table>\n",
       "</div>"
      ],
      "text/plain": [
       "                 wage\n",
       "college              \n",
       "0        32708.676056\n",
       "1        49288.437500"
      ]
     },
     "execution_count": 28,
     "metadata": {},
     "output_type": "execute_result"
    }
   ],
   "source": [
    "engin[[\"wage\",\"college\"]].groupby(\"college\").mean()"
   ]
  },
  {
   "cell_type": "code",
   "execution_count": 29,
   "metadata": {},
   "outputs": [
    {
     "data": {
      "text/html": [
       "<div>\n",
       "<style scoped>\n",
       "    .dataframe tbody tr th:only-of-type {\n",
       "        vertical-align: middle;\n",
       "    }\n",
       "\n",
       "    .dataframe tbody tr th {\n",
       "        vertical-align: top;\n",
       "    }\n",
       "\n",
       "    .dataframe thead th {\n",
       "        text-align: right;\n",
       "    }\n",
       "</style>\n",
       "<table border=\"1\" class=\"dataframe\">\n",
       "  <thead>\n",
       "    <tr style=\"text-align: right;\">\n",
       "      <th></th>\n",
       "      <th>wage</th>\n",
       "    </tr>\n",
       "    <tr>\n",
       "      <th>polytech</th>\n",
       "      <th></th>\n",
       "    </tr>\n",
       "  </thead>\n",
       "  <tbody>\n",
       "    <tr>\n",
       "      <th>0</th>\n",
       "      <td>35481.173469</td>\n",
       "    </tr>\n",
       "    <tr>\n",
       "      <th>1</th>\n",
       "      <td>32531.743119</td>\n",
       "    </tr>\n",
       "  </tbody>\n",
       "</table>\n",
       "</div>"
      ],
      "text/plain": [
       "                  wage\n",
       "polytech              \n",
       "0         35481.173469\n",
       "1         32531.743119"
      ]
     },
     "execution_count": 29,
     "metadata": {},
     "output_type": "execute_result"
    }
   ],
   "source": [
    "engin[[\"wage\",\"polytech\"]].groupby(\"polytech\").mean()"
   ]
  },
  {
   "cell_type": "markdown",
   "metadata": {},
   "source": [
    "Could be interesting to evaluate the current wage with total accumulated experience for each person in the dataset.  \n",
    "To analyse wheter or not females have lower wages than males, we differentiate the sex for colors: blue for males and red for females.\n",
    "\n",
    "In the plot below, teh size of the markers is proportional to the education level."
   ]
  },
  {
   "cell_type": "code",
   "execution_count": 30,
   "metadata": {},
   "outputs": [
    {
     "data": {
      "application/vnd.plotly.v1+json": {
       "config": {
        "plotlyServerURL": "https://plot.ly"
       },
       "data": [
        {
         "hovertemplate": "sex=female<br>totexp=%{x}<br>wage=%{y}<br>education=%{marker.size}<extra></extra>",
         "legendgroup": "female",
         "marker": {
          "color": "#636efa",
          "size": [
           1.5,
           1.5,
           1.5,
           1.5,
           1.5,
           1.5,
           1.5,
           1.5,
           1.5,
           2,
           1.5,
           0.5,
           1.5,
           1.5,
           0.1,
           0.5,
           1.5,
           0.1,
           1.5,
           1.5,
           1.5,
           1.5,
           1.5,
           1.5,
           0.1,
           0.1,
           1.5,
           0.1,
           1.5,
           1.5,
           1.5,
           1.5,
           0.1,
           1.5,
           0.5,
           2,
           0.5,
           1.5,
           1.5,
           1.5,
           1.5,
           1.5,
           2,
           0.5,
           0.5,
           1.5,
           2,
           1.5,
           1.5,
           0.1,
           1.5,
           0.5,
           1.5,
           1.5,
           0.5,
           1.5,
           1.5,
           1.5,
           1.5,
           2,
           0.5,
           0.5,
           1.5,
           1.5,
           2,
           0.5,
           2,
           1.5,
           1.5,
           1.5,
           1.5,
           1.5,
           1.5,
           0.1,
           1.5,
           0.5,
           1.5,
           2,
           1.5,
           0.1,
           1.5,
           1.5,
           1.5,
           0.1,
           1.5,
           0.5,
           2,
           1.5,
           0.5,
           0.1,
           1.5,
           1.5,
           1.5,
           2,
           1.5,
           1.5,
           0.1,
           1.5,
           1.5,
           1.5,
           1.5,
           1.5,
           0.5,
           1.5,
           0.1,
           1.5,
           1.5,
           1.5,
           1.5,
           1.5,
           1.5,
           1.5,
           2,
           1.5,
           2,
           0.1,
           1.5,
           1.5,
           1.5,
           1.5,
           0.5,
           0.5,
           1.5,
           1.5,
           1.5,
           1.5,
           1.5,
           1.5,
           1.5,
           0.5,
           1.5,
           0.1,
           1.5,
           2,
           0.5,
           1.5,
           1.5,
           0.1,
           1.5,
           1.5,
           0.5,
           1.5,
           2,
           1.5,
           1.5,
           0.1,
           1.5,
           0.1,
           0.5,
           1.5,
           1.5,
           1.5,
           1.5,
           0.1,
           1.5,
           1.5,
           2,
           2,
           0.1,
           1.5,
           1.5,
           0.5,
           1.5,
           1.5,
           1.5,
           0.1,
           1.5,
           1.5,
           1.5,
           1.5,
           1.5,
           1.5,
           1.5,
           1.5,
           1.5,
           1.5,
           1.5,
           1.5,
           1.5,
           2,
           1.5,
           0.5,
           1.5,
           1.5,
           0.1,
           0.5,
           1.5,
           1.5,
           1.5,
           1.5
          ],
          "sizemode": "area",
          "sizeref": 0.005,
          "symbol": "circle"
         },
         "mode": "markers",
         "name": "female",
         "orientation": "v",
         "showlegend": true,
         "type": "scatter",
         "x": [
          6,
          15,
          12,
          12,
          13,
          33,
          35,
          43,
          12,
          14,
          46,
          20,
          43,
          11,
          28,
          32,
          16,
          51,
          26,
          39,
          11,
          17,
          50,
          16,
          17,
          16,
          20,
          17,
          16,
          24,
          17,
          17,
          50,
          17,
          37,
          42,
          41,
          30,
          35,
          52,
          24,
          26,
          17,
          25,
          20,
          17,
          16,
          56,
          15,
          31,
          20,
          21,
          21,
          34,
          26,
          18,
          43,
          17,
          17,
          36,
          19,
          19,
          42,
          28,
          18,
          29,
          18,
          27,
          28,
          25,
          33,
          55,
          51,
          21,
          22,
          55,
          21,
          52,
          17,
          27,
          16,
          15,
          31,
          22,
          14,
          14,
          15,
          16,
          23,
          16,
          14,
          15,
          15,
          28,
          15,
          14,
          15,
          17,
          14,
          16,
          16,
          16,
          17,
          16,
          14,
          15,
          15,
          17,
          15,
          15,
          15,
          14,
          15,
          14,
          17,
          26,
          15,
          15,
          50,
          22,
          15,
          23,
          24,
          24,
          13,
          20,
          14,
          14,
          29,
          14,
          17,
          26,
          38,
          18,
          14,
          19,
          13,
          20,
          33,
          14,
          17,
          53,
          16,
          36,
          19,
          41,
          40,
          45,
          22,
          23,
          18,
          16,
          33,
          47,
          25,
          42,
          14,
          14,
          30,
          26,
          34,
          13,
          14,
          12,
          12,
          15,
          12,
          12,
          13,
          13,
          12,
          15,
          12,
          12,
          13,
          33,
          35,
          43,
          12,
          14,
          46,
          20,
          43,
          11,
          28,
          32,
          16,
          26,
          39,
          11
         ],
         "xaxis": "x",
         "y": [
          20400,
          23850,
          22800,
          20700,
          21300,
          24300,
          19650,
          16200,
          22800,
          43500,
          22200,
          31350,
          20850,
          20400,
          24150,
          23850,
          29700,
          21600,
          24450,
          16350,
          21750,
          24300,
          24750,
          22950,
          25050,
          16200,
          20100,
          24000,
          25950,
          24600,
          28500,
          22050,
          21900,
          21900,
          27900,
          30300,
          35100,
          25200,
          21000,
          31500,
          31650,
          25200,
          37800,
          18750,
          32550,
          33300,
          38550,
          19650,
          26250,
          20100,
          22350,
          35550,
          28500,
          24450,
          26550,
          26700,
          20850,
          26550,
          27750,
          25050,
          29400,
          33300,
          21900,
          18150,
          46875,
          29850,
          35700,
          28500,
          17100,
          24000,
          27450,
          18450,
          34500,
          29100,
          24750,
          27150,
          26400,
          23100,
          24000,
          19800,
          20400,
          19200,
          24000,
          22350,
          16200,
          21900,
          23250,
          33900,
          25650,
          27450,
          22650,
          27300,
          27750,
          54375,
          40800,
          23100,
          22500,
          26700,
          24900,
          19650,
          22050,
          25500,
          28200,
          23100,
          17100,
          19650,
          22350,
          23400,
          24300,
          28500,
          19950,
          23400,
          34500,
          18150,
          43000,
          20850,
          24450,
          24750,
          23400,
          24600,
          32550,
          25800,
          22500,
          25650,
          21300,
          29850,
          34500,
          22050,
          22500,
          25500,
          29160,
          16800,
          24450,
          33000,
          37050,
          24450,
          26100,
          15900,
          24450,
          22200,
          22950,
          23100,
          56750,
          37650,
          27900,
          21150,
          20550,
          17700,
          23550,
          19950,
          29400,
          28800,
          17400,
          21450,
          24750,
          26100,
          36600,
          58125,
          19650,
          21000,
          20850,
          24150,
          24450,
          21600,
          27900,
          29100,
          22650,
          20850,
          22950,
          30600,
          20400,
          23850,
          22800,
          20700,
          21300,
          24300,
          19650,
          16200,
          22800,
          43500,
          22200,
          31350,
          20850,
          20400,
          24150,
          23850,
          29700,
          24450,
          16350,
          21750
         ],
         "yaxis": "y"
        },
        {
         "hovertemplate": "sex=male<br>totexp=%{x}<br>wage=%{y}<br>education=%{marker.size}<extra></extra>",
         "legendgroup": "male",
         "marker": {
          "color": "#EF553B",
          "size": [
           1,
           0.5,
           1,
           1,
           0.1,
           0.5,
           0.5,
           0.5,
           0.5,
           0.5,
           1,
           0.5,
           0.5,
           2,
           0.1,
           0.5,
           1,
           1,
           1.5,
           1.5,
           2,
           0.5,
           1.5,
           0.5,
           0.5,
           2,
           0.5,
           2,
           1,
           0.5,
           1.5,
           1,
           2,
           1,
           0.5,
           1,
           0.5,
           0.5,
           1.5,
           1,
           1,
           1,
           0.1,
           0.5,
           2,
           0.5,
           0.5,
           0.5,
           0.1,
           0.5,
           1.5,
           1.5,
           0.5,
           2,
           1.5,
           1,
           2,
           0.5,
           1,
           0.5,
           0.5,
           1,
           1.5,
           0.5,
           2,
           0.5,
           0.5,
           0.5,
           1.5,
           0.5,
           1.5,
           1,
           1,
           0.5,
           1.5,
           0.5,
           1.5,
           1,
           1.5,
           1.5,
           2,
           0.5,
           0.5,
           2,
           2,
           2,
           0.5,
           1.5,
           1.5,
           1,
           0.1,
           1.5,
           0.5,
           0.5,
           0.5,
           2,
           1.5,
           0.5,
           1,
           2,
           1,
           1.5,
           0.5,
           1.5,
           0.5,
           0.5,
           0.5,
           0.5,
           0.5,
           0.5,
           2,
           0.5,
           1.5,
           1.5,
           2,
           1,
           0.5,
           0.5,
           1,
           1.5,
           1,
           1,
           1,
           0.1,
           0.5,
           0.5,
           1,
           2,
           1.5,
           2,
           0.5,
           1,
           1,
           0.5,
           2,
           0.5,
           1,
           1,
           0.5,
           0.5,
           1.5,
           1.5,
           2,
           1.5,
           0.5,
           0.5,
           0.5,
           2,
           0.5,
           1.5,
           2,
           0.5,
           0.1,
           1.5,
           1,
           1,
           0.5,
           2,
           2,
           1.5,
           1.5,
           0.5,
           0.5,
           2,
           0.5,
           1.5,
           0.5,
           1.5,
           0.5,
           0.5,
           1,
           1.5,
           1,
           0.1,
           1,
           0.5,
           1,
           1,
           0.5,
           1,
           1,
           0.1,
           0.5,
           0.5,
           0.5,
           0.5,
           0.5,
           1,
           0.5,
           0.5,
           2,
           0.1,
           0.5,
           1,
           1,
           1.5,
           1.5,
           2,
           0.5,
           1.5,
           0.5,
           0.5,
           2,
           0.5,
           2,
           1,
           0.5,
           1.5,
           1,
           2,
           1,
           0.5,
           1
          ],
          "sizemode": "area",
          "sizeref": 0.005,
          "symbol": "circle"
         },
         "mode": "markers",
         "name": "male",
         "orientation": "v",
         "showlegend": true,
         "type": "scatter",
         "x": [
          15,
          22,
          14,
          16,
          39,
          24,
          13,
          18,
          20,
          24,
          25,
          29,
          26,
          33,
          29,
          22,
          29,
          20,
          21,
          19,
          21,
          25,
          25,
          22,
          26,
          33,
          26,
          14,
          33,
          14,
          48,
          14,
          14,
          20,
          13,
          16,
          23,
          27,
          39,
          18,
          17,
          45,
          41,
          42,
          23,
          41,
          29,
          37,
          22,
          23,
          28,
          21,
          25,
          29,
          35,
          24,
          24,
          26,
          28,
          24,
          19,
          20,
          25,
          42,
          28,
          26,
          31,
          19,
          46,
          49,
          52,
          22,
          16,
          19,
          45,
          30,
          22,
          47,
          28,
          40,
          37,
          24,
          25,
          41,
          18,
          25,
          19,
          21,
          22,
          38,
          45,
          20,
          28,
          24,
          21,
          17,
          46,
          23,
          41,
          26,
          16,
          40,
          22,
          23,
          26,
          30,
          52,
          33,
          25,
          27,
          40,
          20,
          20,
          29,
          15,
          25,
          23,
          22,
          16,
          16,
          19,
          52,
          49,
          18,
          21,
          24,
          19,
          16,
          30,
          16,
          22,
          20,
          22,
          37,
          17,
          45,
          19,
          40,
          23,
          18,
          18,
          22,
          32,
          15,
          20,
          24,
          20,
          17,
          22,
          15,
          24,
          15,
          38,
          16,
          35,
          26,
          36,
          21,
          39,
          26,
          40,
          27,
          21,
          37,
          15,
          50,
          15,
          19,
          20,
          22,
          45,
          33,
          24,
          42,
          25,
          31,
          26,
          15,
          22,
          14,
          16,
          39,
          24,
          13,
          18,
          20,
          24,
          25,
          29,
          26,
          33,
          29,
          22,
          29,
          20,
          21,
          19,
          21,
          25,
          25,
          22,
          26,
          33,
          26,
          14,
          33,
          14,
          48,
          14,
          14,
          20,
          13,
          16
         ],
         "xaxis": "x",
         "y": [
          60000,
          30300,
          61250,
          36000,
          30300,
          31950,
          35250,
          37800,
          31200,
          29400,
          70000,
          33900,
          27150,
          33300,
          26250,
          31950,
          66250,
          86250,
          30750,
          33540,
          34950,
          40350,
          30270,
          32400,
          28050,
          100000,
          49000,
          70000,
          55000,
          28500,
          28800,
          90625,
          43650,
          75000,
          31650,
          61875,
          25950,
          31650,
          24150,
          72500,
          68750,
          40200,
          30000,
          57000,
          40200,
          45000,
          32100,
          36000,
          28350,
          27750,
          27300,
          40800,
          46000,
          103750,
          42300,
          78250,
          60625,
          39900,
          97000,
          27450,
          31650,
          91250,
          30450,
          28350,
          54875,
          37800,
          33450,
          30300,
          27450,
          24300,
          30750,
          68750,
          59375,
          31500,
          27300,
          27000,
          26700,
          43950,
          27600,
          25800,
          42300,
          35250,
          26700,
          66000,
          52650,
          45625,
          30900,
          25500,
          26550,
          69250,
          26250,
          25200,
          39300,
          38850,
          37500,
          58750,
          19650,
          54900,
          70875,
          51250,
          67500,
          29340,
          39600,
          29100,
          33150,
          27300,
          30600,
          28950,
          38400,
          30150,
          34620,
          80000,
          25350,
          29850,
          40200,
          55500,
          26550,
          50550,
          75000,
          25500,
          68125,
          52125,
          61875,
          21300,
          40200,
          27750,
          66875,
          83750,
          33900,
          56500,
          27900,
          68125,
          73500,
          40050,
          40350,
          38700,
          65000,
          51450,
          25950,
          25050,
          26700,
          26850,
          26550,
          31500,
          30750,
          34500,
          26250,
          44875,
          27750,
          27750,
          48750,
          43410,
          29550,
          26700,
          55000,
          62500,
          27300,
          47250,
          103500,
          35700,
          31200,
          25950,
          28350,
          35700,
          28050,
          22500,
          29400,
          27450,
          29850,
          25350,
          27000,
          24000,
          78500,
          28500,
          65000,
          30150,
          66875,
          60000,
          30300,
          61250,
          36000,
          30300,
          31950,
          35250,
          37800,
          31200,
          29400,
          70000,
          33900,
          27150,
          33300,
          26250,
          31950,
          66250,
          86250,
          30750,
          33540,
          34950,
          40350,
          30270,
          32400,
          28050,
          100000,
          49000,
          70000,
          55000,
          28500,
          28800,
          90625,
          43650,
          75000,
          31650,
          61875
         ],
         "yaxis": "y"
        }
       ],
       "layout": {
        "legend": {
         "itemsizing": "constant",
         "title": {
          "text": "sex"
         },
         "tracegroupgap": 0
        },
        "margin": {
         "t": 60
        },
        "template": {
         "data": {
          "bar": [
           {
            "error_x": {
             "color": "#2a3f5f"
            },
            "error_y": {
             "color": "#2a3f5f"
            },
            "marker": {
             "line": {
              "color": "#E5ECF6",
              "width": 0.5
             },
             "pattern": {
              "fillmode": "overlay",
              "size": 10,
              "solidity": 0.2
             }
            },
            "type": "bar"
           }
          ],
          "barpolar": [
           {
            "marker": {
             "line": {
              "color": "#E5ECF6",
              "width": 0.5
             },
             "pattern": {
              "fillmode": "overlay",
              "size": 10,
              "solidity": 0.2
             }
            },
            "type": "barpolar"
           }
          ],
          "carpet": [
           {
            "aaxis": {
             "endlinecolor": "#2a3f5f",
             "gridcolor": "white",
             "linecolor": "white",
             "minorgridcolor": "white",
             "startlinecolor": "#2a3f5f"
            },
            "baxis": {
             "endlinecolor": "#2a3f5f",
             "gridcolor": "white",
             "linecolor": "white",
             "minorgridcolor": "white",
             "startlinecolor": "#2a3f5f"
            },
            "type": "carpet"
           }
          ],
          "choropleth": [
           {
            "colorbar": {
             "outlinewidth": 0,
             "ticks": ""
            },
            "type": "choropleth"
           }
          ],
          "contour": [
           {
            "colorbar": {
             "outlinewidth": 0,
             "ticks": ""
            },
            "colorscale": [
             [
              0,
              "#0d0887"
             ],
             [
              0.1111111111111111,
              "#46039f"
             ],
             [
              0.2222222222222222,
              "#7201a8"
             ],
             [
              0.3333333333333333,
              "#9c179e"
             ],
             [
              0.4444444444444444,
              "#bd3786"
             ],
             [
              0.5555555555555556,
              "#d8576b"
             ],
             [
              0.6666666666666666,
              "#ed7953"
             ],
             [
              0.7777777777777778,
              "#fb9f3a"
             ],
             [
              0.8888888888888888,
              "#fdca26"
             ],
             [
              1,
              "#f0f921"
             ]
            ],
            "type": "contour"
           }
          ],
          "contourcarpet": [
           {
            "colorbar": {
             "outlinewidth": 0,
             "ticks": ""
            },
            "type": "contourcarpet"
           }
          ],
          "heatmap": [
           {
            "colorbar": {
             "outlinewidth": 0,
             "ticks": ""
            },
            "colorscale": [
             [
              0,
              "#0d0887"
             ],
             [
              0.1111111111111111,
              "#46039f"
             ],
             [
              0.2222222222222222,
              "#7201a8"
             ],
             [
              0.3333333333333333,
              "#9c179e"
             ],
             [
              0.4444444444444444,
              "#bd3786"
             ],
             [
              0.5555555555555556,
              "#d8576b"
             ],
             [
              0.6666666666666666,
              "#ed7953"
             ],
             [
              0.7777777777777778,
              "#fb9f3a"
             ],
             [
              0.8888888888888888,
              "#fdca26"
             ],
             [
              1,
              "#f0f921"
             ]
            ],
            "type": "heatmap"
           }
          ],
          "heatmapgl": [
           {
            "colorbar": {
             "outlinewidth": 0,
             "ticks": ""
            },
            "colorscale": [
             [
              0,
              "#0d0887"
             ],
             [
              0.1111111111111111,
              "#46039f"
             ],
             [
              0.2222222222222222,
              "#7201a8"
             ],
             [
              0.3333333333333333,
              "#9c179e"
             ],
             [
              0.4444444444444444,
              "#bd3786"
             ],
             [
              0.5555555555555556,
              "#d8576b"
             ],
             [
              0.6666666666666666,
              "#ed7953"
             ],
             [
              0.7777777777777778,
              "#fb9f3a"
             ],
             [
              0.8888888888888888,
              "#fdca26"
             ],
             [
              1,
              "#f0f921"
             ]
            ],
            "type": "heatmapgl"
           }
          ],
          "histogram": [
           {
            "marker": {
             "pattern": {
              "fillmode": "overlay",
              "size": 10,
              "solidity": 0.2
             }
            },
            "type": "histogram"
           }
          ],
          "histogram2d": [
           {
            "colorbar": {
             "outlinewidth": 0,
             "ticks": ""
            },
            "colorscale": [
             [
              0,
              "#0d0887"
             ],
             [
              0.1111111111111111,
              "#46039f"
             ],
             [
              0.2222222222222222,
              "#7201a8"
             ],
             [
              0.3333333333333333,
              "#9c179e"
             ],
             [
              0.4444444444444444,
              "#bd3786"
             ],
             [
              0.5555555555555556,
              "#d8576b"
             ],
             [
              0.6666666666666666,
              "#ed7953"
             ],
             [
              0.7777777777777778,
              "#fb9f3a"
             ],
             [
              0.8888888888888888,
              "#fdca26"
             ],
             [
              1,
              "#f0f921"
             ]
            ],
            "type": "histogram2d"
           }
          ],
          "histogram2dcontour": [
           {
            "colorbar": {
             "outlinewidth": 0,
             "ticks": ""
            },
            "colorscale": [
             [
              0,
              "#0d0887"
             ],
             [
              0.1111111111111111,
              "#46039f"
             ],
             [
              0.2222222222222222,
              "#7201a8"
             ],
             [
              0.3333333333333333,
              "#9c179e"
             ],
             [
              0.4444444444444444,
              "#bd3786"
             ],
             [
              0.5555555555555556,
              "#d8576b"
             ],
             [
              0.6666666666666666,
              "#ed7953"
             ],
             [
              0.7777777777777778,
              "#fb9f3a"
             ],
             [
              0.8888888888888888,
              "#fdca26"
             ],
             [
              1,
              "#f0f921"
             ]
            ],
            "type": "histogram2dcontour"
           }
          ],
          "mesh3d": [
           {
            "colorbar": {
             "outlinewidth": 0,
             "ticks": ""
            },
            "type": "mesh3d"
           }
          ],
          "parcoords": [
           {
            "line": {
             "colorbar": {
              "outlinewidth": 0,
              "ticks": ""
             }
            },
            "type": "parcoords"
           }
          ],
          "pie": [
           {
            "automargin": true,
            "type": "pie"
           }
          ],
          "scatter": [
           {
            "fillpattern": {
             "fillmode": "overlay",
             "size": 10,
             "solidity": 0.2
            },
            "type": "scatter"
           }
          ],
          "scatter3d": [
           {
            "line": {
             "colorbar": {
              "outlinewidth": 0,
              "ticks": ""
             }
            },
            "marker": {
             "colorbar": {
              "outlinewidth": 0,
              "ticks": ""
             }
            },
            "type": "scatter3d"
           }
          ],
          "scattercarpet": [
           {
            "marker": {
             "colorbar": {
              "outlinewidth": 0,
              "ticks": ""
             }
            },
            "type": "scattercarpet"
           }
          ],
          "scattergeo": [
           {
            "marker": {
             "colorbar": {
              "outlinewidth": 0,
              "ticks": ""
             }
            },
            "type": "scattergeo"
           }
          ],
          "scattergl": [
           {
            "marker": {
             "colorbar": {
              "outlinewidth": 0,
              "ticks": ""
             }
            },
            "type": "scattergl"
           }
          ],
          "scattermapbox": [
           {
            "marker": {
             "colorbar": {
              "outlinewidth": 0,
              "ticks": ""
             }
            },
            "type": "scattermapbox"
           }
          ],
          "scatterpolar": [
           {
            "marker": {
             "colorbar": {
              "outlinewidth": 0,
              "ticks": ""
             }
            },
            "type": "scatterpolar"
           }
          ],
          "scatterpolargl": [
           {
            "marker": {
             "colorbar": {
              "outlinewidth": 0,
              "ticks": ""
             }
            },
            "type": "scatterpolargl"
           }
          ],
          "scatterternary": [
           {
            "marker": {
             "colorbar": {
              "outlinewidth": 0,
              "ticks": ""
             }
            },
            "type": "scatterternary"
           }
          ],
          "surface": [
           {
            "colorbar": {
             "outlinewidth": 0,
             "ticks": ""
            },
            "colorscale": [
             [
              0,
              "#0d0887"
             ],
             [
              0.1111111111111111,
              "#46039f"
             ],
             [
              0.2222222222222222,
              "#7201a8"
             ],
             [
              0.3333333333333333,
              "#9c179e"
             ],
             [
              0.4444444444444444,
              "#bd3786"
             ],
             [
              0.5555555555555556,
              "#d8576b"
             ],
             [
              0.6666666666666666,
              "#ed7953"
             ],
             [
              0.7777777777777778,
              "#fb9f3a"
             ],
             [
              0.8888888888888888,
              "#fdca26"
             ],
             [
              1,
              "#f0f921"
             ]
            ],
            "type": "surface"
           }
          ],
          "table": [
           {
            "cells": {
             "fill": {
              "color": "#EBF0F8"
             },
             "line": {
              "color": "white"
             }
            },
            "header": {
             "fill": {
              "color": "#C8D4E3"
             },
             "line": {
              "color": "white"
             }
            },
            "type": "table"
           }
          ]
         },
         "layout": {
          "annotationdefaults": {
           "arrowcolor": "#2a3f5f",
           "arrowhead": 0,
           "arrowwidth": 1
          },
          "autotypenumbers": "strict",
          "coloraxis": {
           "colorbar": {
            "outlinewidth": 0,
            "ticks": ""
           }
          },
          "colorscale": {
           "diverging": [
            [
             0,
             "#8e0152"
            ],
            [
             0.1,
             "#c51b7d"
            ],
            [
             0.2,
             "#de77ae"
            ],
            [
             0.3,
             "#f1b6da"
            ],
            [
             0.4,
             "#fde0ef"
            ],
            [
             0.5,
             "#f7f7f7"
            ],
            [
             0.6,
             "#e6f5d0"
            ],
            [
             0.7,
             "#b8e186"
            ],
            [
             0.8,
             "#7fbc41"
            ],
            [
             0.9,
             "#4d9221"
            ],
            [
             1,
             "#276419"
            ]
           ],
           "sequential": [
            [
             0,
             "#0d0887"
            ],
            [
             0.1111111111111111,
             "#46039f"
            ],
            [
             0.2222222222222222,
             "#7201a8"
            ],
            [
             0.3333333333333333,
             "#9c179e"
            ],
            [
             0.4444444444444444,
             "#bd3786"
            ],
            [
             0.5555555555555556,
             "#d8576b"
            ],
            [
             0.6666666666666666,
             "#ed7953"
            ],
            [
             0.7777777777777778,
             "#fb9f3a"
            ],
            [
             0.8888888888888888,
             "#fdca26"
            ],
            [
             1,
             "#f0f921"
            ]
           ],
           "sequentialminus": [
            [
             0,
             "#0d0887"
            ],
            [
             0.1111111111111111,
             "#46039f"
            ],
            [
             0.2222222222222222,
             "#7201a8"
            ],
            [
             0.3333333333333333,
             "#9c179e"
            ],
            [
             0.4444444444444444,
             "#bd3786"
            ],
            [
             0.5555555555555556,
             "#d8576b"
            ],
            [
             0.6666666666666666,
             "#ed7953"
            ],
            [
             0.7777777777777778,
             "#fb9f3a"
            ],
            [
             0.8888888888888888,
             "#fdca26"
            ],
            [
             1,
             "#f0f921"
            ]
           ]
          },
          "colorway": [
           "#636efa",
           "#EF553B",
           "#00cc96",
           "#ab63fa",
           "#FFA15A",
           "#19d3f3",
           "#FF6692",
           "#B6E880",
           "#FF97FF",
           "#FECB52"
          ],
          "font": {
           "color": "#2a3f5f"
          },
          "geo": {
           "bgcolor": "white",
           "lakecolor": "white",
           "landcolor": "#E5ECF6",
           "showlakes": true,
           "showland": true,
           "subunitcolor": "white"
          },
          "hoverlabel": {
           "align": "left"
          },
          "hovermode": "closest",
          "mapbox": {
           "style": "light"
          },
          "paper_bgcolor": "white",
          "plot_bgcolor": "#E5ECF6",
          "polar": {
           "angularaxis": {
            "gridcolor": "white",
            "linecolor": "white",
            "ticks": ""
           },
           "bgcolor": "#E5ECF6",
           "radialaxis": {
            "gridcolor": "white",
            "linecolor": "white",
            "ticks": ""
           }
          },
          "scene": {
           "xaxis": {
            "backgroundcolor": "#E5ECF6",
            "gridcolor": "white",
            "gridwidth": 2,
            "linecolor": "white",
            "showbackground": true,
            "ticks": "",
            "zerolinecolor": "white"
           },
           "yaxis": {
            "backgroundcolor": "#E5ECF6",
            "gridcolor": "white",
            "gridwidth": 2,
            "linecolor": "white",
            "showbackground": true,
            "ticks": "",
            "zerolinecolor": "white"
           },
           "zaxis": {
            "backgroundcolor": "#E5ECF6",
            "gridcolor": "white",
            "gridwidth": 2,
            "linecolor": "white",
            "showbackground": true,
            "ticks": "",
            "zerolinecolor": "white"
           }
          },
          "shapedefaults": {
           "line": {
            "color": "#2a3f5f"
           }
          },
          "ternary": {
           "aaxis": {
            "gridcolor": "white",
            "linecolor": "white",
            "ticks": ""
           },
           "baxis": {
            "gridcolor": "white",
            "linecolor": "white",
            "ticks": ""
           },
           "bgcolor": "#E5ECF6",
           "caxis": {
            "gridcolor": "white",
            "linecolor": "white",
            "ticks": ""
           }
          },
          "title": {
           "x": 0.05
          },
          "xaxis": {
           "automargin": true,
           "gridcolor": "white",
           "linecolor": "white",
           "ticks": "",
           "title": {
            "standoff": 15
           },
           "zerolinecolor": "white",
           "zerolinewidth": 2
          },
          "yaxis": {
           "automargin": true,
           "gridcolor": "white",
           "linecolor": "white",
           "ticks": "",
           "title": {
            "standoff": 15
           },
           "zerolinecolor": "white",
           "zerolinewidth": 2
          }
         }
        },
        "xaxis": {
         "anchor": "y",
         "domain": [
          0,
          1
         ],
         "title": {
          "text": "totexp"
         }
        },
        "yaxis": {
         "anchor": "x",
         "domain": [
          0,
          1
         ],
         "title": {
          "text": "wage"
         }
        }
       }
      }
     },
     "metadata": {},
     "output_type": "display_data"
    }
   ],
   "source": [
    "engin[\"totexp\"]=engin[\"pexper\"]+engin[\"exper\"]\n",
    "engin[\"education\"]=1.5*engin[\"highgrad\"]+2*engin[\"college\"]+engin[\"grad\"]+0.5*engin[\"polytech\"]+0.1*engin[\"highdrop\"]\n",
    "\n",
    "\n",
    "px.scatter(engin, x=\"totexp\", y=\"wage\", color=\"sex\", size=\"education\")"
   ]
  },
  {
   "cell_type": "markdown",
   "metadata": {},
   "source": [
    "We now plot five subplots, each subplot focuses on a specific educational category, and the scatter plots within each subplot show the relationship between total experience, wage earned, and gender for individuals within that category.  \n",
    "The color of the points in each subplot indicates the gender of the individuals, orange for females and blue for males. "
   ]
  },
  {
   "cell_type": "code",
   "execution_count": 31,
   "metadata": {},
   "outputs": [
    {
     "data": {
      "application/vnd.plotly.v1+json": {
       "config": {
        "plotlyServerURL": "https://plot.ly"
       },
       "data": [
        {
         "marker": {
          "color": [
           "rgb(255, 127, 14)",
           "rgb(31, 119, 180)",
           "rgb(31, 119, 180)",
           "rgb(31, 119, 180)",
           "rgb(31, 119, 180)",
           "rgb(31, 119, 180)",
           "rgb(31, 119, 180)",
           "rgb(255, 127, 14)",
           "rgb(31, 119, 180)",
           "rgb(31, 119, 180)",
           "rgb(31, 119, 180)",
           "rgb(255, 127, 14)",
           "rgb(255, 127, 14)",
           "rgb(31, 119, 180)",
           "rgb(255, 127, 14)",
           "rgb(31, 119, 180)",
           "rgb(31, 119, 180)",
           "rgb(31, 119, 180)",
           "rgb(255, 127, 14)",
           "rgb(255, 127, 14)",
           "rgb(31, 119, 180)",
           "rgb(255, 127, 14)",
           "rgb(31, 119, 180)",
           "rgb(31, 119, 180)",
           "rgb(255, 127, 14)",
           "rgb(31, 119, 180)",
           "rgb(255, 127, 14)",
           "rgb(255, 127, 14)",
           "rgb(31, 119, 180)",
           "rgb(31, 119, 180)",
           "rgb(255, 127, 14)",
           "rgb(31, 119, 180)",
           "rgb(31, 119, 180)",
           "rgb(31, 119, 180)",
           "rgb(31, 119, 180)",
           "rgb(255, 127, 14)",
           "rgb(31, 119, 180)",
           "rgb(31, 119, 180)",
           "rgb(255, 127, 14)",
           "rgb(31, 119, 180)",
           "rgb(255, 127, 14)",
           "rgb(255, 127, 14)",
           "rgb(255, 127, 14)",
           "rgb(31, 119, 180)",
           "rgb(31, 119, 180)",
           "rgb(31, 119, 180)",
           "rgb(31, 119, 180)",
           "rgb(31, 119, 180)"
          ]
         },
         "mode": "markers",
         "name": "College",
         "type": "scatter",
         "x": [
          14,
          33,
          21,
          33,
          14,
          14,
          23,
          42,
          29,
          24,
          28,
          17,
          16,
          37,
          36,
          41,
          18,
          25,
          18,
          18,
          17,
          52,
          26,
          40,
          15,
          15,
          28,
          15,
          16,
          16,
          17,
          17,
          32,
          17,
          24,
          18,
          21,
          39,
          16,
          37,
          14,
          14,
          14,
          33,
          21,
          33,
          14,
          14
         ],
         "xaxis": "x",
         "y": [
          43500,
          33300,
          34950,
          100000,
          70000,
          43650,
          40200,
          30300,
          103750,
          60625,
          54875,
          37800,
          38550,
          42300,
          25050,
          66000,
          52650,
          45625,
          46875,
          35700,
          58750,
          23100,
          51250,
          34620,
          23250,
          40200,
          54375,
          34500,
          83750,
          56500,
          43000,
          40350,
          26550,
          44875,
          48750,
          33000,
          47250,
          103500,
          56750,
          35700,
          36600,
          58125,
          43500,
          33300,
          34950,
          100000,
          70000,
          43650
         ],
         "yaxis": "y"
        },
        {
         "marker": {
          "color": [
           "rgb(255, 127, 14)",
           "rgb(255, 127, 14)",
           "rgb(255, 127, 14)",
           "rgb(255, 127, 14)",
           "rgb(255, 127, 14)",
           "rgb(255, 127, 14)",
           "rgb(255, 127, 14)",
           "rgb(255, 127, 14)",
           "rgb(255, 127, 14)",
           "rgb(255, 127, 14)",
           "rgb(255, 127, 14)",
           "rgb(31, 119, 180)",
           "rgb(31, 119, 180)",
           "rgb(31, 119, 180)",
           "rgb(255, 127, 14)",
           "rgb(255, 127, 14)",
           "rgb(255, 127, 14)",
           "rgb(255, 127, 14)",
           "rgb(31, 119, 180)",
           "rgb(255, 127, 14)",
           "rgb(255, 127, 14)",
           "rgb(255, 127, 14)",
           "rgb(255, 127, 14)",
           "rgb(31, 119, 180)",
           "rgb(255, 127, 14)",
           "rgb(255, 127, 14)",
           "rgb(255, 127, 14)",
           "rgb(255, 127, 14)",
           "rgb(255, 127, 14)",
           "rgb(255, 127, 14)",
           "rgb(31, 119, 180)",
           "rgb(31, 119, 180)",
           "rgb(31, 119, 180)",
           "rgb(255, 127, 14)",
           "rgb(255, 127, 14)",
           "rgb(31, 119, 180)",
           "rgb(255, 127, 14)",
           "rgb(255, 127, 14)",
           "rgb(255, 127, 14)",
           "rgb(255, 127, 14)",
           "rgb(31, 119, 180)",
           "rgb(31, 119, 180)",
           "rgb(255, 127, 14)",
           "rgb(31, 119, 180)",
           "rgb(255, 127, 14)",
           "rgb(255, 127, 14)",
           "rgb(255, 127, 14)",
           "rgb(255, 127, 14)",
           "rgb(31, 119, 180)",
           "rgb(31, 119, 180)",
           "rgb(31, 119, 180)",
           "rgb(255, 127, 14)",
           "rgb(255, 127, 14)",
           "rgb(255, 127, 14)",
           "rgb(255, 127, 14)",
           "rgb(255, 127, 14)",
           "rgb(255, 127, 14)",
           "rgb(31, 119, 180)",
           "rgb(31, 119, 180)",
           "rgb(255, 127, 14)",
           "rgb(255, 127, 14)",
           "rgb(31, 119, 180)",
           "rgb(255, 127, 14)",
           "rgb(255, 127, 14)",
           "rgb(255, 127, 14)",
           "rgb(255, 127, 14)",
           "rgb(31, 119, 180)",
           "rgb(255, 127, 14)",
           "rgb(255, 127, 14)",
           "rgb(31, 119, 180)",
           "rgb(31, 119, 180)",
           "rgb(255, 127, 14)",
           "rgb(255, 127, 14)",
           "rgb(255, 127, 14)",
           "rgb(31, 119, 180)",
           "rgb(31, 119, 180)",
           "rgb(255, 127, 14)",
           "rgb(255, 127, 14)",
           "rgb(255, 127, 14)",
           "rgb(255, 127, 14)",
           "rgb(255, 127, 14)",
           "rgb(255, 127, 14)",
           "rgb(255, 127, 14)",
           "rgb(255, 127, 14)",
           "rgb(255, 127, 14)",
           "rgb(255, 127, 14)",
           "rgb(255, 127, 14)",
           "rgb(255, 127, 14)",
           "rgb(255, 127, 14)",
           "rgb(255, 127, 14)",
           "rgb(31, 119, 180)",
           "rgb(255, 127, 14)",
           "rgb(255, 127, 14)",
           "rgb(255, 127, 14)",
           "rgb(255, 127, 14)",
           "rgb(255, 127, 14)",
           "rgb(255, 127, 14)",
           "rgb(255, 127, 14)",
           "rgb(255, 127, 14)",
           "rgb(31, 119, 180)",
           "rgb(255, 127, 14)",
           "rgb(255, 127, 14)",
           "rgb(31, 119, 180)",
           "rgb(31, 119, 180)",
           "rgb(255, 127, 14)",
           "rgb(255, 127, 14)",
           "rgb(31, 119, 180)",
           "rgb(255, 127, 14)",
           "rgb(255, 127, 14)",
           "rgb(255, 127, 14)",
           "rgb(255, 127, 14)",
           "rgb(255, 127, 14)",
           "rgb(31, 119, 180)",
           "rgb(255, 127, 14)",
           "rgb(255, 127, 14)",
           "rgb(255, 127, 14)",
           "rgb(31, 119, 180)",
           "rgb(255, 127, 14)",
           "rgb(255, 127, 14)",
           "rgb(255, 127, 14)",
           "rgb(255, 127, 14)",
           "rgb(31, 119, 180)",
           "rgb(255, 127, 14)",
           "rgb(255, 127, 14)",
           "rgb(255, 127, 14)",
           "rgb(255, 127, 14)",
           "rgb(31, 119, 180)",
           "rgb(255, 127, 14)",
           "rgb(255, 127, 14)",
           "rgb(255, 127, 14)",
           "rgb(255, 127, 14)",
           "rgb(255, 127, 14)",
           "rgb(255, 127, 14)",
           "rgb(255, 127, 14)",
           "rgb(31, 119, 180)",
           "rgb(31, 119, 180)",
           "rgb(255, 127, 14)",
           "rgb(31, 119, 180)",
           "rgb(255, 127, 14)",
           "rgb(255, 127, 14)",
           "rgb(255, 127, 14)",
           "rgb(255, 127, 14)",
           "rgb(255, 127, 14)",
           "rgb(255, 127, 14)",
           "rgb(255, 127, 14)",
           "rgb(255, 127, 14)",
           "rgb(255, 127, 14)",
           "rgb(255, 127, 14)",
           "rgb(255, 127, 14)",
           "rgb(255, 127, 14)",
           "rgb(255, 127, 14)",
           "rgb(255, 127, 14)",
           "rgb(255, 127, 14)",
           "rgb(255, 127, 14)",
           "rgb(255, 127, 14)",
           "rgb(255, 127, 14)",
           "rgb(255, 127, 14)",
           "rgb(31, 119, 180)",
           "rgb(31, 119, 180)",
           "rgb(31, 119, 180)",
           "rgb(255, 127, 14)",
           "rgb(255, 127, 14)",
           "rgb(255, 127, 14)",
           "rgb(255, 127, 14)",
           "rgb(31, 119, 180)",
           "rgb(255, 127, 14)"
          ]
         },
         "mode": "markers",
         "name": "High Grad",
         "type": "scatter",
         "x": [
          6,
          15,
          12,
          12,
          13,
          33,
          35,
          43,
          12,
          46,
          43,
          21,
          19,
          25,
          11,
          16,
          26,
          39,
          48,
          11,
          17,
          50,
          16,
          39,
          20,
          16,
          24,
          17,
          17,
          17,
          28,
          21,
          35,
          30,
          35,
          25,
          52,
          24,
          26,
          17,
          46,
          52,
          56,
          45,
          15,
          20,
          21,
          34,
          22,
          28,
          40,
          18,
          43,
          17,
          17,
          42,
          28,
          21,
          22,
          27,
          28,
          20,
          25,
          33,
          55,
          51,
          46,
          22,
          21,
          40,
          23,
          17,
          16,
          15,
          20,
          29,
          31,
          14,
          16,
          14,
          15,
          15,
          15,
          14,
          17,
          14,
          16,
          16,
          16,
          16,
          16,
          15,
          15,
          17,
          15,
          15,
          15,
          14,
          14,
          30,
          15,
          15,
          18,
          22,
          50,
          22,
          15,
          24,
          24,
          13,
          20,
          14,
          15,
          14,
          29,
          17,
          16,
          38,
          19,
          13,
          33,
          26,
          14,
          53,
          36,
          19,
          40,
          40,
          23,
          18,
          16,
          33,
          25,
          42,
          50,
          19,
          26,
          33,
          34,
          14,
          12,
          12,
          12,
          12,
          13,
          13,
          12,
          15,
          12,
          12,
          13,
          33,
          35,
          43,
          12,
          46,
          43,
          21,
          19,
          25,
          11,
          16,
          26,
          39,
          48,
          11
         ],
         "xaxis": "x2",
         "y": [
          20400,
          23850,
          22800,
          20700,
          21300,
          24300,
          19650,
          16200,
          22800,
          22200,
          20850,
          30750,
          33540,
          30270,
          20400,
          29700,
          24450,
          16350,
          28800,
          21750,
          24300,
          24750,
          22950,
          24150,
          20100,
          25950,
          24600,
          28500,
          22050,
          21900,
          27300,
          40800,
          42300,
          25200,
          21000,
          30450,
          31500,
          31650,
          25200,
          33300,
          27450,
          30750,
          19650,
          27300,
          26250,
          22350,
          28500,
          24450,
          26700,
          27600,
          25800,
          26700,
          20850,
          26550,
          27750,
          21900,
          18150,
          25500,
          26550,
          28500,
          17100,
          25200,
          24000,
          27450,
          18450,
          34500,
          19650,
          24750,
          26400,
          29340,
          29100,
          24000,
          20400,
          19200,
          25350,
          29850,
          24000,
          16200,
          33900,
          22650,
          27300,
          27750,
          40800,
          23100,
          26700,
          24900,
          19650,
          22050,
          25500,
          23100,
          25500,
          19650,
          22350,
          23400,
          24300,
          28500,
          19950,
          23400,
          18150,
          33900,
          24450,
          24750,
          26700,
          26850,
          23400,
          24600,
          31500,
          22500,
          25650,
          21300,
          29850,
          34500,
          27750,
          22050,
          22500,
          29160,
          26700,
          24450,
          24450,
          26100,
          24450,
          35700,
          22200,
          23100,
          37650,
          27900,
          31200,
          20550,
          19950,
          29400,
          28800,
          17400,
          24750,
          26100,
          22500,
          27450,
          21000,
          24000,
          20850,
          24450,
          21600,
          27900,
          22650,
          20850,
          22950,
          30600,
          20400,
          23850,
          22800,
          20700,
          21300,
          24300,
          19650,
          16200,
          22800,
          22200,
          20850,
          30750,
          33540,
          30270,
          20400,
          29700,
          24450,
          16350,
          28800,
          21750
         ],
         "yaxis": "y2"
        },
        {
         "marker": {
          "color": [
           "rgb(31, 119, 180)",
           "rgb(31, 119, 180)",
           "rgb(31, 119, 180)",
           "rgb(31, 119, 180)",
           "rgb(31, 119, 180)",
           "rgb(31, 119, 180)",
           "rgb(31, 119, 180)",
           "rgb(31, 119, 180)",
           "rgb(31, 119, 180)",
           "rgb(31, 119, 180)",
           "rgb(31, 119, 180)",
           "rgb(31, 119, 180)",
           "rgb(31, 119, 180)",
           "rgb(31, 119, 180)",
           "rgb(31, 119, 180)",
           "rgb(31, 119, 180)",
           "rgb(31, 119, 180)",
           "rgb(31, 119, 180)",
           "rgb(31, 119, 180)",
           "rgb(31, 119, 180)",
           "rgb(31, 119, 180)",
           "rgb(31, 119, 180)",
           "rgb(31, 119, 180)",
           "rgb(31, 119, 180)",
           "rgb(31, 119, 180)",
           "rgb(31, 119, 180)",
           "rgb(31, 119, 180)",
           "rgb(31, 119, 180)",
           "rgb(31, 119, 180)",
           "rgb(31, 119, 180)",
           "rgb(31, 119, 180)",
           "rgb(31, 119, 180)",
           "rgb(31, 119, 180)",
           "rgb(31, 119, 180)",
           "rgb(31, 119, 180)",
           "rgb(31, 119, 180)",
           "rgb(31, 119, 180)",
           "rgb(31, 119, 180)",
           "rgb(31, 119, 180)",
           "rgb(31, 119, 180)",
           "rgb(31, 119, 180)",
           "rgb(31, 119, 180)",
           "rgb(31, 119, 180)",
           "rgb(31, 119, 180)",
           "rgb(31, 119, 180)",
           "rgb(31, 119, 180)",
           "rgb(31, 119, 180)",
           "rgb(31, 119, 180)"
          ]
         },
         "mode": "markers",
         "name": "Grad",
         "type": "scatter",
         "x": [
          15,
          14,
          16,
          25,
          29,
          20,
          33,
          14,
          20,
          16,
          18,
          17,
          45,
          24,
          28,
          20,
          22,
          16,
          47,
          38,
          41,
          16,
          25,
          16,
          19,
          52,
          49,
          19,
          20,
          22,
          19,
          40,
          35,
          26,
          45,
          24,
          25,
          26,
          15,
          14,
          16,
          25,
          29,
          20,
          33,
          14,
          20,
          16
         ],
         "xaxis": "x3",
         "y": [
          60000,
          61250,
          36000,
          70000,
          66250,
          86250,
          55000,
          90625,
          75000,
          61875,
          72500,
          68750,
          40200,
          78250,
          97000,
          91250,
          68750,
          59375,
          43950,
          69250,
          70875,
          67500,
          55500,
          75000,
          68125,
          52125,
          61875,
          66875,
          68125,
          73500,
          65000,
          51450,
          55000,
          62500,
          27000,
          78500,
          65000,
          66875,
          60000,
          61250,
          36000,
          70000,
          66250,
          86250,
          55000,
          90625,
          75000,
          61875
         ],
         "yaxis": "y3"
        },
        {
         "marker": {
          "color": [
           "rgb(31, 119, 180)",
           "rgb(31, 119, 180)",
           "rgb(31, 119, 180)",
           "rgb(31, 119, 180)",
           "rgb(31, 119, 180)",
           "rgb(31, 119, 180)",
           "rgb(31, 119, 180)",
           "rgb(31, 119, 180)",
           "rgb(255, 127, 14)",
           "rgb(31, 119, 180)",
           "rgb(31, 119, 180)",
           "rgb(31, 119, 180)",
           "rgb(255, 127, 14)",
           "rgb(31, 119, 180)",
           "rgb(31, 119, 180)",
           "rgb(31, 119, 180)",
           "rgb(31, 119, 180)",
           "rgb(31, 119, 180)",
           "rgb(31, 119, 180)",
           "rgb(31, 119, 180)",
           "rgb(31, 119, 180)",
           "rgb(31, 119, 180)",
           "rgb(31, 119, 180)",
           "rgb(255, 127, 14)",
           "rgb(31, 119, 180)",
           "rgb(255, 127, 14)",
           "rgb(31, 119, 180)",
           "rgb(31, 119, 180)",
           "rgb(31, 119, 180)",
           "rgb(31, 119, 180)",
           "rgb(31, 119, 180)",
           "rgb(31, 119, 180)",
           "rgb(31, 119, 180)",
           "rgb(31, 119, 180)",
           "rgb(255, 127, 14)",
           "rgb(255, 127, 14)",
           "rgb(31, 119, 180)",
           "rgb(31, 119, 180)",
           "rgb(31, 119, 180)",
           "rgb(255, 127, 14)",
           "rgb(255, 127, 14)",
           "rgb(31, 119, 180)",
           "rgb(31, 119, 180)",
           "rgb(31, 119, 180)",
           "rgb(255, 127, 14)",
           "rgb(255, 127, 14)",
           "rgb(255, 127, 14)",
           "rgb(31, 119, 180)",
           "rgb(31, 119, 180)",
           "rgb(31, 119, 180)",
           "rgb(255, 127, 14)",
           "rgb(31, 119, 180)",
           "rgb(31, 119, 180)",
           "rgb(31, 119, 180)",
           "rgb(31, 119, 180)",
           "rgb(31, 119, 180)",
           "rgb(31, 119, 180)",
           "rgb(31, 119, 180)",
           "rgb(31, 119, 180)",
           "rgb(31, 119, 180)",
           "rgb(255, 127, 14)",
           "rgb(255, 127, 14)",
           "rgb(31, 119, 180)",
           "rgb(31, 119, 180)",
           "rgb(255, 127, 14)",
           "rgb(31, 119, 180)",
           "rgb(31, 119, 180)",
           "rgb(31, 119, 180)",
           "rgb(31, 119, 180)",
           "rgb(31, 119, 180)",
           "rgb(31, 119, 180)",
           "rgb(31, 119, 180)",
           "rgb(255, 127, 14)",
           "rgb(255, 127, 14)",
           "rgb(31, 119, 180)",
           "rgb(31, 119, 180)",
           "rgb(31, 119, 180)",
           "rgb(31, 119, 180)",
           "rgb(31, 119, 180)",
           "rgb(255, 127, 14)",
           "rgb(31, 119, 180)",
           "rgb(255, 127, 14)",
           "rgb(255, 127, 14)",
           "rgb(31, 119, 180)",
           "rgb(31, 119, 180)",
           "rgb(255, 127, 14)",
           "rgb(31, 119, 180)",
           "rgb(31, 119, 180)",
           "rgb(31, 119, 180)",
           "rgb(31, 119, 180)",
           "rgb(31, 119, 180)",
           "rgb(255, 127, 14)",
           "rgb(31, 119, 180)",
           "rgb(31, 119, 180)",
           "rgb(31, 119, 180)",
           "rgb(31, 119, 180)",
           "rgb(31, 119, 180)",
           "rgb(31, 119, 180)",
           "rgb(31, 119, 180)",
           "rgb(31, 119, 180)",
           "rgb(255, 127, 14)",
           "rgb(31, 119, 180)",
           "rgb(31, 119, 180)",
           "rgb(31, 119, 180)",
           "rgb(255, 127, 14)",
           "rgb(31, 119, 180)",
           "rgb(31, 119, 180)",
           "rgb(31, 119, 180)",
           "rgb(31, 119, 180)"
          ]
         },
         "mode": "markers",
         "name": "Polytech",
         "type": "scatter",
         "x": [
          22,
          24,
          13,
          18,
          20,
          24,
          29,
          26,
          20,
          22,
          25,
          22,
          32,
          26,
          26,
          14,
          13,
          23,
          27,
          42,
          41,
          29,
          37,
          37,
          23,
          41,
          25,
          26,
          24,
          19,
          42,
          26,
          31,
          19,
          25,
          20,
          49,
          19,
          30,
          21,
          26,
          24,
          25,
          19,
          19,
          19,
          29,
          28,
          24,
          21,
          55,
          23,
          22,
          26,
          30,
          52,
          33,
          25,
          27,
          20,
          14,
          23,
          23,
          22,
          17,
          21,
          24,
          22,
          37,
          45,
          23,
          18,
          15,
          23,
          20,
          24,
          20,
          22,
          15,
          14,
          36,
          14,
          17,
          27,
          21,
          22,
          15,
          15,
          20,
          22,
          31,
          13,
          22,
          24,
          13,
          18,
          20,
          24,
          29,
          26,
          20,
          22,
          25,
          22,
          32,
          26,
          26,
          14,
          13
         ],
         "xaxis": "x4",
         "y": [
          30300,
          31950,
          35250,
          37800,
          31200,
          29400,
          33900,
          27150,
          31350,
          31950,
          40350,
          32400,
          23850,
          28050,
          49000,
          28500,
          31650,
          25950,
          31650,
          57000,
          45000,
          32100,
          36000,
          27900,
          27750,
          35100,
          46000,
          39900,
          27450,
          31650,
          28350,
          37800,
          33450,
          30300,
          18750,
          32550,
          24300,
          31500,
          27000,
          35550,
          26550,
          35250,
          26700,
          30900,
          29400,
          33300,
          29850,
          39300,
          38850,
          37500,
          27150,
          54900,
          39600,
          33150,
          27300,
          30600,
          28950,
          38400,
          30150,
          80000,
          21900,
          25650,
          26550,
          50550,
          28200,
          40200,
          27750,
          27900,
          40050,
          38700,
          25950,
          25050,
          32550,
          25800,
          30750,
          34500,
          26250,
          27750,
          43410,
          25500,
          27300,
          37050,
          22950,
          25950,
          28350,
          23550,
          28050,
          29400,
          29850,
          25350,
          30150,
          24150,
          30300,
          31950,
          35250,
          37800,
          31200,
          29400,
          33900,
          27150,
          31350,
          31950,
          40350,
          32400,
          23850,
          28050,
          49000,
          28500,
          31650
         ],
         "yaxis": "y4"
        },
        {
         "marker": {
          "color": [
           "rgb(31, 119, 180)",
           "rgb(31, 119, 180)",
           "rgb(255, 127, 14)",
           "rgb(255, 127, 14)",
           "rgb(255, 127, 14)",
           "rgb(255, 127, 14)",
           "rgb(255, 127, 14)",
           "rgb(31, 119, 180)",
           "rgb(255, 127, 14)",
           "rgb(31, 119, 180)",
           "rgb(255, 127, 14)",
           "rgb(31, 119, 180)",
           "rgb(255, 127, 14)",
           "rgb(255, 127, 14)",
           "rgb(255, 127, 14)",
           "rgb(255, 127, 14)",
           "rgb(255, 127, 14)",
           "rgb(255, 127, 14)",
           "rgb(31, 119, 180)",
           "rgb(255, 127, 14)",
           "rgb(255, 127, 14)",
           "rgb(31, 119, 180)",
           "rgb(255, 127, 14)",
           "rgb(255, 127, 14)",
           "rgb(255, 127, 14)",
           "rgb(255, 127, 14)",
           "rgb(255, 127, 14)",
           "rgb(31, 119, 180)",
           "rgb(255, 127, 14)",
           "rgb(31, 119, 180)",
           "rgb(31, 119, 180)",
           "rgb(255, 127, 14)"
          ]
         },
         "mode": "markers",
         "name": "High Drop",
         "type": "scatter",
         "x": [
          39,
          29,
          28,
          51,
          17,
          16,
          17,
          41,
          50,
          22,
          31,
          45,
          21,
          27,
          22,
          16,
          15,
          14,
          18,
          26,
          26,
          38,
          20,
          41,
          45,
          47,
          30,
          42,
          15,
          39,
          29,
          28
         ],
         "xaxis": "x5",
         "y": [
          30300,
          26250,
          24150,
          21600,
          25050,
          16200,
          24000,
          30000,
          21900,
          28350,
          20100,
          26250,
          29100,
          19800,
          22350,
          27450,
          22500,
          17100,
          21300,
          20850,
          16800,
          29550,
          15900,
          21150,
          17700,
          21450,
          19650,
          28500,
          29100,
          30300,
          26250,
          24150
         ],
         "yaxis": "y5"
        }
       ],
       "layout": {
        "annotations": [
         {
          "font": {
           "size": 16
          },
          "showarrow": false,
          "text": "College",
          "x": 0.225,
          "xanchor": "center",
          "xref": "paper",
          "y": 1,
          "yanchor": "bottom",
          "yref": "paper"
         },
         {
          "font": {
           "size": 16
          },
          "showarrow": false,
          "text": "High Grad",
          "x": 0.775,
          "xanchor": "center",
          "xref": "paper",
          "y": 1,
          "yanchor": "bottom",
          "yref": "paper"
         },
         {
          "font": {
           "size": 16
          },
          "showarrow": false,
          "text": "Grad",
          "x": 0.225,
          "xanchor": "center",
          "xref": "paper",
          "y": 0.6111111111111112,
          "yanchor": "bottom",
          "yref": "paper"
         },
         {
          "font": {
           "size": 16
          },
          "showarrow": false,
          "text": "Polytech",
          "x": 0.775,
          "xanchor": "center",
          "xref": "paper",
          "y": 0.6111111111111112,
          "yanchor": "bottom",
          "yref": "paper"
         },
         {
          "font": {
           "size": 16
          },
          "showarrow": false,
          "text": "High Drop",
          "x": 0.225,
          "xanchor": "center",
          "xref": "paper",
          "y": 0.22222222222222224,
          "yanchor": "bottom",
          "yref": "paper"
         }
        ],
        "height": 800,
        "showlegend": true,
        "template": {
         "data": {
          "bar": [
           {
            "error_x": {
             "color": "#2a3f5f"
            },
            "error_y": {
             "color": "#2a3f5f"
            },
            "marker": {
             "line": {
              "color": "#E5ECF6",
              "width": 0.5
             },
             "pattern": {
              "fillmode": "overlay",
              "size": 10,
              "solidity": 0.2
             }
            },
            "type": "bar"
           }
          ],
          "barpolar": [
           {
            "marker": {
             "line": {
              "color": "#E5ECF6",
              "width": 0.5
             },
             "pattern": {
              "fillmode": "overlay",
              "size": 10,
              "solidity": 0.2
             }
            },
            "type": "barpolar"
           }
          ],
          "carpet": [
           {
            "aaxis": {
             "endlinecolor": "#2a3f5f",
             "gridcolor": "white",
             "linecolor": "white",
             "minorgridcolor": "white",
             "startlinecolor": "#2a3f5f"
            },
            "baxis": {
             "endlinecolor": "#2a3f5f",
             "gridcolor": "white",
             "linecolor": "white",
             "minorgridcolor": "white",
             "startlinecolor": "#2a3f5f"
            },
            "type": "carpet"
           }
          ],
          "choropleth": [
           {
            "colorbar": {
             "outlinewidth": 0,
             "ticks": ""
            },
            "type": "choropleth"
           }
          ],
          "contour": [
           {
            "colorbar": {
             "outlinewidth": 0,
             "ticks": ""
            },
            "colorscale": [
             [
              0,
              "#0d0887"
             ],
             [
              0.1111111111111111,
              "#46039f"
             ],
             [
              0.2222222222222222,
              "#7201a8"
             ],
             [
              0.3333333333333333,
              "#9c179e"
             ],
             [
              0.4444444444444444,
              "#bd3786"
             ],
             [
              0.5555555555555556,
              "#d8576b"
             ],
             [
              0.6666666666666666,
              "#ed7953"
             ],
             [
              0.7777777777777778,
              "#fb9f3a"
             ],
             [
              0.8888888888888888,
              "#fdca26"
             ],
             [
              1,
              "#f0f921"
             ]
            ],
            "type": "contour"
           }
          ],
          "contourcarpet": [
           {
            "colorbar": {
             "outlinewidth": 0,
             "ticks": ""
            },
            "type": "contourcarpet"
           }
          ],
          "heatmap": [
           {
            "colorbar": {
             "outlinewidth": 0,
             "ticks": ""
            },
            "colorscale": [
             [
              0,
              "#0d0887"
             ],
             [
              0.1111111111111111,
              "#46039f"
             ],
             [
              0.2222222222222222,
              "#7201a8"
             ],
             [
              0.3333333333333333,
              "#9c179e"
             ],
             [
              0.4444444444444444,
              "#bd3786"
             ],
             [
              0.5555555555555556,
              "#d8576b"
             ],
             [
              0.6666666666666666,
              "#ed7953"
             ],
             [
              0.7777777777777778,
              "#fb9f3a"
             ],
             [
              0.8888888888888888,
              "#fdca26"
             ],
             [
              1,
              "#f0f921"
             ]
            ],
            "type": "heatmap"
           }
          ],
          "heatmapgl": [
           {
            "colorbar": {
             "outlinewidth": 0,
             "ticks": ""
            },
            "colorscale": [
             [
              0,
              "#0d0887"
             ],
             [
              0.1111111111111111,
              "#46039f"
             ],
             [
              0.2222222222222222,
              "#7201a8"
             ],
             [
              0.3333333333333333,
              "#9c179e"
             ],
             [
              0.4444444444444444,
              "#bd3786"
             ],
             [
              0.5555555555555556,
              "#d8576b"
             ],
             [
              0.6666666666666666,
              "#ed7953"
             ],
             [
              0.7777777777777778,
              "#fb9f3a"
             ],
             [
              0.8888888888888888,
              "#fdca26"
             ],
             [
              1,
              "#f0f921"
             ]
            ],
            "type": "heatmapgl"
           }
          ],
          "histogram": [
           {
            "marker": {
             "pattern": {
              "fillmode": "overlay",
              "size": 10,
              "solidity": 0.2
             }
            },
            "type": "histogram"
           }
          ],
          "histogram2d": [
           {
            "colorbar": {
             "outlinewidth": 0,
             "ticks": ""
            },
            "colorscale": [
             [
              0,
              "#0d0887"
             ],
             [
              0.1111111111111111,
              "#46039f"
             ],
             [
              0.2222222222222222,
              "#7201a8"
             ],
             [
              0.3333333333333333,
              "#9c179e"
             ],
             [
              0.4444444444444444,
              "#bd3786"
             ],
             [
              0.5555555555555556,
              "#d8576b"
             ],
             [
              0.6666666666666666,
              "#ed7953"
             ],
             [
              0.7777777777777778,
              "#fb9f3a"
             ],
             [
              0.8888888888888888,
              "#fdca26"
             ],
             [
              1,
              "#f0f921"
             ]
            ],
            "type": "histogram2d"
           }
          ],
          "histogram2dcontour": [
           {
            "colorbar": {
             "outlinewidth": 0,
             "ticks": ""
            },
            "colorscale": [
             [
              0,
              "#0d0887"
             ],
             [
              0.1111111111111111,
              "#46039f"
             ],
             [
              0.2222222222222222,
              "#7201a8"
             ],
             [
              0.3333333333333333,
              "#9c179e"
             ],
             [
              0.4444444444444444,
              "#bd3786"
             ],
             [
              0.5555555555555556,
              "#d8576b"
             ],
             [
              0.6666666666666666,
              "#ed7953"
             ],
             [
              0.7777777777777778,
              "#fb9f3a"
             ],
             [
              0.8888888888888888,
              "#fdca26"
             ],
             [
              1,
              "#f0f921"
             ]
            ],
            "type": "histogram2dcontour"
           }
          ],
          "mesh3d": [
           {
            "colorbar": {
             "outlinewidth": 0,
             "ticks": ""
            },
            "type": "mesh3d"
           }
          ],
          "parcoords": [
           {
            "line": {
             "colorbar": {
              "outlinewidth": 0,
              "ticks": ""
             }
            },
            "type": "parcoords"
           }
          ],
          "pie": [
           {
            "automargin": true,
            "type": "pie"
           }
          ],
          "scatter": [
           {
            "fillpattern": {
             "fillmode": "overlay",
             "size": 10,
             "solidity": 0.2
            },
            "type": "scatter"
           }
          ],
          "scatter3d": [
           {
            "line": {
             "colorbar": {
              "outlinewidth": 0,
              "ticks": ""
             }
            },
            "marker": {
             "colorbar": {
              "outlinewidth": 0,
              "ticks": ""
             }
            },
            "type": "scatter3d"
           }
          ],
          "scattercarpet": [
           {
            "marker": {
             "colorbar": {
              "outlinewidth": 0,
              "ticks": ""
             }
            },
            "type": "scattercarpet"
           }
          ],
          "scattergeo": [
           {
            "marker": {
             "colorbar": {
              "outlinewidth": 0,
              "ticks": ""
             }
            },
            "type": "scattergeo"
           }
          ],
          "scattergl": [
           {
            "marker": {
             "colorbar": {
              "outlinewidth": 0,
              "ticks": ""
             }
            },
            "type": "scattergl"
           }
          ],
          "scattermapbox": [
           {
            "marker": {
             "colorbar": {
              "outlinewidth": 0,
              "ticks": ""
             }
            },
            "type": "scattermapbox"
           }
          ],
          "scatterpolar": [
           {
            "marker": {
             "colorbar": {
              "outlinewidth": 0,
              "ticks": ""
             }
            },
            "type": "scatterpolar"
           }
          ],
          "scatterpolargl": [
           {
            "marker": {
             "colorbar": {
              "outlinewidth": 0,
              "ticks": ""
             }
            },
            "type": "scatterpolargl"
           }
          ],
          "scatterternary": [
           {
            "marker": {
             "colorbar": {
              "outlinewidth": 0,
              "ticks": ""
             }
            },
            "type": "scatterternary"
           }
          ],
          "surface": [
           {
            "colorbar": {
             "outlinewidth": 0,
             "ticks": ""
            },
            "colorscale": [
             [
              0,
              "#0d0887"
             ],
             [
              0.1111111111111111,
              "#46039f"
             ],
             [
              0.2222222222222222,
              "#7201a8"
             ],
             [
              0.3333333333333333,
              "#9c179e"
             ],
             [
              0.4444444444444444,
              "#bd3786"
             ],
             [
              0.5555555555555556,
              "#d8576b"
             ],
             [
              0.6666666666666666,
              "#ed7953"
             ],
             [
              0.7777777777777778,
              "#fb9f3a"
             ],
             [
              0.8888888888888888,
              "#fdca26"
             ],
             [
              1,
              "#f0f921"
             ]
            ],
            "type": "surface"
           }
          ],
          "table": [
           {
            "cells": {
             "fill": {
              "color": "#EBF0F8"
             },
             "line": {
              "color": "white"
             }
            },
            "header": {
             "fill": {
              "color": "#C8D4E3"
             },
             "line": {
              "color": "white"
             }
            },
            "type": "table"
           }
          ]
         },
         "layout": {
          "annotationdefaults": {
           "arrowcolor": "#2a3f5f",
           "arrowhead": 0,
           "arrowwidth": 1
          },
          "autotypenumbers": "strict",
          "coloraxis": {
           "colorbar": {
            "outlinewidth": 0,
            "ticks": ""
           }
          },
          "colorscale": {
           "diverging": [
            [
             0,
             "#8e0152"
            ],
            [
             0.1,
             "#c51b7d"
            ],
            [
             0.2,
             "#de77ae"
            ],
            [
             0.3,
             "#f1b6da"
            ],
            [
             0.4,
             "#fde0ef"
            ],
            [
             0.5,
             "#f7f7f7"
            ],
            [
             0.6,
             "#e6f5d0"
            ],
            [
             0.7,
             "#b8e186"
            ],
            [
             0.8,
             "#7fbc41"
            ],
            [
             0.9,
             "#4d9221"
            ],
            [
             1,
             "#276419"
            ]
           ],
           "sequential": [
            [
             0,
             "#0d0887"
            ],
            [
             0.1111111111111111,
             "#46039f"
            ],
            [
             0.2222222222222222,
             "#7201a8"
            ],
            [
             0.3333333333333333,
             "#9c179e"
            ],
            [
             0.4444444444444444,
             "#bd3786"
            ],
            [
             0.5555555555555556,
             "#d8576b"
            ],
            [
             0.6666666666666666,
             "#ed7953"
            ],
            [
             0.7777777777777778,
             "#fb9f3a"
            ],
            [
             0.8888888888888888,
             "#fdca26"
            ],
            [
             1,
             "#f0f921"
            ]
           ],
           "sequentialminus": [
            [
             0,
             "#0d0887"
            ],
            [
             0.1111111111111111,
             "#46039f"
            ],
            [
             0.2222222222222222,
             "#7201a8"
            ],
            [
             0.3333333333333333,
             "#9c179e"
            ],
            [
             0.4444444444444444,
             "#bd3786"
            ],
            [
             0.5555555555555556,
             "#d8576b"
            ],
            [
             0.6666666666666666,
             "#ed7953"
            ],
            [
             0.7777777777777778,
             "#fb9f3a"
            ],
            [
             0.8888888888888888,
             "#fdca26"
            ],
            [
             1,
             "#f0f921"
            ]
           ]
          },
          "colorway": [
           "#636efa",
           "#EF553B",
           "#00cc96",
           "#ab63fa",
           "#FFA15A",
           "#19d3f3",
           "#FF6692",
           "#B6E880",
           "#FF97FF",
           "#FECB52"
          ],
          "font": {
           "color": "#2a3f5f"
          },
          "geo": {
           "bgcolor": "white",
           "lakecolor": "white",
           "landcolor": "#E5ECF6",
           "showlakes": true,
           "showland": true,
           "subunitcolor": "white"
          },
          "hoverlabel": {
           "align": "left"
          },
          "hovermode": "closest",
          "mapbox": {
           "style": "light"
          },
          "paper_bgcolor": "white",
          "plot_bgcolor": "#E5ECF6",
          "polar": {
           "angularaxis": {
            "gridcolor": "white",
            "linecolor": "white",
            "ticks": ""
           },
           "bgcolor": "#E5ECF6",
           "radialaxis": {
            "gridcolor": "white",
            "linecolor": "white",
            "ticks": ""
           }
          },
          "scene": {
           "xaxis": {
            "backgroundcolor": "#E5ECF6",
            "gridcolor": "white",
            "gridwidth": 2,
            "linecolor": "white",
            "showbackground": true,
            "ticks": "",
            "zerolinecolor": "white"
           },
           "yaxis": {
            "backgroundcolor": "#E5ECF6",
            "gridcolor": "white",
            "gridwidth": 2,
            "linecolor": "white",
            "showbackground": true,
            "ticks": "",
            "zerolinecolor": "white"
           },
           "zaxis": {
            "backgroundcolor": "#E5ECF6",
            "gridcolor": "white",
            "gridwidth": 2,
            "linecolor": "white",
            "showbackground": true,
            "ticks": "",
            "zerolinecolor": "white"
           }
          },
          "shapedefaults": {
           "line": {
            "color": "#2a3f5f"
           }
          },
          "ternary": {
           "aaxis": {
            "gridcolor": "white",
            "linecolor": "white",
            "ticks": ""
           },
           "baxis": {
            "gridcolor": "white",
            "linecolor": "white",
            "ticks": ""
           },
           "bgcolor": "#E5ECF6",
           "caxis": {
            "gridcolor": "white",
            "linecolor": "white",
            "ticks": ""
           }
          },
          "title": {
           "x": 0.05
          },
          "xaxis": {
           "automargin": true,
           "gridcolor": "white",
           "linecolor": "white",
           "ticks": "",
           "title": {
            "standoff": 15
           },
           "zerolinecolor": "white",
           "zerolinewidth": 2
          },
          "yaxis": {
           "automargin": true,
           "gridcolor": "white",
           "linecolor": "white",
           "ticks": "",
           "title": {
            "standoff": 15
           },
           "zerolinecolor": "white",
           "zerolinewidth": 2
          }
         }
        },
        "width": 800,
        "xaxis": {
         "anchor": "y",
         "domain": [
          0,
          0.45
         ]
        },
        "xaxis2": {
         "anchor": "y2",
         "domain": [
          0.55,
          1
         ]
        },
        "xaxis3": {
         "anchor": "y3",
         "domain": [
          0,
          0.45
         ]
        },
        "xaxis4": {
         "anchor": "y4",
         "domain": [
          0.55,
          1
         ]
        },
        "xaxis5": {
         "anchor": "y5",
         "domain": [
          0,
          0.45
         ]
        },
        "xaxis6": {
         "anchor": "y6",
         "domain": [
          0.55,
          1
         ]
        },
        "yaxis": {
         "anchor": "x",
         "domain": [
          0.7777777777777778,
          1
         ]
        },
        "yaxis2": {
         "anchor": "x2",
         "domain": [
          0.7777777777777778,
          1
         ]
        },
        "yaxis3": {
         "anchor": "x3",
         "domain": [
          0.3888888888888889,
          0.6111111111111112
         ]
        },
        "yaxis4": {
         "anchor": "x4",
         "domain": [
          0.3888888888888889,
          0.6111111111111112
         ]
        },
        "yaxis5": {
         "anchor": "x5",
         "domain": [
          0,
          0.22222222222222224
         ]
        },
        "yaxis6": {
         "anchor": "x6",
         "domain": [
          0,
          0.22222222222222224
         ]
        }
       }
      }
     },
     "metadata": {},
     "output_type": "display_data"
    }
   ],
   "source": [
    "fig = make_subplots(rows=3, cols=2, subplot_titles=[\"College\", \"High Grad\", \"Grad\", \"Polytech\", \"High Drop\"])\n",
    "\n",
    "df_college = engin[engin[\"college\"] == 1]\n",
    "df_highgrad = engin[engin[\"highgrad\"] == 1]\n",
    "df_grad = engin[engin[\"grad\"] == 1]\n",
    "df_polytech = engin[engin[\"polytech\"] == 1]\n",
    "df_highdrop = engin[engin[\"highdrop\"] == 1]\n",
    "\n",
    "color_scale = {'male': 'rgb(31, 119, 180)', 'female': 'rgb(255, 127, 14)'}\n",
    "\n",
    "scatter_college = go.Scatter(x=df_college['totexp'], y=df_college['wage'], mode='markers', marker=dict(color=df_college['sex'].map(color_scale)), name='College')\n",
    "scatter_highgrad = go.Scatter(x=df_highgrad['totexp'], y=df_highgrad['wage'], mode='markers', marker=dict(color=df_highgrad['sex'].map(color_scale)), name='High Grad')\n",
    "scatter_grad = go.Scatter(x=df_grad['totexp'], y=df_grad['wage'], mode='markers', marker=dict(color=df_grad['sex'].map(color_scale)), name='Grad')\n",
    "scatter_polytech = go.Scatter(x=df_polytech['totexp'], y=df_polytech['wage'], mode='markers', marker=dict(color=df_polytech['sex'].map(color_scale)), name='Polytech')\n",
    "scatter_highdrop = go.Scatter(x=df_highdrop['totexp'], y=df_highdrop['wage'], mode='markers', marker=dict(color=df_highdrop['sex'].map(color_scale)), name='High Drop')\n",
    "\n",
    "fig.add_trace(scatter_college, row=1, col=1)\n",
    "fig.add_trace(scatter_highgrad, row=1, col=2)\n",
    "fig.add_trace(scatter_grad, row=2, col=1)\n",
    "fig.add_trace(scatter_polytech, row=2, col=2)\n",
    "fig.add_trace(scatter_highdrop, row=3, col=1)\n",
    "\n",
    "fig.update_layout(showlegend=False)\n",
    "\n",
    "fig.update_layout(height=800, width=800, showlegend=True)\n",
    "\n",
    "fig.show()\n",
    "\n"
   ]
  },
  {
   "cell_type": "markdown",
   "metadata": {},
   "source": [
    "Correlation between the variables."
   ]
  },
  {
   "cell_type": "code",
   "execution_count": null,
   "metadata": {},
   "outputs": [
    {
     "data": {
      "text/html": [
       "<div>\n",
       "<style scoped>\n",
       "    .dataframe tbody tr th:only-of-type {\n",
       "        vertical-align: middle;\n",
       "    }\n",
       "\n",
       "    .dataframe tbody tr th {\n",
       "        vertical-align: top;\n",
       "    }\n",
       "\n",
       "    .dataframe thead th {\n",
       "        text-align: right;\n",
       "    }\n",
       "</style>\n",
       "<table border=\"1\" class=\"dataframe\">\n",
       "  <thead>\n",
       "    <tr style=\"text-align: right;\">\n",
       "      <th></th>\n",
       "      <th>male</th>\n",
       "      <th>educ</th>\n",
       "      <th>wage</th>\n",
       "      <th>swage</th>\n",
       "      <th>exper</th>\n",
       "      <th>pexper</th>\n",
       "      <th>lwage</th>\n",
       "      <th>expersq</th>\n",
       "      <th>highgrad</th>\n",
       "      <th>college</th>\n",
       "      <th>grad</th>\n",
       "      <th>polytech</th>\n",
       "      <th>highdrop</th>\n",
       "      <th>lswage</th>\n",
       "      <th>pexpersq</th>\n",
       "      <th>mleeduc</th>\n",
       "      <th>mleeduc0</th>\n",
       "      <th>female</th>\n",
       "      <th>totexp</th>\n",
       "      <th>education</th>\n",
       "    </tr>\n",
       "  </thead>\n",
       "  <tbody>\n",
       "    <tr>\n",
       "      <th>male</th>\n",
       "      <td>1.000000</td>\n",
       "      <td>0.497004</td>\n",
       "      <td>0.506924</td>\n",
       "      <td>0.523953</td>\n",
       "      <td>-0.046633</td>\n",
       "      <td>0.128718</td>\n",
       "      <td>0.575732</td>\n",
       "      <td>-0.040331</td>\n",
       "      <td>-0.492231</td>\n",
       "      <td>0.086404</td>\n",
       "      <td>0.347291</td>\n",
       "      <td>0.306505</td>\n",
       "      <td>-0.127102</td>\n",
       "      <td>0.607345</td>\n",
       "      <td>0.017532</td>\n",
       "      <td>0.968409</td>\n",
       "      <td>0.257803</td>\n",
       "      <td>-1.000000</td>\n",
       "      <td>0.118674</td>\n",
       "      <td>-0.223447</td>\n",
       "    </tr>\n",
       "    <tr>\n",
       "      <th>educ</th>\n",
       "      <td>0.497004</td>\n",
       "      <td>1.000000</td>\n",
       "      <td>0.699165</td>\n",
       "      <td>0.699695</td>\n",
       "      <td>-0.053002</td>\n",
       "      <td>-0.068847</td>\n",
       "      <td>0.742070</td>\n",
       "      <td>-0.050755</td>\n",
       "      <td>-0.523056</td>\n",
       "      <td>0.300930</td>\n",
       "      <td>0.635409</td>\n",
       "      <td>0.266501</td>\n",
       "      <td>-0.607454</td>\n",
       "      <td>0.746220</td>\n",
       "      <td>-0.117293</td>\n",
       "      <td>0.655179</td>\n",
       "      <td>0.801829</td>\n",
       "      <td>-0.497004</td>\n",
       "      <td>-0.076261</td>\n",
       "      <td>0.098404</td>\n",
       "    </tr>\n",
       "    <tr>\n",
       "      <th>wage</th>\n",
       "      <td>0.506924</td>\n",
       "      <td>0.699165</td>\n",
       "      <td>1.000000</td>\n",
       "      <td>0.883653</td>\n",
       "      <td>-0.033213</td>\n",
       "      <td>-0.044684</td>\n",
       "      <td>0.972472</td>\n",
       "      <td>-0.026613</td>\n",
       "      <td>-0.471430</td>\n",
       "      <td>0.315528</td>\n",
       "      <td>0.666035</td>\n",
       "      <td>-0.076975</td>\n",
       "      <td>-0.191300</td>\n",
       "      <td>0.881079</td>\n",
       "      <td>-0.097047</td>\n",
       "      <td>0.623823</td>\n",
       "      <td>0.645673</td>\n",
       "      <td>-0.506924</td>\n",
       "      <td>-0.049301</td>\n",
       "      <td>0.085467</td>\n",
       "    </tr>\n",
       "    <tr>\n",
       "      <th>swage</th>\n",
       "      <td>0.523953</td>\n",
       "      <td>0.699695</td>\n",
       "      <td>0.883653</td>\n",
       "      <td>1.000000</td>\n",
       "      <td>-0.102900</td>\n",
       "      <td>0.127616</td>\n",
       "      <td>0.863976</td>\n",
       "      <td>-0.101072</td>\n",
       "      <td>-0.459583</td>\n",
       "      <td>0.254638</td>\n",
       "      <td>0.729379</td>\n",
       "      <td>-0.103921</td>\n",
       "      <td>-0.171535</td>\n",
       "      <td>0.974248</td>\n",
       "      <td>0.058074</td>\n",
       "      <td>0.643540</td>\n",
       "      <td>0.662562</td>\n",
       "      <td>-0.523953</td>\n",
       "      <td>0.108362</td>\n",
       "      <td>0.058658</td>\n",
       "    </tr>\n",
       "    <tr>\n",
       "      <th>exper</th>\n",
       "      <td>-0.046633</td>\n",
       "      <td>-0.053002</td>\n",
       "      <td>-0.033213</td>\n",
       "      <td>-0.102900</td>\n",
       "      <td>1.000000</td>\n",
       "      <td>0.030889</td>\n",
       "      <td>-0.013747</td>\n",
       "      <td>0.996419</td>\n",
       "      <td>0.005000</td>\n",
       "      <td>0.027792</td>\n",
       "      <td>-0.090473</td>\n",
       "      <td>0.028786</td>\n",
       "      <td>0.018699</td>\n",
       "      <td>-0.094895</td>\n",
       "      <td>0.042241</td>\n",
       "      <td>-0.065493</td>\n",
       "      <td>-0.090808</td>\n",
       "      <td>0.046633</td>\n",
       "      <td>0.194359</td>\n",
       "      <td>-0.001219</td>\n",
       "    </tr>\n",
       "    <tr>\n",
       "      <th>pexper</th>\n",
       "      <td>0.128718</td>\n",
       "      <td>-0.068847</td>\n",
       "      <td>-0.044684</td>\n",
       "      <td>0.127616</td>\n",
       "      <td>0.030889</td>\n",
       "      <td>1.000000</td>\n",
       "      <td>-0.059200</td>\n",
       "      <td>0.034026</td>\n",
       "      <td>-0.032520</td>\n",
       "      <td>-0.045312</td>\n",
       "      <td>0.019850</td>\n",
       "      <td>-0.023923</td>\n",
       "      <td>0.129009</td>\n",
       "      <td>0.137061</td>\n",
       "      <td>0.950177</td>\n",
       "      <td>0.093248</td>\n",
       "      <td>-0.088491</td>\n",
       "      <td>-0.128718</td>\n",
       "      <td>0.986466</td>\n",
       "      <td>-0.083619</td>\n",
       "    </tr>\n",
       "    <tr>\n",
       "      <th>lwage</th>\n",
       "      <td>0.575732</td>\n",
       "      <td>0.742070</td>\n",
       "      <td>0.972472</td>\n",
       "      <td>0.863976</td>\n",
       "      <td>-0.013747</td>\n",
       "      <td>-0.059200</td>\n",
       "      <td>1.000000</td>\n",
       "      <td>-0.007910</td>\n",
       "      <td>-0.521729</td>\n",
       "      <td>0.339689</td>\n",
       "      <td>0.640391</td>\n",
       "      <td>0.002628</td>\n",
       "      <td>-0.228743</td>\n",
       "      <td>0.896176</td>\n",
       "      <td>-0.119911</td>\n",
       "      <td>0.681357</td>\n",
       "      <td>0.628150</td>\n",
       "      <td>-0.575732</td>\n",
       "      <td>-0.060354</td>\n",
       "      <td>0.062965</td>\n",
       "    </tr>\n",
       "    <tr>\n",
       "      <th>expersq</th>\n",
       "      <td>-0.040331</td>\n",
       "      <td>-0.050755</td>\n",
       "      <td>-0.026613</td>\n",
       "      <td>-0.101072</td>\n",
       "      <td>0.996419</td>\n",
       "      <td>0.034026</td>\n",
       "      <td>-0.007910</td>\n",
       "      <td>1.000000</td>\n",
       "      <td>0.002606</td>\n",
       "      <td>0.028147</td>\n",
       "      <td>-0.090420</td>\n",
       "      <td>0.031662</td>\n",
       "      <td>0.017843</td>\n",
       "      <td>-0.092813</td>\n",
       "      <td>0.044553</td>\n",
       "      <td>-0.059678</td>\n",
       "      <td>-0.090296</td>\n",
       "      <td>0.040331</td>\n",
       "      <td>0.196850</td>\n",
       "      <td>-0.002770</td>\n",
       "    </tr>\n",
       "    <tr>\n",
       "      <th>highgrad</th>\n",
       "      <td>-0.492231</td>\n",
       "      <td>-0.523056</td>\n",
       "      <td>-0.471430</td>\n",
       "      <td>-0.459583</td>\n",
       "      <td>0.005000</td>\n",
       "      <td>-0.032520</td>\n",
       "      <td>-0.521729</td>\n",
       "      <td>0.002606</td>\n",
       "      <td>1.000000</td>\n",
       "      <td>-0.307742</td>\n",
       "      <td>-0.307742</td>\n",
       "      <td>-0.509588</td>\n",
       "      <td>-0.245792</td>\n",
       "      <td>-0.520416</td>\n",
       "      <td>0.050780</td>\n",
       "      <td>-0.553637</td>\n",
       "      <td>-0.425075</td>\n",
       "      <td>0.492231</td>\n",
       "      <td>-0.031095</td>\n",
       "      <td>0.547754</td>\n",
       "    </tr>\n",
       "    <tr>\n",
       "      <th>college</th>\n",
       "      <td>0.086404</td>\n",
       "      <td>0.300930</td>\n",
       "      <td>0.315528</td>\n",
       "      <td>0.254638</td>\n",
       "      <td>0.027792</td>\n",
       "      <td>-0.045312</td>\n",
       "      <td>0.339689</td>\n",
       "      <td>0.028147</td>\n",
       "      <td>-0.307742</td>\n",
       "      <td>1.000000</td>\n",
       "      <td>-0.135211</td>\n",
       "      <td>-0.223896</td>\n",
       "      <td>-0.107993</td>\n",
       "      <td>0.293755</td>\n",
       "      <td>-0.049051</td>\n",
       "      <td>0.113314</td>\n",
       "      <td>0.137116</td>\n",
       "      <td>-0.086404</td>\n",
       "      <td>-0.039910</td>\n",
       "      <td>0.555969</td>\n",
       "    </tr>\n",
       "    <tr>\n",
       "      <th>grad</th>\n",
       "      <td>0.347291</td>\n",
       "      <td>0.635409</td>\n",
       "      <td>0.666035</td>\n",
       "      <td>0.729379</td>\n",
       "      <td>-0.090473</td>\n",
       "      <td>0.019850</td>\n",
       "      <td>0.640391</td>\n",
       "      <td>-0.090420</td>\n",
       "      <td>-0.307742</td>\n",
       "      <td>-0.135211</td>\n",
       "      <td>1.000000</td>\n",
       "      <td>-0.223896</td>\n",
       "      <td>-0.107993</td>\n",
       "      <td>0.709237</td>\n",
       "      <td>0.005092</td>\n",
       "      <td>0.501834</td>\n",
       "      <td>0.730835</td>\n",
       "      <td>-0.347291</td>\n",
       "      <td>0.004639</td>\n",
       "      <td>-0.074640</td>\n",
       "    </tr>\n",
       "    <tr>\n",
       "      <th>polytech</th>\n",
       "      <td>0.306505</td>\n",
       "      <td>0.266501</td>\n",
       "      <td>-0.076975</td>\n",
       "      <td>-0.103921</td>\n",
       "      <td>0.028786</td>\n",
       "      <td>-0.023923</td>\n",
       "      <td>0.002628</td>\n",
       "      <td>0.031662</td>\n",
       "      <td>-0.509588</td>\n",
       "      <td>-0.223896</td>\n",
       "      <td>-0.223896</td>\n",
       "      <td>1.000000</td>\n",
       "      <td>-0.178825</td>\n",
       "      <td>-0.032361</td>\n",
       "      <td>-0.101053</td>\n",
       "      <td>0.290483</td>\n",
       "      <td>0.054456</td>\n",
       "      <td>-0.306505</td>\n",
       "      <td>-0.018756</td>\n",
       "      <td>-0.645709</td>\n",
       "    </tr>\n",
       "    <tr>\n",
       "      <th>highdrop</th>\n",
       "      <td>-0.127102</td>\n",
       "      <td>-0.607454</td>\n",
       "      <td>-0.191300</td>\n",
       "      <td>-0.171535</td>\n",
       "      <td>0.018699</td>\n",
       "      <td>0.129009</td>\n",
       "      <td>-0.228743</td>\n",
       "      <td>0.017843</td>\n",
       "      <td>-0.245792</td>\n",
       "      <td>-0.107993</td>\n",
       "      <td>-0.107993</td>\n",
       "      <td>-0.178825</td>\n",
       "      <td>1.000000</td>\n",
       "      <td>-0.201098</td>\n",
       "      <td>0.126250</td>\n",
       "      <td>-0.206383</td>\n",
       "      <td>-0.355508</td>\n",
       "      <td>0.127102</td>\n",
       "      <td>0.129676</td>\n",
       "      <td>-0.512914</td>\n",
       "    </tr>\n",
       "    <tr>\n",
       "      <th>lswage</th>\n",
       "      <td>0.607345</td>\n",
       "      <td>0.746220</td>\n",
       "      <td>0.881079</td>\n",
       "      <td>0.974248</td>\n",
       "      <td>-0.094895</td>\n",
       "      <td>0.137061</td>\n",
       "      <td>0.896176</td>\n",
       "      <td>-0.092813</td>\n",
       "      <td>-0.520416</td>\n",
       "      <td>0.293755</td>\n",
       "      <td>0.709237</td>\n",
       "      <td>-0.032361</td>\n",
       "      <td>-0.201098</td>\n",
       "      <td>1.000000</td>\n",
       "      <td>0.055722</td>\n",
       "      <td>0.715586</td>\n",
       "      <td>0.650307</td>\n",
       "      <td>-0.607345</td>\n",
       "      <td>0.118945</td>\n",
       "      <td>0.039793</td>\n",
       "    </tr>\n",
       "    <tr>\n",
       "      <th>pexpersq</th>\n",
       "      <td>0.017532</td>\n",
       "      <td>-0.117293</td>\n",
       "      <td>-0.097047</td>\n",
       "      <td>0.058074</td>\n",
       "      <td>0.042241</td>\n",
       "      <td>0.950177</td>\n",
       "      <td>-0.119911</td>\n",
       "      <td>0.044553</td>\n",
       "      <td>0.050780</td>\n",
       "      <td>-0.049051</td>\n",
       "      <td>0.005092</td>\n",
       "      <td>-0.101053</td>\n",
       "      <td>0.126250</td>\n",
       "      <td>0.055722</td>\n",
       "      <td>1.000000</td>\n",
       "      <td>-0.012224</td>\n",
       "      <td>-0.108627</td>\n",
       "      <td>-0.017532</td>\n",
       "      <td>0.939432</td>\n",
       "      <td>-0.020011</td>\n",
       "    </tr>\n",
       "    <tr>\n",
       "      <th>mleeduc</th>\n",
       "      <td>0.968409</td>\n",
       "      <td>0.655179</td>\n",
       "      <td>0.623823</td>\n",
       "      <td>0.643540</td>\n",
       "      <td>-0.065493</td>\n",
       "      <td>0.093248</td>\n",
       "      <td>0.681357</td>\n",
       "      <td>-0.059678</td>\n",
       "      <td>-0.553637</td>\n",
       "      <td>0.113314</td>\n",
       "      <td>0.501834</td>\n",
       "      <td>0.290483</td>\n",
       "      <td>-0.206383</td>\n",
       "      <td>0.715586</td>\n",
       "      <td>-0.012224</td>\n",
       "      <td>1.000000</td>\n",
       "      <td>0.490596</td>\n",
       "      <td>-0.968409</td>\n",
       "      <td>0.080770</td>\n",
       "      <td>-0.195227</td>\n",
       "    </tr>\n",
       "    <tr>\n",
       "      <th>mleeduc0</th>\n",
       "      <td>0.257803</td>\n",
       "      <td>0.801829</td>\n",
       "      <td>0.645673</td>\n",
       "      <td>0.662562</td>\n",
       "      <td>-0.090808</td>\n",
       "      <td>-0.088491</td>\n",
       "      <td>0.628150</td>\n",
       "      <td>-0.090296</td>\n",
       "      <td>-0.425075</td>\n",
       "      <td>0.137116</td>\n",
       "      <td>0.730835</td>\n",
       "      <td>0.054456</td>\n",
       "      <td>-0.355508</td>\n",
       "      <td>0.650307</td>\n",
       "      <td>-0.108627</td>\n",
       "      <td>0.490596</td>\n",
       "      <td>1.000000</td>\n",
       "      <td>-0.257803</td>\n",
       "      <td>-0.101742</td>\n",
       "      <td>0.024385</td>\n",
       "    </tr>\n",
       "    <tr>\n",
       "      <th>female</th>\n",
       "      <td>-1.000000</td>\n",
       "      <td>-0.497004</td>\n",
       "      <td>-0.506924</td>\n",
       "      <td>-0.523953</td>\n",
       "      <td>0.046633</td>\n",
       "      <td>-0.128718</td>\n",
       "      <td>-0.575732</td>\n",
       "      <td>0.040331</td>\n",
       "      <td>0.492231</td>\n",
       "      <td>-0.086404</td>\n",
       "      <td>-0.347291</td>\n",
       "      <td>-0.306505</td>\n",
       "      <td>0.127102</td>\n",
       "      <td>-0.607345</td>\n",
       "      <td>-0.017532</td>\n",
       "      <td>-0.968409</td>\n",
       "      <td>-0.257803</td>\n",
       "      <td>1.000000</td>\n",
       "      <td>-0.118674</td>\n",
       "      <td>0.223447</td>\n",
       "    </tr>\n",
       "    <tr>\n",
       "      <th>totexp</th>\n",
       "      <td>0.118674</td>\n",
       "      <td>-0.076261</td>\n",
       "      <td>-0.049301</td>\n",
       "      <td>0.108362</td>\n",
       "      <td>0.194359</td>\n",
       "      <td>0.986466</td>\n",
       "      <td>-0.060354</td>\n",
       "      <td>0.196850</td>\n",
       "      <td>-0.031095</td>\n",
       "      <td>-0.039910</td>\n",
       "      <td>0.004639</td>\n",
       "      <td>-0.018756</td>\n",
       "      <td>0.129676</td>\n",
       "      <td>0.118945</td>\n",
       "      <td>0.939432</td>\n",
       "      <td>0.080770</td>\n",
       "      <td>-0.101742</td>\n",
       "      <td>-0.118674</td>\n",
       "      <td>1.000000</td>\n",
       "      <td>-0.082264</td>\n",
       "    </tr>\n",
       "    <tr>\n",
       "      <th>education</th>\n",
       "      <td>-0.223447</td>\n",
       "      <td>0.098404</td>\n",
       "      <td>0.085467</td>\n",
       "      <td>0.058658</td>\n",
       "      <td>-0.001219</td>\n",
       "      <td>-0.083619</td>\n",
       "      <td>0.062965</td>\n",
       "      <td>-0.002770</td>\n",
       "      <td>0.547754</td>\n",
       "      <td>0.555969</td>\n",
       "      <td>-0.074640</td>\n",
       "      <td>-0.645709</td>\n",
       "      <td>-0.512914</td>\n",
       "      <td>0.039793</td>\n",
       "      <td>-0.020011</td>\n",
       "      <td>-0.195227</td>\n",
       "      <td>0.024385</td>\n",
       "      <td>0.223447</td>\n",
       "      <td>-0.082264</td>\n",
       "      <td>1.000000</td>\n",
       "    </tr>\n",
       "  </tbody>\n",
       "</table>\n",
       "</div>"
      ],
      "text/plain": [
       "               male      educ      wage     swage     exper    pexper  \\\n",
       "male       1.000000  0.497004  0.506924  0.523953 -0.046633  0.128718   \n",
       "educ       0.497004  1.000000  0.699165  0.699695 -0.053002 -0.068847   \n",
       "wage       0.506924  0.699165  1.000000  0.883653 -0.033213 -0.044684   \n",
       "swage      0.523953  0.699695  0.883653  1.000000 -0.102900  0.127616   \n",
       "exper     -0.046633 -0.053002 -0.033213 -0.102900  1.000000  0.030889   \n",
       "pexper     0.128718 -0.068847 -0.044684  0.127616  0.030889  1.000000   \n",
       "lwage      0.575732  0.742070  0.972472  0.863976 -0.013747 -0.059200   \n",
       "expersq   -0.040331 -0.050755 -0.026613 -0.101072  0.996419  0.034026   \n",
       "highgrad  -0.492231 -0.523056 -0.471430 -0.459583  0.005000 -0.032520   \n",
       "college    0.086404  0.300930  0.315528  0.254638  0.027792 -0.045312   \n",
       "grad       0.347291  0.635409  0.666035  0.729379 -0.090473  0.019850   \n",
       "polytech   0.306505  0.266501 -0.076975 -0.103921  0.028786 -0.023923   \n",
       "highdrop  -0.127102 -0.607454 -0.191300 -0.171535  0.018699  0.129009   \n",
       "lswage     0.607345  0.746220  0.881079  0.974248 -0.094895  0.137061   \n",
       "pexpersq   0.017532 -0.117293 -0.097047  0.058074  0.042241  0.950177   \n",
       "mleeduc    0.968409  0.655179  0.623823  0.643540 -0.065493  0.093248   \n",
       "mleeduc0   0.257803  0.801829  0.645673  0.662562 -0.090808 -0.088491   \n",
       "female    -1.000000 -0.497004 -0.506924 -0.523953  0.046633 -0.128718   \n",
       "totexp     0.118674 -0.076261 -0.049301  0.108362  0.194359  0.986466   \n",
       "education -0.223447  0.098404  0.085467  0.058658 -0.001219 -0.083619   \n",
       "\n",
       "              lwage   expersq  highgrad   college      grad  polytech  \\\n",
       "male       0.575732 -0.040331 -0.492231  0.086404  0.347291  0.306505   \n",
       "educ       0.742070 -0.050755 -0.523056  0.300930  0.635409  0.266501   \n",
       "wage       0.972472 -0.026613 -0.471430  0.315528  0.666035 -0.076975   \n",
       "swage      0.863976 -0.101072 -0.459583  0.254638  0.729379 -0.103921   \n",
       "exper     -0.013747  0.996419  0.005000  0.027792 -0.090473  0.028786   \n",
       "pexper    -0.059200  0.034026 -0.032520 -0.045312  0.019850 -0.023923   \n",
       "lwage      1.000000 -0.007910 -0.521729  0.339689  0.640391  0.002628   \n",
       "expersq   -0.007910  1.000000  0.002606  0.028147 -0.090420  0.031662   \n",
       "highgrad  -0.521729  0.002606  1.000000 -0.307742 -0.307742 -0.509588   \n",
       "college    0.339689  0.028147 -0.307742  1.000000 -0.135211 -0.223896   \n",
       "grad       0.640391 -0.090420 -0.307742 -0.135211  1.000000 -0.223896   \n",
       "polytech   0.002628  0.031662 -0.509588 -0.223896 -0.223896  1.000000   \n",
       "highdrop  -0.228743  0.017843 -0.245792 -0.107993 -0.107993 -0.178825   \n",
       "lswage     0.896176 -0.092813 -0.520416  0.293755  0.709237 -0.032361   \n",
       "pexpersq  -0.119911  0.044553  0.050780 -0.049051  0.005092 -0.101053   \n",
       "mleeduc    0.681357 -0.059678 -0.553637  0.113314  0.501834  0.290483   \n",
       "mleeduc0   0.628150 -0.090296 -0.425075  0.137116  0.730835  0.054456   \n",
       "female    -0.575732  0.040331  0.492231 -0.086404 -0.347291 -0.306505   \n",
       "totexp    -0.060354  0.196850 -0.031095 -0.039910  0.004639 -0.018756   \n",
       "education  0.062965 -0.002770  0.547754  0.555969 -0.074640 -0.645709   \n",
       "\n",
       "           highdrop    lswage  pexpersq   mleeduc  mleeduc0    female  \\\n",
       "male      -0.127102  0.607345  0.017532  0.968409  0.257803 -1.000000   \n",
       "educ      -0.607454  0.746220 -0.117293  0.655179  0.801829 -0.497004   \n",
       "wage      -0.191300  0.881079 -0.097047  0.623823  0.645673 -0.506924   \n",
       "swage     -0.171535  0.974248  0.058074  0.643540  0.662562 -0.523953   \n",
       "exper      0.018699 -0.094895  0.042241 -0.065493 -0.090808  0.046633   \n",
       "pexper     0.129009  0.137061  0.950177  0.093248 -0.088491 -0.128718   \n",
       "lwage     -0.228743  0.896176 -0.119911  0.681357  0.628150 -0.575732   \n",
       "expersq    0.017843 -0.092813  0.044553 -0.059678 -0.090296  0.040331   \n",
       "highgrad  -0.245792 -0.520416  0.050780 -0.553637 -0.425075  0.492231   \n",
       "college   -0.107993  0.293755 -0.049051  0.113314  0.137116 -0.086404   \n",
       "grad      -0.107993  0.709237  0.005092  0.501834  0.730835 -0.347291   \n",
       "polytech  -0.178825 -0.032361 -0.101053  0.290483  0.054456 -0.306505   \n",
       "highdrop   1.000000 -0.201098  0.126250 -0.206383 -0.355508  0.127102   \n",
       "lswage    -0.201098  1.000000  0.055722  0.715586  0.650307 -0.607345   \n",
       "pexpersq   0.126250  0.055722  1.000000 -0.012224 -0.108627 -0.017532   \n",
       "mleeduc   -0.206383  0.715586 -0.012224  1.000000  0.490596 -0.968409   \n",
       "mleeduc0  -0.355508  0.650307 -0.108627  0.490596  1.000000 -0.257803   \n",
       "female     0.127102 -0.607345 -0.017532 -0.968409 -0.257803  1.000000   \n",
       "totexp     0.129676  0.118945  0.939432  0.080770 -0.101742 -0.118674   \n",
       "education -0.512914  0.039793 -0.020011 -0.195227  0.024385  0.223447   \n",
       "\n",
       "             totexp  education  \n",
       "male       0.118674  -0.223447  \n",
       "educ      -0.076261   0.098404  \n",
       "wage      -0.049301   0.085467  \n",
       "swage      0.108362   0.058658  \n",
       "exper      0.194359  -0.001219  \n",
       "pexper     0.986466  -0.083619  \n",
       "lwage     -0.060354   0.062965  \n",
       "expersq    0.196850  -0.002770  \n",
       "highgrad  -0.031095   0.547754  \n",
       "college   -0.039910   0.555969  \n",
       "grad       0.004639  -0.074640  \n",
       "polytech  -0.018756  -0.645709  \n",
       "highdrop   0.129676  -0.512914  \n",
       "lswage     0.118945   0.039793  \n",
       "pexpersq   0.939432  -0.020011  \n",
       "mleeduc    0.080770  -0.195227  \n",
       "mleeduc0  -0.101742   0.024385  \n",
       "female    -0.118674   0.223447  \n",
       "totexp     1.000000  -0.082264  \n",
       "education -0.082264   1.000000  "
      ]
     },
     "execution_count": 35,
     "metadata": {},
     "output_type": "execute_result"
    }
   ],
   "source": [
    "engin.drop('sex', axis=1).corr()"
   ]
  },
  {
   "cell_type": "markdown",
   "metadata": {},
   "source": [
    "Let's drop some non-functional variables."
   ]
  },
  {
   "cell_type": "code",
   "execution_count": null,
   "metadata": {},
   "outputs": [
    {
     "data": {
      "text/html": [
       "<div>\n",
       "<style scoped>\n",
       "    .dataframe tbody tr th:only-of-type {\n",
       "        vertical-align: middle;\n",
       "    }\n",
       "\n",
       "    .dataframe tbody tr th {\n",
       "        vertical-align: top;\n",
       "    }\n",
       "\n",
       "    .dataframe thead th {\n",
       "        text-align: right;\n",
       "    }\n",
       "</style>\n",
       "<table border=\"1\" class=\"dataframe\">\n",
       "  <thead>\n",
       "    <tr style=\"text-align: right;\">\n",
       "      <th></th>\n",
       "      <th>male</th>\n",
       "      <th>educ</th>\n",
       "      <th>wage</th>\n",
       "      <th>swage</th>\n",
       "      <th>exper</th>\n",
       "      <th>expersq</th>\n",
       "      <th>highgrad</th>\n",
       "      <th>college</th>\n",
       "      <th>grad</th>\n",
       "      <th>polytech</th>\n",
       "      <th>pexpersq</th>\n",
       "      <th>female</th>\n",
       "      <th>totexp</th>\n",
       "      <th>education</th>\n",
       "    </tr>\n",
       "  </thead>\n",
       "  <tbody>\n",
       "    <tr>\n",
       "      <th>male</th>\n",
       "      <td>1.000000</td>\n",
       "      <td>0.497004</td>\n",
       "      <td>0.506924</td>\n",
       "      <td>0.523953</td>\n",
       "      <td>-0.046633</td>\n",
       "      <td>-0.040331</td>\n",
       "      <td>-0.492231</td>\n",
       "      <td>0.086404</td>\n",
       "      <td>0.347291</td>\n",
       "      <td>0.306505</td>\n",
       "      <td>0.017532</td>\n",
       "      <td>-1.000000</td>\n",
       "      <td>0.118674</td>\n",
       "      <td>-0.223447</td>\n",
       "    </tr>\n",
       "    <tr>\n",
       "      <th>educ</th>\n",
       "      <td>0.497004</td>\n",
       "      <td>1.000000</td>\n",
       "      <td>0.699165</td>\n",
       "      <td>0.699695</td>\n",
       "      <td>-0.053002</td>\n",
       "      <td>-0.050755</td>\n",
       "      <td>-0.523056</td>\n",
       "      <td>0.300930</td>\n",
       "      <td>0.635409</td>\n",
       "      <td>0.266501</td>\n",
       "      <td>-0.117293</td>\n",
       "      <td>-0.497004</td>\n",
       "      <td>-0.076261</td>\n",
       "      <td>0.098404</td>\n",
       "    </tr>\n",
       "    <tr>\n",
       "      <th>wage</th>\n",
       "      <td>0.506924</td>\n",
       "      <td>0.699165</td>\n",
       "      <td>1.000000</td>\n",
       "      <td>0.883653</td>\n",
       "      <td>-0.033213</td>\n",
       "      <td>-0.026613</td>\n",
       "      <td>-0.471430</td>\n",
       "      <td>0.315528</td>\n",
       "      <td>0.666035</td>\n",
       "      <td>-0.076975</td>\n",
       "      <td>-0.097047</td>\n",
       "      <td>-0.506924</td>\n",
       "      <td>-0.049301</td>\n",
       "      <td>0.085467</td>\n",
       "    </tr>\n",
       "    <tr>\n",
       "      <th>swage</th>\n",
       "      <td>0.523953</td>\n",
       "      <td>0.699695</td>\n",
       "      <td>0.883653</td>\n",
       "      <td>1.000000</td>\n",
       "      <td>-0.102900</td>\n",
       "      <td>-0.101072</td>\n",
       "      <td>-0.459583</td>\n",
       "      <td>0.254638</td>\n",
       "      <td>0.729379</td>\n",
       "      <td>-0.103921</td>\n",
       "      <td>0.058074</td>\n",
       "      <td>-0.523953</td>\n",
       "      <td>0.108362</td>\n",
       "      <td>0.058658</td>\n",
       "    </tr>\n",
       "    <tr>\n",
       "      <th>exper</th>\n",
       "      <td>-0.046633</td>\n",
       "      <td>-0.053002</td>\n",
       "      <td>-0.033213</td>\n",
       "      <td>-0.102900</td>\n",
       "      <td>1.000000</td>\n",
       "      <td>0.996419</td>\n",
       "      <td>0.005000</td>\n",
       "      <td>0.027792</td>\n",
       "      <td>-0.090473</td>\n",
       "      <td>0.028786</td>\n",
       "      <td>0.042241</td>\n",
       "      <td>0.046633</td>\n",
       "      <td>0.194359</td>\n",
       "      <td>-0.001219</td>\n",
       "    </tr>\n",
       "    <tr>\n",
       "      <th>expersq</th>\n",
       "      <td>-0.040331</td>\n",
       "      <td>-0.050755</td>\n",
       "      <td>-0.026613</td>\n",
       "      <td>-0.101072</td>\n",
       "      <td>0.996419</td>\n",
       "      <td>1.000000</td>\n",
       "      <td>0.002606</td>\n",
       "      <td>0.028147</td>\n",
       "      <td>-0.090420</td>\n",
       "      <td>0.031662</td>\n",
       "      <td>0.044553</td>\n",
       "      <td>0.040331</td>\n",
       "      <td>0.196850</td>\n",
       "      <td>-0.002770</td>\n",
       "    </tr>\n",
       "    <tr>\n",
       "      <th>highgrad</th>\n",
       "      <td>-0.492231</td>\n",
       "      <td>-0.523056</td>\n",
       "      <td>-0.471430</td>\n",
       "      <td>-0.459583</td>\n",
       "      <td>0.005000</td>\n",
       "      <td>0.002606</td>\n",
       "      <td>1.000000</td>\n",
       "      <td>-0.307742</td>\n",
       "      <td>-0.307742</td>\n",
       "      <td>-0.509588</td>\n",
       "      <td>0.050780</td>\n",
       "      <td>0.492231</td>\n",
       "      <td>-0.031095</td>\n",
       "      <td>0.547754</td>\n",
       "    </tr>\n",
       "    <tr>\n",
       "      <th>college</th>\n",
       "      <td>0.086404</td>\n",
       "      <td>0.300930</td>\n",
       "      <td>0.315528</td>\n",
       "      <td>0.254638</td>\n",
       "      <td>0.027792</td>\n",
       "      <td>0.028147</td>\n",
       "      <td>-0.307742</td>\n",
       "      <td>1.000000</td>\n",
       "      <td>-0.135211</td>\n",
       "      <td>-0.223896</td>\n",
       "      <td>-0.049051</td>\n",
       "      <td>-0.086404</td>\n",
       "      <td>-0.039910</td>\n",
       "      <td>0.555969</td>\n",
       "    </tr>\n",
       "    <tr>\n",
       "      <th>grad</th>\n",
       "      <td>0.347291</td>\n",
       "      <td>0.635409</td>\n",
       "      <td>0.666035</td>\n",
       "      <td>0.729379</td>\n",
       "      <td>-0.090473</td>\n",
       "      <td>-0.090420</td>\n",
       "      <td>-0.307742</td>\n",
       "      <td>-0.135211</td>\n",
       "      <td>1.000000</td>\n",
       "      <td>-0.223896</td>\n",
       "      <td>0.005092</td>\n",
       "      <td>-0.347291</td>\n",
       "      <td>0.004639</td>\n",
       "      <td>-0.074640</td>\n",
       "    </tr>\n",
       "    <tr>\n",
       "      <th>polytech</th>\n",
       "      <td>0.306505</td>\n",
       "      <td>0.266501</td>\n",
       "      <td>-0.076975</td>\n",
       "      <td>-0.103921</td>\n",
       "      <td>0.028786</td>\n",
       "      <td>0.031662</td>\n",
       "      <td>-0.509588</td>\n",
       "      <td>-0.223896</td>\n",
       "      <td>-0.223896</td>\n",
       "      <td>1.000000</td>\n",
       "      <td>-0.101053</td>\n",
       "      <td>-0.306505</td>\n",
       "      <td>-0.018756</td>\n",
       "      <td>-0.645709</td>\n",
       "    </tr>\n",
       "    <tr>\n",
       "      <th>pexpersq</th>\n",
       "      <td>0.017532</td>\n",
       "      <td>-0.117293</td>\n",
       "      <td>-0.097047</td>\n",
       "      <td>0.058074</td>\n",
       "      <td>0.042241</td>\n",
       "      <td>0.044553</td>\n",
       "      <td>0.050780</td>\n",
       "      <td>-0.049051</td>\n",
       "      <td>0.005092</td>\n",
       "      <td>-0.101053</td>\n",
       "      <td>1.000000</td>\n",
       "      <td>-0.017532</td>\n",
       "      <td>0.939432</td>\n",
       "      <td>-0.020011</td>\n",
       "    </tr>\n",
       "    <tr>\n",
       "      <th>female</th>\n",
       "      <td>-1.000000</td>\n",
       "      <td>-0.497004</td>\n",
       "      <td>-0.506924</td>\n",
       "      <td>-0.523953</td>\n",
       "      <td>0.046633</td>\n",
       "      <td>0.040331</td>\n",
       "      <td>0.492231</td>\n",
       "      <td>-0.086404</td>\n",
       "      <td>-0.347291</td>\n",
       "      <td>-0.306505</td>\n",
       "      <td>-0.017532</td>\n",
       "      <td>1.000000</td>\n",
       "      <td>-0.118674</td>\n",
       "      <td>0.223447</td>\n",
       "    </tr>\n",
       "    <tr>\n",
       "      <th>totexp</th>\n",
       "      <td>0.118674</td>\n",
       "      <td>-0.076261</td>\n",
       "      <td>-0.049301</td>\n",
       "      <td>0.108362</td>\n",
       "      <td>0.194359</td>\n",
       "      <td>0.196850</td>\n",
       "      <td>-0.031095</td>\n",
       "      <td>-0.039910</td>\n",
       "      <td>0.004639</td>\n",
       "      <td>-0.018756</td>\n",
       "      <td>0.939432</td>\n",
       "      <td>-0.118674</td>\n",
       "      <td>1.000000</td>\n",
       "      <td>-0.082264</td>\n",
       "    </tr>\n",
       "    <tr>\n",
       "      <th>education</th>\n",
       "      <td>-0.223447</td>\n",
       "      <td>0.098404</td>\n",
       "      <td>0.085467</td>\n",
       "      <td>0.058658</td>\n",
       "      <td>-0.001219</td>\n",
       "      <td>-0.002770</td>\n",
       "      <td>0.547754</td>\n",
       "      <td>0.555969</td>\n",
       "      <td>-0.074640</td>\n",
       "      <td>-0.645709</td>\n",
       "      <td>-0.020011</td>\n",
       "      <td>0.223447</td>\n",
       "      <td>-0.082264</td>\n",
       "      <td>1.000000</td>\n",
       "    </tr>\n",
       "  </tbody>\n",
       "</table>\n",
       "</div>"
      ],
      "text/plain": [
       "               male      educ      wage     swage     exper   expersq  \\\n",
       "male       1.000000  0.497004  0.506924  0.523953 -0.046633 -0.040331   \n",
       "educ       0.497004  1.000000  0.699165  0.699695 -0.053002 -0.050755   \n",
       "wage       0.506924  0.699165  1.000000  0.883653 -0.033213 -0.026613   \n",
       "swage      0.523953  0.699695  0.883653  1.000000 -0.102900 -0.101072   \n",
       "exper     -0.046633 -0.053002 -0.033213 -0.102900  1.000000  0.996419   \n",
       "expersq   -0.040331 -0.050755 -0.026613 -0.101072  0.996419  1.000000   \n",
       "highgrad  -0.492231 -0.523056 -0.471430 -0.459583  0.005000  0.002606   \n",
       "college    0.086404  0.300930  0.315528  0.254638  0.027792  0.028147   \n",
       "grad       0.347291  0.635409  0.666035  0.729379 -0.090473 -0.090420   \n",
       "polytech   0.306505  0.266501 -0.076975 -0.103921  0.028786  0.031662   \n",
       "pexpersq   0.017532 -0.117293 -0.097047  0.058074  0.042241  0.044553   \n",
       "female    -1.000000 -0.497004 -0.506924 -0.523953  0.046633  0.040331   \n",
       "totexp     0.118674 -0.076261 -0.049301  0.108362  0.194359  0.196850   \n",
       "education -0.223447  0.098404  0.085467  0.058658 -0.001219 -0.002770   \n",
       "\n",
       "           highgrad   college      grad  polytech  pexpersq    female  \\\n",
       "male      -0.492231  0.086404  0.347291  0.306505  0.017532 -1.000000   \n",
       "educ      -0.523056  0.300930  0.635409  0.266501 -0.117293 -0.497004   \n",
       "wage      -0.471430  0.315528  0.666035 -0.076975 -0.097047 -0.506924   \n",
       "swage     -0.459583  0.254638  0.729379 -0.103921  0.058074 -0.523953   \n",
       "exper      0.005000  0.027792 -0.090473  0.028786  0.042241  0.046633   \n",
       "expersq    0.002606  0.028147 -0.090420  0.031662  0.044553  0.040331   \n",
       "highgrad   1.000000 -0.307742 -0.307742 -0.509588  0.050780  0.492231   \n",
       "college   -0.307742  1.000000 -0.135211 -0.223896 -0.049051 -0.086404   \n",
       "grad      -0.307742 -0.135211  1.000000 -0.223896  0.005092 -0.347291   \n",
       "polytech  -0.509588 -0.223896 -0.223896  1.000000 -0.101053 -0.306505   \n",
       "pexpersq   0.050780 -0.049051  0.005092 -0.101053  1.000000 -0.017532   \n",
       "female     0.492231 -0.086404 -0.347291 -0.306505 -0.017532  1.000000   \n",
       "totexp    -0.031095 -0.039910  0.004639 -0.018756  0.939432 -0.118674   \n",
       "education  0.547754  0.555969 -0.074640 -0.645709 -0.020011  0.223447   \n",
       "\n",
       "             totexp  education  \n",
       "male       0.118674  -0.223447  \n",
       "educ      -0.076261   0.098404  \n",
       "wage      -0.049301   0.085467  \n",
       "swage      0.108362   0.058658  \n",
       "exper      0.194359  -0.001219  \n",
       "expersq    0.196850  -0.002770  \n",
       "highgrad  -0.031095   0.547754  \n",
       "college   -0.039910   0.555969  \n",
       "grad       0.004639  -0.074640  \n",
       "polytech  -0.018756  -0.645709  \n",
       "pexpersq   0.939432  -0.020011  \n",
       "female    -0.118674   0.223447  \n",
       "totexp     1.000000  -0.082264  \n",
       "education -0.082264   1.000000  "
      ]
     },
     "execution_count": 36,
     "metadata": {},
     "output_type": "execute_result"
    }
   ],
   "source": [
    "new_engin=engin.drop(labels=[\"highdrop\", \"lswage\", \"pexper\", \"lwage\", \"mleeduc\", \"mleeduc0\", \"sex\"], axis=1)\n",
    "new_engin.corr()"
   ]
  },
  {
   "cell_type": "markdown",
   "metadata": {},
   "source": [
    "Eventually, we also look at the correlation matrix of the restricted dataset (matrix is made of absolute values of correlation, just to have an easier color reading).  \n",
    "As we can see, the variables male, education, wage and starting wage are sligthly correlated. "
   ]
  },
  {
   "cell_type": "code",
   "execution_count": null,
   "metadata": {},
   "outputs": [
    {
     "data": {
      "application/vnd.plotly.v1+json": {
       "config": {
        "plotlyServerURL": "https://plot.ly"
       },
       "data": [
        {
         "coloraxis": "coloraxis",
         "hovertemplate": "x: %{x}<br>y: %{y}<br>color: %{z}<extra></extra>",
         "name": "0",
         "type": "heatmap",
         "x": [
          "male",
          "educ",
          "wage",
          "swage",
          "exper",
          "expersq",
          "highgrad",
          "college",
          "grad",
          "polytech",
          "pexpersq",
          "female",
          "totexp",
          "education"
         ],
         "xaxis": "x",
         "y": [
          "male",
          "educ",
          "wage",
          "swage",
          "exper",
          "expersq",
          "highgrad",
          "college",
          "grad",
          "polytech",
          "pexpersq",
          "female",
          "totexp",
          "education"
         ],
         "yaxis": "y",
         "z": [
          [
           1,
           0.49700381783641545,
           0.5069241670059353,
           0.5239528025010675,
           0.04663257920104344,
           0.04033059141045353,
           0.49223079026508093,
           0.08640385083232392,
           0.34729092974473047,
           0.30650451290442027,
           0.017531748088502677,
           0.9999999999999997,
           0.11867374644493862,
           0.22344660299969946
          ],
          [
           0.49700381783641545,
           1,
           0.6991653158358485,
           0.6996954284975668,
           0.05300185251269645,
           0.05075458395475092,
           0.5230563028385261,
           0.30093020707465123,
           0.6354091386843614,
           0.2665008503830437,
           0.1172928837384241,
           0.49700381783641545,
           0.07626074774619788,
           0.09840356945176373
          ],
          [
           0.5069241670059353,
           0.6991653158358485,
           1,
           0.8836534125955631,
           0.03321251319944146,
           0.026612894758259314,
           0.4714299658982061,
           0.31552840582721886,
           0.6660352394370223,
           0.07697513329576698,
           0.09704722463762196,
           0.5069241670059353,
           0.04930115943442103,
           0.08546651951605073
          ],
          [
           0.5239528025010675,
           0.6996954284975668,
           0.8836534125955631,
           1,
           0.10289992951359801,
           0.10107224144908772,
           0.45958266932631814,
           0.25463815859249384,
           0.7293788174923392,
           0.10392125759044386,
           0.05807379434917185,
           0.5239528025010676,
           0.10836249037777644,
           0.058657511047094275
          ],
          [
           0.04663257920104344,
           0.05300185251269645,
           0.03321251319944146,
           0.10289992951359801,
           1,
           0.9964194713420926,
           0.005000024732019883,
           0.02779195683735285,
           0.09047330806183977,
           0.02878605292122892,
           0.04224090981240503,
           0.04663257920104337,
           0.19435894870177356,
           0.0012190134018586788
          ],
          [
           0.04033059141045353,
           0.05075458395475092,
           0.026612894758259314,
           0.10107224144908772,
           0.9964194713420926,
           1,
           0.002606200584210667,
           0.02814709534767475,
           0.09042039725664541,
           0.03166203169430557,
           0.044552926739713755,
           0.040330591410453566,
           0.19684983729444297,
           0.0027701408632025194
          ],
          [
           0.49223079026508093,
           0.5230563028385261,
           0.4714299658982061,
           0.45958266932631814,
           0.005000024732019883,
           0.002606200584210667,
           1,
           0.3077416749348544,
           0.3077416749348547,
           0.5095883077596841,
           0.050780463831902295,
           0.4922307902650808,
           0.03109461841087401,
           0.5477535160799946
          ],
          [
           0.08640385083232392,
           0.30093020707465123,
           0.31552840582721886,
           0.25463815859249384,
           0.02779195683735285,
           0.02814709534767475,
           0.3077416749348544,
           1,
           0.13521126760563382,
           0.22389584076899083,
           0.049051211191948454,
           0.08640385083232395,
           0.03991047212796955,
           0.5559690518987292
          ],
          [
           0.34729092974473047,
           0.6354091386843614,
           0.6660352394370223,
           0.7293788174923392,
           0.09047330806183977,
           0.09042039725664541,
           0.3077416749348547,
           0.13521126760563382,
           1,
           0.22389584076899072,
           0.005092463689071407,
           0.34729092974473064,
           0.004639342766126558,
           0.07464037088536273
          ],
          [
           0.30650451290442027,
           0.2665008503830437,
           0.07697513329576698,
           0.10392125759044386,
           0.02878605292122892,
           0.03166203169430557,
           0.5095883077596841,
           0.22389584076899083,
           0.22389584076899072,
           1,
           0.10105345626311522,
           0.3065045129044202,
           0.018756118897394588,
           0.6457086276631883
          ],
          [
           0.017531748088502677,
           0.1172928837384241,
           0.09704722463762196,
           0.05807379434917185,
           0.04224090981240503,
           0.044552926739713755,
           0.050780463831902295,
           0.049051211191948454,
           0.005092463689071407,
           0.10105345626311522,
           1,
           0.017531748088502705,
           0.939431699920339,
           0.02001074244952277
          ],
          [
           0.9999999999999997,
           0.49700381783641545,
           0.5069241670059353,
           0.5239528025010676,
           0.04663257920104337,
           0.040330591410453566,
           0.4922307902650808,
           0.08640385083232395,
           0.34729092974473064,
           0.3065045129044202,
           0.017531748088502705,
           1,
           0.11867374644493865,
           0.22344660299969948
          ],
          [
           0.11867374644493862,
           0.07626074774619788,
           0.04930115943442103,
           0.10836249037777644,
           0.19435894870177356,
           0.19684983729444297,
           0.03109461841087401,
           0.03991047212796955,
           0.004639342766126558,
           0.018756118897394588,
           0.939431699920339,
           0.11867374644493865,
           1,
           0.08226367852657147
          ],
          [
           0.22344660299969946,
           0.09840356945176373,
           0.08546651951605073,
           0.058657511047094275,
           0.0012190134018586788,
           0.0027701408632025194,
           0.5477535160799946,
           0.5559690518987292,
           0.07464037088536273,
           0.6457086276631883,
           0.02001074244952277,
           0.22344660299969948,
           0.08226367852657147,
           1
          ]
         ]
        }
       ],
       "layout": {
        "coloraxis": {
         "colorscale": [
          [
           0,
           "#0d0887"
          ],
          [
           0.1111111111111111,
           "#46039f"
          ],
          [
           0.2222222222222222,
           "#7201a8"
          ],
          [
           0.3333333333333333,
           "#9c179e"
          ],
          [
           0.4444444444444444,
           "#bd3786"
          ],
          [
           0.5555555555555556,
           "#d8576b"
          ],
          [
           0.6666666666666666,
           "#ed7953"
          ],
          [
           0.7777777777777778,
           "#fb9f3a"
          ],
          [
           0.8888888888888888,
           "#fdca26"
          ],
          [
           1,
           "#f0f921"
          ]
         ]
        },
        "margin": {
         "t": 60
        },
        "template": {
         "data": {
          "bar": [
           {
            "error_x": {
             "color": "#2a3f5f"
            },
            "error_y": {
             "color": "#2a3f5f"
            },
            "marker": {
             "line": {
              "color": "#E5ECF6",
              "width": 0.5
             },
             "pattern": {
              "fillmode": "overlay",
              "size": 10,
              "solidity": 0.2
             }
            },
            "type": "bar"
           }
          ],
          "barpolar": [
           {
            "marker": {
             "line": {
              "color": "#E5ECF6",
              "width": 0.5
             },
             "pattern": {
              "fillmode": "overlay",
              "size": 10,
              "solidity": 0.2
             }
            },
            "type": "barpolar"
           }
          ],
          "carpet": [
           {
            "aaxis": {
             "endlinecolor": "#2a3f5f",
             "gridcolor": "white",
             "linecolor": "white",
             "minorgridcolor": "white",
             "startlinecolor": "#2a3f5f"
            },
            "baxis": {
             "endlinecolor": "#2a3f5f",
             "gridcolor": "white",
             "linecolor": "white",
             "minorgridcolor": "white",
             "startlinecolor": "#2a3f5f"
            },
            "type": "carpet"
           }
          ],
          "choropleth": [
           {
            "colorbar": {
             "outlinewidth": 0,
             "ticks": ""
            },
            "type": "choropleth"
           }
          ],
          "contour": [
           {
            "colorbar": {
             "outlinewidth": 0,
             "ticks": ""
            },
            "colorscale": [
             [
              0,
              "#0d0887"
             ],
             [
              0.1111111111111111,
              "#46039f"
             ],
             [
              0.2222222222222222,
              "#7201a8"
             ],
             [
              0.3333333333333333,
              "#9c179e"
             ],
             [
              0.4444444444444444,
              "#bd3786"
             ],
             [
              0.5555555555555556,
              "#d8576b"
             ],
             [
              0.6666666666666666,
              "#ed7953"
             ],
             [
              0.7777777777777778,
              "#fb9f3a"
             ],
             [
              0.8888888888888888,
              "#fdca26"
             ],
             [
              1,
              "#f0f921"
             ]
            ],
            "type": "contour"
           }
          ],
          "contourcarpet": [
           {
            "colorbar": {
             "outlinewidth": 0,
             "ticks": ""
            },
            "type": "contourcarpet"
           }
          ],
          "heatmap": [
           {
            "colorbar": {
             "outlinewidth": 0,
             "ticks": ""
            },
            "colorscale": [
             [
              0,
              "#0d0887"
             ],
             [
              0.1111111111111111,
              "#46039f"
             ],
             [
              0.2222222222222222,
              "#7201a8"
             ],
             [
              0.3333333333333333,
              "#9c179e"
             ],
             [
              0.4444444444444444,
              "#bd3786"
             ],
             [
              0.5555555555555556,
              "#d8576b"
             ],
             [
              0.6666666666666666,
              "#ed7953"
             ],
             [
              0.7777777777777778,
              "#fb9f3a"
             ],
             [
              0.8888888888888888,
              "#fdca26"
             ],
             [
              1,
              "#f0f921"
             ]
            ],
            "type": "heatmap"
           }
          ],
          "heatmapgl": [
           {
            "colorbar": {
             "outlinewidth": 0,
             "ticks": ""
            },
            "colorscale": [
             [
              0,
              "#0d0887"
             ],
             [
              0.1111111111111111,
              "#46039f"
             ],
             [
              0.2222222222222222,
              "#7201a8"
             ],
             [
              0.3333333333333333,
              "#9c179e"
             ],
             [
              0.4444444444444444,
              "#bd3786"
             ],
             [
              0.5555555555555556,
              "#d8576b"
             ],
             [
              0.6666666666666666,
              "#ed7953"
             ],
             [
              0.7777777777777778,
              "#fb9f3a"
             ],
             [
              0.8888888888888888,
              "#fdca26"
             ],
             [
              1,
              "#f0f921"
             ]
            ],
            "type": "heatmapgl"
           }
          ],
          "histogram": [
           {
            "marker": {
             "pattern": {
              "fillmode": "overlay",
              "size": 10,
              "solidity": 0.2
             }
            },
            "type": "histogram"
           }
          ],
          "histogram2d": [
           {
            "colorbar": {
             "outlinewidth": 0,
             "ticks": ""
            },
            "colorscale": [
             [
              0,
              "#0d0887"
             ],
             [
              0.1111111111111111,
              "#46039f"
             ],
             [
              0.2222222222222222,
              "#7201a8"
             ],
             [
              0.3333333333333333,
              "#9c179e"
             ],
             [
              0.4444444444444444,
              "#bd3786"
             ],
             [
              0.5555555555555556,
              "#d8576b"
             ],
             [
              0.6666666666666666,
              "#ed7953"
             ],
             [
              0.7777777777777778,
              "#fb9f3a"
             ],
             [
              0.8888888888888888,
              "#fdca26"
             ],
             [
              1,
              "#f0f921"
             ]
            ],
            "type": "histogram2d"
           }
          ],
          "histogram2dcontour": [
           {
            "colorbar": {
             "outlinewidth": 0,
             "ticks": ""
            },
            "colorscale": [
             [
              0,
              "#0d0887"
             ],
             [
              0.1111111111111111,
              "#46039f"
             ],
             [
              0.2222222222222222,
              "#7201a8"
             ],
             [
              0.3333333333333333,
              "#9c179e"
             ],
             [
              0.4444444444444444,
              "#bd3786"
             ],
             [
              0.5555555555555556,
              "#d8576b"
             ],
             [
              0.6666666666666666,
              "#ed7953"
             ],
             [
              0.7777777777777778,
              "#fb9f3a"
             ],
             [
              0.8888888888888888,
              "#fdca26"
             ],
             [
              1,
              "#f0f921"
             ]
            ],
            "type": "histogram2dcontour"
           }
          ],
          "mesh3d": [
           {
            "colorbar": {
             "outlinewidth": 0,
             "ticks": ""
            },
            "type": "mesh3d"
           }
          ],
          "parcoords": [
           {
            "line": {
             "colorbar": {
              "outlinewidth": 0,
              "ticks": ""
             }
            },
            "type": "parcoords"
           }
          ],
          "pie": [
           {
            "automargin": true,
            "type": "pie"
           }
          ],
          "scatter": [
           {
            "fillpattern": {
             "fillmode": "overlay",
             "size": 10,
             "solidity": 0.2
            },
            "type": "scatter"
           }
          ],
          "scatter3d": [
           {
            "line": {
             "colorbar": {
              "outlinewidth": 0,
              "ticks": ""
             }
            },
            "marker": {
             "colorbar": {
              "outlinewidth": 0,
              "ticks": ""
             }
            },
            "type": "scatter3d"
           }
          ],
          "scattercarpet": [
           {
            "marker": {
             "colorbar": {
              "outlinewidth": 0,
              "ticks": ""
             }
            },
            "type": "scattercarpet"
           }
          ],
          "scattergeo": [
           {
            "marker": {
             "colorbar": {
              "outlinewidth": 0,
              "ticks": ""
             }
            },
            "type": "scattergeo"
           }
          ],
          "scattergl": [
           {
            "marker": {
             "colorbar": {
              "outlinewidth": 0,
              "ticks": ""
             }
            },
            "type": "scattergl"
           }
          ],
          "scattermapbox": [
           {
            "marker": {
             "colorbar": {
              "outlinewidth": 0,
              "ticks": ""
             }
            },
            "type": "scattermapbox"
           }
          ],
          "scatterpolar": [
           {
            "marker": {
             "colorbar": {
              "outlinewidth": 0,
              "ticks": ""
             }
            },
            "type": "scatterpolar"
           }
          ],
          "scatterpolargl": [
           {
            "marker": {
             "colorbar": {
              "outlinewidth": 0,
              "ticks": ""
             }
            },
            "type": "scatterpolargl"
           }
          ],
          "scatterternary": [
           {
            "marker": {
             "colorbar": {
              "outlinewidth": 0,
              "ticks": ""
             }
            },
            "type": "scatterternary"
           }
          ],
          "surface": [
           {
            "colorbar": {
             "outlinewidth": 0,
             "ticks": ""
            },
            "colorscale": [
             [
              0,
              "#0d0887"
             ],
             [
              0.1111111111111111,
              "#46039f"
             ],
             [
              0.2222222222222222,
              "#7201a8"
             ],
             [
              0.3333333333333333,
              "#9c179e"
             ],
             [
              0.4444444444444444,
              "#bd3786"
             ],
             [
              0.5555555555555556,
              "#d8576b"
             ],
             [
              0.6666666666666666,
              "#ed7953"
             ],
             [
              0.7777777777777778,
              "#fb9f3a"
             ],
             [
              0.8888888888888888,
              "#fdca26"
             ],
             [
              1,
              "#f0f921"
             ]
            ],
            "type": "surface"
           }
          ],
          "table": [
           {
            "cells": {
             "fill": {
              "color": "#EBF0F8"
             },
             "line": {
              "color": "white"
             }
            },
            "header": {
             "fill": {
              "color": "#C8D4E3"
             },
             "line": {
              "color": "white"
             }
            },
            "type": "table"
           }
          ]
         },
         "layout": {
          "annotationdefaults": {
           "arrowcolor": "#2a3f5f",
           "arrowhead": 0,
           "arrowwidth": 1
          },
          "autotypenumbers": "strict",
          "coloraxis": {
           "colorbar": {
            "outlinewidth": 0,
            "ticks": ""
           }
          },
          "colorscale": {
           "diverging": [
            [
             0,
             "#8e0152"
            ],
            [
             0.1,
             "#c51b7d"
            ],
            [
             0.2,
             "#de77ae"
            ],
            [
             0.3,
             "#f1b6da"
            ],
            [
             0.4,
             "#fde0ef"
            ],
            [
             0.5,
             "#f7f7f7"
            ],
            [
             0.6,
             "#e6f5d0"
            ],
            [
             0.7,
             "#b8e186"
            ],
            [
             0.8,
             "#7fbc41"
            ],
            [
             0.9,
             "#4d9221"
            ],
            [
             1,
             "#276419"
            ]
           ],
           "sequential": [
            [
             0,
             "#0d0887"
            ],
            [
             0.1111111111111111,
             "#46039f"
            ],
            [
             0.2222222222222222,
             "#7201a8"
            ],
            [
             0.3333333333333333,
             "#9c179e"
            ],
            [
             0.4444444444444444,
             "#bd3786"
            ],
            [
             0.5555555555555556,
             "#d8576b"
            ],
            [
             0.6666666666666666,
             "#ed7953"
            ],
            [
             0.7777777777777778,
             "#fb9f3a"
            ],
            [
             0.8888888888888888,
             "#fdca26"
            ],
            [
             1,
             "#f0f921"
            ]
           ],
           "sequentialminus": [
            [
             0,
             "#0d0887"
            ],
            [
             0.1111111111111111,
             "#46039f"
            ],
            [
             0.2222222222222222,
             "#7201a8"
            ],
            [
             0.3333333333333333,
             "#9c179e"
            ],
            [
             0.4444444444444444,
             "#bd3786"
            ],
            [
             0.5555555555555556,
             "#d8576b"
            ],
            [
             0.6666666666666666,
             "#ed7953"
            ],
            [
             0.7777777777777778,
             "#fb9f3a"
            ],
            [
             0.8888888888888888,
             "#fdca26"
            ],
            [
             1,
             "#f0f921"
            ]
           ]
          },
          "colorway": [
           "#636efa",
           "#EF553B",
           "#00cc96",
           "#ab63fa",
           "#FFA15A",
           "#19d3f3",
           "#FF6692",
           "#B6E880",
           "#FF97FF",
           "#FECB52"
          ],
          "font": {
           "color": "#2a3f5f"
          },
          "geo": {
           "bgcolor": "white",
           "lakecolor": "white",
           "landcolor": "#E5ECF6",
           "showlakes": true,
           "showland": true,
           "subunitcolor": "white"
          },
          "hoverlabel": {
           "align": "left"
          },
          "hovermode": "closest",
          "mapbox": {
           "style": "light"
          },
          "paper_bgcolor": "white",
          "plot_bgcolor": "#E5ECF6",
          "polar": {
           "angularaxis": {
            "gridcolor": "white",
            "linecolor": "white",
            "ticks": ""
           },
           "bgcolor": "#E5ECF6",
           "radialaxis": {
            "gridcolor": "white",
            "linecolor": "white",
            "ticks": ""
           }
          },
          "scene": {
           "xaxis": {
            "backgroundcolor": "#E5ECF6",
            "gridcolor": "white",
            "gridwidth": 2,
            "linecolor": "white",
            "showbackground": true,
            "ticks": "",
            "zerolinecolor": "white"
           },
           "yaxis": {
            "backgroundcolor": "#E5ECF6",
            "gridcolor": "white",
            "gridwidth": 2,
            "linecolor": "white",
            "showbackground": true,
            "ticks": "",
            "zerolinecolor": "white"
           },
           "zaxis": {
            "backgroundcolor": "#E5ECF6",
            "gridcolor": "white",
            "gridwidth": 2,
            "linecolor": "white",
            "showbackground": true,
            "ticks": "",
            "zerolinecolor": "white"
           }
          },
          "shapedefaults": {
           "line": {
            "color": "#2a3f5f"
           }
          },
          "ternary": {
           "aaxis": {
            "gridcolor": "white",
            "linecolor": "white",
            "ticks": ""
           },
           "baxis": {
            "gridcolor": "white",
            "linecolor": "white",
            "ticks": ""
           },
           "bgcolor": "#E5ECF6",
           "caxis": {
            "gridcolor": "white",
            "linecolor": "white",
            "ticks": ""
           }
          },
          "title": {
           "x": 0.05
          },
          "xaxis": {
           "automargin": true,
           "gridcolor": "white",
           "linecolor": "white",
           "ticks": "",
           "title": {
            "standoff": 15
           },
           "zerolinecolor": "white",
           "zerolinewidth": 2
          },
          "yaxis": {
           "automargin": true,
           "gridcolor": "white",
           "linecolor": "white",
           "ticks": "",
           "title": {
            "standoff": 15
           },
           "zerolinecolor": "white",
           "zerolinewidth": 2
          }
         }
        },
        "xaxis": {
         "anchor": "y",
         "constrain": "domain",
         "domain": [
          0,
          1
         ],
         "scaleanchor": "y"
        },
        "yaxis": {
         "anchor": "x",
         "autorange": "reversed",
         "constrain": "domain",
         "domain": [
          0,
          1
         ]
        }
       }
      }
     },
     "metadata": {},
     "output_type": "display_data"
    }
   ],
   "source": [
    "px.imshow(abs(new_engin.corr()))"
   ]
  },
  {
   "cell_type": "markdown",
   "metadata": {},
   "source": [
    "We finally perform an OLS analysis taking into consideration the dummy variable of the dataset. The variables used in order to conduct the analysis are:  \n",
    "1. wage \n",
    "2. male\n",
    "3. educ\n",
    "4. swage\n",
    "5. exper\n",
    "6. expersq\n"
   ]
  },
  {
   "cell_type": "code",
   "execution_count": null,
   "metadata": {},
   "outputs": [
    {
     "data": {
      "text/html": [
       "<table class=\"simpletable\">\n",
       "<caption>OLS Regression Results</caption>\n",
       "<tr>\n",
       "  <th>Dep. Variable:</th>          <td>wage</td>       <th>  R-squared:         </th> <td>   0.801</td> \n",
       "</tr>\n",
       "<tr>\n",
       "  <th>Model:</th>                   <td>OLS</td>       <th>  Adj. R-squared:    </th> <td>   0.798</td> \n",
       "</tr>\n",
       "<tr>\n",
       "  <th>Method:</th>             <td>Least Squares</td>  <th>  F-statistic:       </th> <td>   319.1</td> \n",
       "</tr>\n",
       "<tr>\n",
       "  <th>Date:</th>             <td>Fri, 05 Jan 2024</td> <th>  Prob (F-statistic):</th> <td>1.28e-136</td>\n",
       "</tr>\n",
       "<tr>\n",
       "  <th>Time:</th>                 <td>15:50:48</td>     <th>  Log-Likelihood:    </th> <td> -4172.8</td> \n",
       "</tr>\n",
       "<tr>\n",
       "  <th>No. Observations:</th>      <td>   403</td>      <th>  AIC:               </th> <td>   8358.</td> \n",
       "</tr>\n",
       "<tr>\n",
       "  <th>Df Residuals:</th>          <td>   397</td>      <th>  BIC:               </th> <td>   8382.</td> \n",
       "</tr>\n",
       "<tr>\n",
       "  <th>Df Model:</th>              <td>     5</td>      <th>                     </th>     <td> </td>    \n",
       "</tr>\n",
       "<tr>\n",
       "  <th>Covariance Type:</th>      <td>nonrobust</td>    <th>                     </th>     <td> </td>    \n",
       "</tr>\n",
       "</table>\n",
       "<table class=\"simpletable\">\n",
       "<tr>\n",
       "        <td></td>          <th>coef</th>     <th>std err</th>      <th>t</th>      <th>P>|t|</th>  <th>[0.025</th>    <th>0.975]</th>  \n",
       "</tr>\n",
       "<tr>\n",
       "  <th>Intercept</th>    <td> 2.895e+04</td> <td> 1.75e+04</td> <td>    1.651</td> <td> 0.100</td> <td>-5528.691</td> <td> 6.34e+04</td>\n",
       "</tr>\n",
       "<tr>\n",
       "  <th>C(male)[T.1]</th> <td>  968.0431</td> <td>  920.528</td> <td>    1.052</td> <td> 0.294</td> <td> -841.676</td> <td> 2777.763</td>\n",
       "</tr>\n",
       "<tr>\n",
       "  <th>educ</th>         <td>  907.4793</td> <td>  197.221</td> <td>    4.601</td> <td> 0.000</td> <td>  519.751</td> <td> 1295.207</td>\n",
       "</tr>\n",
       "<tr>\n",
       "  <th>swage</th>        <td>    1.7202</td> <td>    0.073</td> <td>   23.448</td> <td> 0.000</td> <td>    1.576</td> <td>    1.864</td>\n",
       "</tr>\n",
       "<tr>\n",
       "  <th>exper</th>        <td>-6081.3418</td> <td> 2586.473</td> <td>   -2.351</td> <td> 0.019</td> <td>-1.12e+04</td> <td> -996.446</td>\n",
       "</tr>\n",
       "<tr>\n",
       "  <th>expersq</th>      <td>  244.6214</td> <td>   95.245</td> <td>    2.568</td> <td> 0.011</td> <td>   57.373</td> <td>  431.870</td>\n",
       "</tr>\n",
       "</table>\n",
       "<table class=\"simpletable\">\n",
       "<tr>\n",
       "  <th>Omnibus:</th>       <td>202.320</td> <th>  Durbin-Watson:     </th> <td>   2.009</td>\n",
       "</tr>\n",
       "<tr>\n",
       "  <th>Prob(Omnibus):</th> <td> 0.000</td>  <th>  Jarque-Bera (JB):  </th> <td>1635.670</td>\n",
       "</tr>\n",
       "<tr>\n",
       "  <th>Skew:</th>          <td> 1.978</td>  <th>  Prob(JB):          </th> <td>    0.00</td>\n",
       "</tr>\n",
       "<tr>\n",
       "  <th>Kurtosis:</th>      <td>12.042</td>  <th>  Cond. No.          </th> <td>8.73e+05</td>\n",
       "</tr>\n",
       "</table><br/><br/>Notes:<br/>[1] Standard Errors assume that the covariance matrix of the errors is correctly specified.<br/>[2] The condition number is large, 8.73e+05. This might indicate that there are<br/>strong multicollinearity or other numerical problems."
      ],
      "text/latex": [
       "\\begin{center}\n",
       "\\begin{tabular}{lclc}\n",
       "\\toprule\n",
       "\\textbf{Dep. Variable:}    &       wage       & \\textbf{  R-squared:         } &     0.801   \\\\\n",
       "\\textbf{Model:}            &       OLS        & \\textbf{  Adj. R-squared:    } &     0.798   \\\\\n",
       "\\textbf{Method:}           &  Least Squares   & \\textbf{  F-statistic:       } &     319.1   \\\\\n",
       "\\textbf{Date:}             & Fri, 05 Jan 2024 & \\textbf{  Prob (F-statistic):} & 1.28e-136   \\\\\n",
       "\\textbf{Time:}             &     15:50:48     & \\textbf{  Log-Likelihood:    } &   -4172.8   \\\\\n",
       "\\textbf{No. Observations:} &         403      & \\textbf{  AIC:               } &     8358.   \\\\\n",
       "\\textbf{Df Residuals:}     &         397      & \\textbf{  BIC:               } &     8382.   \\\\\n",
       "\\textbf{Df Model:}         &           5      & \\textbf{                     } &             \\\\\n",
       "\\textbf{Covariance Type:}  &    nonrobust     & \\textbf{                     } &             \\\\\n",
       "\\bottomrule\n",
       "\\end{tabular}\n",
       "\\begin{tabular}{lcccccc}\n",
       "                      & \\textbf{coef} & \\textbf{std err} & \\textbf{t} & \\textbf{P$> |$t$|$} & \\textbf{[0.025} & \\textbf{0.975]}  \\\\\n",
       "\\midrule\n",
       "\\textbf{Intercept}    &    2.895e+04  &     1.75e+04     &     1.651  &         0.100        &    -5528.691    &     6.34e+04     \\\\\n",
       "\\textbf{C(male)[T.1]} &     968.0431  &      920.528     &     1.052  &         0.294        &     -841.676    &     2777.763     \\\\\n",
       "\\textbf{educ}         &     907.4793  &      197.221     &     4.601  &         0.000        &      519.751    &     1295.207     \\\\\n",
       "\\textbf{swage}        &       1.7202  &        0.073     &    23.448  &         0.000        &        1.576    &        1.864     \\\\\n",
       "\\textbf{exper}        &   -6081.3418  &     2586.473     &    -2.351  &         0.019        &    -1.12e+04    &     -996.446     \\\\\n",
       "\\textbf{expersq}      &     244.6214  &       95.245     &     2.568  &         0.011        &       57.373    &      431.870     \\\\\n",
       "\\bottomrule\n",
       "\\end{tabular}\n",
       "\\begin{tabular}{lclc}\n",
       "\\textbf{Omnibus:}       & 202.320 & \\textbf{  Durbin-Watson:     } &    2.009  \\\\\n",
       "\\textbf{Prob(Omnibus):} &   0.000 & \\textbf{  Jarque-Bera (JB):  } & 1635.670  \\\\\n",
       "\\textbf{Skew:}          &   1.978 & \\textbf{  Prob(JB):          } &     0.00  \\\\\n",
       "\\textbf{Kurtosis:}      &  12.042 & \\textbf{  Cond. No.          } & 8.73e+05  \\\\\n",
       "\\bottomrule\n",
       "\\end{tabular}\n",
       "%\\caption{OLS Regression Results}\n",
       "\\end{center}\n",
       "\n",
       "Notes: \\newline\n",
       " [1] Standard Errors assume that the covariance matrix of the errors is correctly specified. \\newline\n",
       " [2] The condition number is large, 8.73e+05. This might indicate that there are \\newline\n",
       " strong multicollinearity or other numerical problems."
      ],
      "text/plain": [
       "<class 'statsmodels.iolib.summary.Summary'>\n",
       "\"\"\"\n",
       "                            OLS Regression Results                            \n",
       "==============================================================================\n",
       "Dep. Variable:                   wage   R-squared:                       0.801\n",
       "Model:                            OLS   Adj. R-squared:                  0.798\n",
       "Method:                 Least Squares   F-statistic:                     319.1\n",
       "Date:                Fri, 05 Jan 2024   Prob (F-statistic):          1.28e-136\n",
       "Time:                        15:50:48   Log-Likelihood:                -4172.8\n",
       "No. Observations:                 403   AIC:                             8358.\n",
       "Df Residuals:                     397   BIC:                             8382.\n",
       "Df Model:                           5                                         \n",
       "Covariance Type:            nonrobust                                         \n",
       "================================================================================\n",
       "                   coef    std err          t      P>|t|      [0.025      0.975]\n",
       "--------------------------------------------------------------------------------\n",
       "Intercept     2.895e+04   1.75e+04      1.651      0.100   -5528.691    6.34e+04\n",
       "C(male)[T.1]   968.0431    920.528      1.052      0.294    -841.676    2777.763\n",
       "educ           907.4793    197.221      4.601      0.000     519.751    1295.207\n",
       "swage            1.7202      0.073     23.448      0.000       1.576       1.864\n",
       "exper        -6081.3418   2586.473     -2.351      0.019   -1.12e+04    -996.446\n",
       "expersq        244.6214     95.245      2.568      0.011      57.373     431.870\n",
       "==============================================================================\n",
       "Omnibus:                      202.320   Durbin-Watson:                   2.009\n",
       "Prob(Omnibus):                  0.000   Jarque-Bera (JB):             1635.670\n",
       "Skew:                           1.978   Prob(JB):                         0.00\n",
       "Kurtosis:                      12.042   Cond. No.                     8.73e+05\n",
       "==============================================================================\n",
       "\n",
       "Notes:\n",
       "[1] Standard Errors assume that the covariance matrix of the errors is correctly specified.\n",
       "[2] The condition number is large, 8.73e+05. This might indicate that there are\n",
       "strong multicollinearity or other numerical problems.\n",
       "\"\"\""
      ]
     },
     "execution_count": 38,
     "metadata": {},
     "output_type": "execute_result"
    }
   ],
   "source": [
    "from statsmodels.formula.api import ols\n",
    "\n",
    "fit = ols('wage ~ C(male) + educ + swage + exper + expersq', data=engin).fit() \n",
    "\n",
    "fit.summary()"
   ]
  },
  {
   "cell_type": "markdown",
   "metadata": {},
   "source": [
    "From the conducted analysis, we can see that the R-squared coefficient is equal to 0.801. This leads us to infer that a significant portion of the outcome for the dependent variable is explained by the independent variables in the model.\n",
    "As said in the OLS model plot, the condition number is large, 8.73e+05. This might indicate that there are strong multicollinearity, as we have seen before from the correlation matrix."
   ]
  },
  {
   "cell_type": "markdown",
   "metadata": {},
   "source": [
    "We now write a code that fits a regression model with the dependent variable \"wage\" and the independent variable \"highdrop\" (indicating whether the individual does not have a high school degree).  To examine the impact of not having a high school degree (\"highdrop\") on wages we analyze the results."
   ]
  },
  {
   "cell_type": "code",
   "execution_count": null,
   "metadata": {},
   "outputs": [
    {
     "name": "stdout",
     "output_type": "stream",
     "text": [
      "                            OLS Regression Results                            \n",
      "==============================================================================\n",
      "Dep. Variable:                   wage   R-squared:                       0.037\n",
      "Model:                            OLS   Adj. R-squared:                  0.034\n",
      "Method:                 Least Squares   F-statistic:                     15.23\n",
      "Date:                Fri, 05 Jan 2024   Prob (F-statistic):           0.000111\n",
      "Time:                        16:18:52   Log-Likelihood:                -4490.4\n",
      "No. Observations:                 403   AIC:                             8985.\n",
      "Df Residuals:                     401   BIC:                             8993.\n",
      "Df Model:                           1                                         \n",
      "Covariance Type:            nonrobust                                         \n",
      "==============================================================================\n",
      "                 coef    std err          t      P>|t|      [0.025      0.975]\n",
      "------------------------------------------------------------------------------\n",
      "constant    3.564e+04    869.495     40.989      0.000    3.39e+04    3.73e+04\n",
      "highdrop   -1.204e+04   3085.636     -3.903      0.000   -1.81e+04   -5976.770\n",
      "==============================================================================\n",
      "Omnibus:                      145.180   Durbin-Watson:                   1.676\n",
      "Prob(Omnibus):                  0.000   Jarque-Bera (JB):              375.690\n",
      "Skew:                           1.794   Prob(JB):                     2.63e-82\n",
      "Kurtosis:                       6.083   Cond. No.                         3.72\n",
      "==============================================================================\n",
      "\n",
      "Notes:\n",
      "[1] Standard Errors assume that the covariance matrix of the errors is correctly specified.\n"
     ]
    }
   ],
   "source": [
    "engin['constant'] = 1\n",
    "\n",
    "model = sm.OLS(engin['wage'], engin[['constant', 'highdrop']])\n",
    "results = model.fit()\n",
    "\n",
    "print(results.summary())"
   ]
  },
  {
   "cell_type": "markdown",
   "metadata": {},
   "source": [
    "The R-squared value is 0.037, which means that the model explains about 3.7% of the variation in wages. \n",
    "The F-statistic tests the overall significance of the model. With a p-value of 0.000111, the model is considered statistically significant.\n",
    "The coefficient for \"highdrop\" is -12,040. This indicates that, on average, individuals without a high school degree earn approximately $12,040 less in wages compared to those with a high school degree.\n",
    "The p-value for \"highdrop\" is less than 0.001, indicating that the variable is statistically significant in predicting wages.\n",
    "\n",
    "Not having a high school degree has a statistically significant negative impact on wages.\n"
   ]
  }
 ],
 "metadata": {
  "kernelspec": {
   "display_name": "Python 3",
   "language": "python",
   "name": "python3"
  },
  "language_info": {
   "codemirror_mode": {
    "name": "ipython",
    "version": 3
   },
   "file_extension": ".py",
   "mimetype": "text/x-python",
   "name": "python",
   "nbconvert_exporter": "python",
   "pygments_lexer": "ipython3",
   "version": "3.12.1"
  }
 },
 "nbformat": 4,
 "nbformat_minor": 2
}
